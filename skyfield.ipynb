{
 "cells": [
  {
   "cell_type": "code",
   "execution_count": 42,
   "metadata": {},
   "outputs": [
    {
     "name": "stdout",
     "output_type": "stream",
     "text": [
      "[-17.89999962]\n",
      "50\n",
      "[  1.   2.   3.   4.   5.   6.   7.   8.   9.  10.  11.  12.  13.  14.  15.\n",
      "  16.  17.  18.  19.  20.  21.  22.  23.  24.  25.  26.  27.  28.  29.  30.\n",
      "  31.  32.  33.  34.  35.  36.  37.  38.  39.  40.  41.  42.  43.  44.  45.\n",
      "  46.  47.  48.  49.  50.]\n"
     ]
    }
   ],
   "source": [
    "from skyfield.api import Star, load, Angle\n",
    "import numpy as np\n",
    "import matplotlib.pyplot as plt\n",
    "import lensutils as util \n",
    "import sqlutil as sqlutil\n",
    "from astropy.time import Time \n",
    "\n",
    "mas_to_deg = 0.0000002777777\n",
    "\n",
    "SourcePPMXLid = 6197608744359075309\n",
    "TGASLensId = 5332606518269523072\n",
    "GaiaSourceId = 5332606346467258496\n",
    "\n",
    "querystringGAIASource = 'select ra, dec from gaia_dr1.gaia_source where source_id=' + str(GaiaSourceId)\n",
    "querystringTGAS = 'select ra, dec,pmra,pmdec,parallax from gaia_dr1.tgas_source where source_id=' + str(TGASLensId)\n",
    "querystringPPMXL ='select pmra,pmdec from ppmxl.main where id=' + str(SourcePPMXLid)\n",
    "\n",
    "\n",
    "lensRa, lensDec,pmra,pmdec,parallax = sqlutil.get(querystringTGAS,\n",
    "                       db='wsdb',host='cappc127.ast.cam.ac.uk', user='peter_mcgill', password='Ln3g.wsk')\n",
    "spmra,spmdec = sqlutil.get(querystringPPMXL,\n",
    "                       db='wsdb',host='cappc127.ast.cam.ac.uk', user='peter_mcgill', password='Ln3g.wsk')\n",
    "sourceRa, sourceDec = sqlutil.get(querystringGAIASource,\n",
    "                       db='wsdb',host='cappc127.ast.cam.ac.uk', user='peter_mcgill', password='Ln3g.wsk')\n",
    "planets = load('de421.bsp')\n",
    "earth = planets['earth']\n",
    "\n",
    "\n",
    "print(spmdec)\n",
    "#compute position of lens at epoch 2000.0\n",
    "raCosDec = (lensRa*np.cos(np.deg2rad(lensDec))) + (2000.0 - 2015.0)* pmra * mas_to_deg\n",
    "dec2000 = lensDec + (2000.0 - 2015.0) * pmdec * mas_to_deg\n",
    "ra2000 = raCosDec / np.cos(np.deg2rad(lensDec))\n",
    "\n",
    "#compute position of source at epoch 2000.0\n",
    "sraCosDec = (sourceRa*np.cos(np.deg2rad(sourceDec))) + (2000.0 - 2015.0)* spmra * mas_to_deg\n",
    "sdec2000 = sourceDec + (2000.0 - 2015.0) * spmdec * mas_to_deg\n",
    "sra2000 = sraCosDec / np.cos(np.deg2rad(sourceDec))\n",
    "\n",
    "lens = Star(ra=Angle(degrees=lensRa[0]),\n",
    "               dec=Angle(degrees=lensDec[0]),\n",
    "               ra_mas_per_year=pmra[0],\n",
    "               dec_mas_per_year=pmdec[0],\n",
    "               parallax_mas=parallax[0])\n",
    "\n",
    "source = Star(ra=Angle(degrees=sourceRa[0]),\n",
    "               dec=Angle(degrees=sourceDec[0]),\n",
    "               ra_mas_per_year=spmra[0],\n",
    "               dec_mas_per_year=spmdec[0],\n",
    "               parallax_mas=0)\n",
    "\n",
    "ts = load.timescale()\n",
    "t = ts.utc(2003,range(0,50))\n",
    "\n",
    "ravals = []\n",
    "decvals = []\n",
    "ravalsSource = []\n",
    "decvalsSource = []\n",
    "time = []\n",
    "\n",
    "#\n",
    "timearray = np.linspace(1,50,num=50)\n",
    "\n",
    "\n",
    "\n",
    "\n",
    "for i in range(0,50):\n",
    "    astrometric = earth.at(t[i]).observe(lens)\n",
    "    rai, deci, distancesa = astrometric.radec()\n",
    "    \n",
    "    astrometricSource = earth.at(t[i]).observe(source)\n",
    "    ras, decs, distancess = astrometricSource.radec()\n",
    "    \n",
    "    ravals = np.append(ravals,rai._degrees)\n",
    "    decvals= np.append(decvals,deci._degrees)\n",
    "    \n",
    "    ravalsSource = np.append(ravalsSource,ras._degrees)\n",
    "    decvalsSource = np.append(decvalsSource,decs._degrees)\n",
    "    \n",
    "print(len(ravals))\n",
    "print(timearray)"
   ]
  },
  {
   "cell_type": "code",
   "execution_count": 48,
   "metadata": {},
   "outputs": [
    {
     "data": {
      "image/png": "[encoded data removed]",
      "text/plain": [
       "<matplotlib.figure.Figure at 0x10bdaaef0>"
      ]
     },
     "metadata": {},
     "output_type": "display_data"
    }
   ],
   "source": [
    "plt.scatter((ravals-sourceRa)*np.cos(np.deg2rad(sourceDec))/mas_to_deg,(decvals-sourceDec)/mas_to_deg,s=2)\n",
    "plt.scatter((ravalsSource-sourceRa)*np.cos(np.deg2rad(sourceDec))/mas_to_deg,(decvalsSource-sourceDec)/mas_to_deg,s=0.5)\n",
    "dist = np.hypot((ravals-ravalsSource)*np.cos(np.deg2rad(sourceDec)),decvals-decvalsSource) / mas_to_deg\n",
    "minpos = np.argmin(dist)\n",
    "plt.scatter((ravals[minpos]-sourceRa)*np.cos(np.deg2rad(sourceDec))/mas_to_deg,(decvals[minpos]-sourceDec)/mas_to_deg,s=2)\n",
    "plt.show()"
   ]
  },
  {
   "cell_type": "code",
   "execution_count": 49,
   "metadata": {},
   "outputs": [
    {
     "data": {
      "image/png": "[encoded data removed]",
      "text/plain": [
       "<matplotlib.figure.Figure at 0x10be99208>"
      ]
     },
     "metadata": {},
     "output_type": "display_data"
    },
    {
     "ename": "TypeError",
     "evalue": "scatter() missing 2 required positional arguments: 'x' and 'y'",
     "output_type": "error",
     "traceback": [
      "\u001b[0;31m---------------------------------------------------------------------------\u001b[0m",
      "\u001b[0;31mTypeError\u001b[0m                                 Traceback (most recent call last)",
      "\u001b[0;32m<ipython-input-49-f1dff0ad28d3>\u001b[0m in \u001b[0;36m<module>\u001b[0;34m()\u001b[0m\n\u001b[1;32m     12\u001b[0m \u001b[0mplt\u001b[0m\u001b[0;34m.\u001b[0m\u001b[0mplot\u001b[0m\u001b[0;34m(\u001b[0m\u001b[0mtimearray\u001b[0m\u001b[0;34m,\u001b[0m\u001b[0mdist\u001b[0m\u001b[0;34m)\u001b[0m\u001b[0;34m\u001b[0m\u001b[0m\n\u001b[1;32m     13\u001b[0m \u001b[0mplt\u001b[0m\u001b[0;34m.\u001b[0m\u001b[0mshow\u001b[0m\u001b[0;34m(\u001b[0m\u001b[0;34m)\u001b[0m\u001b[0;34m\u001b[0m\u001b[0m\n\u001b[0;32m---> 14\u001b[0;31m \u001b[0mplt\u001b[0m\u001b[0;34m.\u001b[0m\u001b[0mscatter\u001b[0m\u001b[0;34m(\u001b[0m\u001b[0;34m)\u001b[0m\u001b[0;34m\u001b[0m\u001b[0m\n\u001b[0m",
      "\u001b[0;31mTypeError\u001b[0m: scatter() missing 2 required positional arguments: 'x' and 'y'"
     ]
    }
   ],
   "source": [
    "\n",
    "time = str(t.utc_datetime())\n",
    "#print(time)\n",
    "\n",
    "#julianyeartimes = [2002.9993155373031,2003.0841889117044,2003.160848733744,2003.2457221081452,\n",
    "#                   2003.3278576317591,2003.4127310061601,2003.494866529774,2003.5797399041753,\n",
    "#                    2003.6646132785763,2003.7467488021903,2003.8316221765913,2003.9137577002055,\n",
    "#                  2003.9986310746065,2004.0835044490075,2004.1629021218343,2004.2477754962354,\n",
    "#                   2004.3299110198493,2004.4147843942505,2004.4969199178645,2004.5817932922655,\n",
    "#                   2004.6666666666667,2004.7488021902807,2004.833675564681,2004.9158110882956]\n",
    "plt.clf()\n",
    "plt.plot(timearray,dist)\n",
    "plt.show()\n",
    "plt.scatter()"
   ]
  },
  {
   "cell_type": "code",
   "execution_count": 14,
   "metadata": {},
   "outputs": [
    {
     "name": "stdout",
     "output_type": "stream",
     "text": [
      "2004.9158110882956\n"
     ]
    }
   ],
   "source": [
    "timeast = Time('2004-12-01')\n",
    "timeast.format = 'jyear'\n",
    "print(timeast)"
   ]
  },
  {
   "cell_type": "code",
   "execution_count": null,
   "metadata": {},
   "outputs": [],
   "source": []
  }
 ],
 "metadata": {
  "kernelspec": {
   "display_name": "Python 3",
   "language": "python",
   "name": "python3"
  }
 },
 "nbformat": 4,
 "nbformat_minor": 2
}
