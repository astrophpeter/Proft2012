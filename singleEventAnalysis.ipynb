{
 "cells": [
  {
   "cell_type": "code",
   "execution_count": 1,
   "metadata": {},
   "outputs": [],
   "source": [
    "from astropy.table import Table\n",
    "from lens import Lens\n",
    "from astropy.io import fits\n",
    "import sqlutil as sqlutil \n",
    "import matplotlib.pyplot as plt\n",
    "import numpy as np\n",
    "from astropy.io import ascii\n",
    "import lensutils as util\n",
    "import numpy as np"
   ]
  },
  {
   "cell_type": "code",
   "execution_count": 2,
   "metadata": {},
   "outputs": [],
   "source": [
    "TGASLensId = 5332606518269523072\n",
    "SourcePPMXLid = 6197608744359075309\n",
    "GaiaSourceId = 5332606346467258496\n",
    "\n",
    "querystringAPASS = 'select vjmag,bjmag,gmag,rmag, imag from gaia_dr1_aux.gaia_source_apass_xm where source_id=' + str(TGASLensId)\n",
    "querystringTGAS = 'select ra, dec, source_id,pmra,pmdec,ref_epoch,phot_g_mean_mag,parallax,ra,dec from gaia_dr1.tgas_source where source_id=' + str(TGASLensId)\n",
    "querystringPPMXL ='select ra, dec, id,Kmag, Jmag,pmra,pmdec from ppmxl.main where id=' + str(SourcePPMXLid)\n",
    "querystringGAIASource = 'select ra, dec, source_id,pmra,pmdec,ref_epoch,phot_g_mean_mag,parallax from gaia_dr1.gaia_source where source_id=' + str(GaiaSourceId)\n",
    "queryStringTGASS2mass = 'select j_m,h_m,k_m from gaia_dr1_aux.gaia_source_2mass_xm where source_id=' + str(TGASLensId)\n",
    "queryStringTGASSDSS = 'select cmodelmag_u, cmodelmag_g ,cmodelmag_r, cmodelmag_i, cmodelmag_z from gaia_dr1_aux.gaia_source_sdssdr9_xm where source_id=' + str(TGASLensId)\n",
    "source = Table.read('../Desktop/tgas_dist_all_v01.csv',format='csv')\n",
    "sourcemask = source['3:SourceId'] == TGASLensId\n",
    "source = source[sourcemask]\n",
    "lensDist = source['19:rMo[pc]'][0]"
   ]
  },
  {
   "cell_type": "code",
   "execution_count": 3,
   "metadata": {},
   "outputs": [
    {
     "name": "stdout",
     "output_type": "stream",
     "text": [
      "Lens Gmag,pmra,pmdec,lensDist,ra,dec:[ 11.41018521][ 2662.03572627][-345.18255501][ 215.7823335]4.634313168[ 176.4549073][-64.84295714]\n",
      "PPMXL Source Ra,Dec,kmag,Jmag,pmra,pmdec,parallax: [ 176.463694][-64.843343][ 15.22099972][ 16.16300011][-19.5][-17.89999962]\n",
      "GAIA Source Ra,Dec,Gmag,Parallax: [ 176.46360456][-64.84329779][ 18.46490291][ nan][ nan][ nan]\n",
      "TGAS lens 2mass bands j h k: [ 15.87899971][ 15.38599968][ 15.11900043]\n",
      "TGAS lens SDSS bands ugriz: [][][][][]\n",
      "TGAS lens apass bands vj,bj,g,r: [][][][]\n"
     ]
    }
   ],
   "source": [
    "lensRa, lensDec, id,pmra,pmdec,ref_epoch,gMag,parallax,ra,dec = sqlutil.get(querystringTGAS,\n",
    "                       db='wsdb',host='cappc127.ast.cam.ac.uk', user='peter_mcgill', password='Ln3g.wsk')\n",
    "print('Lens Gmag,pmra,pmdec,lensDist,ra,dec:' + str(gMag) + str(pmra) + str(pmdec)+str(parallax)+str(lensDist)+str(ra)+str(dec))\n",
    "\n",
    "sourceRa,sourceDec,sourceId,kmag,jmag,spmra,spmdec = sqlutil.get(querystringPPMXL,\n",
    "                       db='wsdb',host='cappc127.ast.cam.ac.uk', user='peter_mcgill', password='Ln3g.wsk')\n",
    "print('PPMXL Source Ra,Dec,kmag,Jmag,pmra,pmdec,parallax: '+str(sourceRa)+str(sourceDec)+str(kmag)+str(jmag)+str(spmra)+str(spmdec))\n",
    "\n",
    "\n",
    "GsourceRa, GsourceDec, id,sourcepmra,sourcepmdec,ref_epoch,sourcegMag,parallax = sqlutil.get(querystringGAIASource,db='wsdb',host='cappc127.ast.cam.ac.uk', user='peter_mcgill', password='Ln3g.wsk')\n",
    "print('GAIA Source Ra,Dec,Gmag,Parallax: '+str(GsourceRa)+str(GsourceDec)+str(sourcegMag)+str(sourcepmra)+str(sourcepmdec)+str(parallax))\n",
    "\n",
    "lensj , lensh, lensk = sqlutil.get(queryStringTGASS2mass,\n",
    "                       db='wsdb',host='cappc127.ast.cam.ac.uk', user='peter_mcgill', password='Ln3g.wsk')\n",
    "print('TGAS lens 2mass bands j h k: ' + str(lensj) + str(lensh) + str(lensk)) \n",
    "\n",
    "lensu , lensg, lensr, lensi,lensz = sqlutil.get(queryStringTGASSDSS,\n",
    "                       db='wsdb',host='cappc127.ast.cam.ac.uk', user='peter_mcgill', password='Ln3g.wsk')\n",
    "print('TGAS lens SDSS bands ugriz: ' + str(lensu) + str(lensg) + str(lensr) + str(lensi)+str(lensz)) \n",
    "\n",
    "vjmag,bjmag,gmag,rmag, imag = sqlutil.get(querystringAPASS,\n",
    "                       db='wsdb',host='cappc127.ast.cam.ac.uk', user='peter_mcgill', password='Ln3g.wsk')\n",
    "print('TGAS lens apass bands vj,bj,g,r: ' + str(vjmag) + str(bjmag)+str(gmag)+str(rmag))\n"
   ]
  },
  {
   "cell_type": "code",
   "execution_count": 19,
   "metadata": {},
   "outputs": [
    {
     "name": "stdout",
     "output_type": "stream",
     "text": [
      "13.2205590499\n",
      "1.43488637117\n"
     ]
    },
    {
     "data": {
      "text/plain": [
       "4.6736813298180921"
      ]
     },
     "execution_count": 19,
     "metadata": {},
     "output_type": "execute_result"
    }
   ],
   "source": [
    "util.calc_centroid_shift(0.1,lensDist,18.97)"
   ]
  },
  {
   "cell_type": "code",
   "execution_count": 21,
   "metadata": {},
   "outputs": [
    {
     "name": "stdout",
     "output_type": "stream",
     "text": [
      "29.5620687362\n",
      "0.641700693185\n"
     ]
    },
    {
     "data": {
      "text/plain": [
       "7.8655605956185477"
      ]
     },
     "execution_count": 21,
     "metadata": {},
     "output_type": "execute_result"
    }
   ],
   "source": [
    "\n",
    "util.calc_centroid_shift(0.5,lensDist,18.97)\n"
   ]
  },
  {
   "cell_type": "code",
   "execution_count": 23,
   "metadata": {},
   "outputs": [
    {
     "name": "stdout",
     "output_type": "stream",
     "text": [
      "41.8070785385\n",
      "0.453750911643\n"
     ]
    },
    {
     "data": {
      "text/plain": [
       "8.599703950578002"
      ]
     },
     "execution_count": 23,
     "metadata": {},
     "output_type": "execute_result"
    }
   ],
   "source": [
    "util.calc_centroid_shift(1.0,lensDist,18.97)\n"
   ]
  },
  {
   "cell_type": "code",
   "execution_count": 15,
   "metadata": {},
   "outputs": [
    {
     "data": {
      "text/plain": [
       "0.48486949153218706"
      ]
     },
     "execution_count": 15,
     "metadata": {},
     "output_type": "execute_result"
    }
   ],
   "source": [
    "util.calc_centroid_shift(1.0,lensDist,0.97)"
   ]
  },
  {
   "cell_type": "code",
   "execution_count": 14,
   "metadata": {},
   "outputs": [],
   "source": [
    "goodlens = Lens(5332606518269523072,176.4549073,-64.84295714,2662.03572627,-345.18255501,2015.0)"
   ]
  },
  {
   "cell_type": "code",
   "execution_count": 15,
   "metadata": {},
   "outputs": [],
   "source": [
    "time = goodlens.get_time_closest_app_sourcepm(176.46360456,-64.84329779,-19.5,-17.89999962)\n",
    "dist = goodlens.get_dist_closest_app_sourcepm(176.46360456,-64.84329779,-19.5,-17.89999962)"
   ]
  },
  {
   "cell_type": "code",
   "execution_count": 18,
   "metadata": {},
   "outputs": [
    {
     "name": "stdout",
     "output_type": "stream",
     "text": [
      "2018.68950929\n",
      "18.9680317634\n"
     ]
    }
   ],
   "source": [
    "print(time)\n",
    "print(dist)"
   ]
  },
  {
   "cell_type": "code",
   "execution_count": 12,
   "metadata": {},
   "outputs": [],
   "source": [
    "TGASLensId = 5332606518269523072\n",
    "querystringTGAS2massLens = 'select j_m,k_m,parallax,phot_g_mean_mag from gaia_dr1_aux.gaia_source_2mass_xm where source_id=' + str(TGASLensId)\n",
    "\n",
    "JmagLens,kMagLens,parallaxLens,gMagLens = sqlutil.get(querystringTGAS2massLens,\n",
    "                       db='wsdb',host='cappc127.ast.cam.ac.uk', user='peter_mcgill', password='Ln3g.wsk')"
   ]
  },
  {
   "cell_type": "code",
   "execution_count": 15,
   "metadata": {},
   "outputs": [],
   "source": [
    "absMagLens = gMagLens + 5 * (np.log10(parallaxLens / 1000.0) + 1)\n",
    "colorLens = JmagLens - kMagLens"
   ]
  },
  {
   "cell_type": "code",
   "execution_count": 16,
   "metadata": {},
   "outputs": [
    {
     "name": "stdout",
     "output_type": "stream",
     "text": [
      "[ 13.08026463]\n",
      "[ 0.75999928]\n"
     ]
    }
   ],
   "source": [
    "print(absMagLens)\n",
    "print(colorLens)"
   ]
  },
  {
   "cell_type": "code",
   "execution_count": 9,
   "metadata": {},
   "outputs": [
    {
     "name": "stdout",
     "output_type": "stream",
     "text": [
      "[ 0.37699986  0.70699978  0.7329998  ...,  0.29100037  0.33500004\n",
      "  0.33600044]\n"
     ]
    }
   ],
   "source": [
    "querystringTGAS2mass= 'select j_m,k_m,parallax,phot_g_mean_mag from gaia_dr1_aux.gaia_source_2mass_xm where parallax > 0.0001 and j_m > 0.0001 and k_m > 0.0001 limit 100000'\n",
    "\n",
    "Jmag,kMag,parallax,gMag = sqlutil.get(querystringTGAS2mass,\n",
    "                       db='wsdb',host='cappc127.ast.cam.ac.uk', user='peter_mcgill', password='Ln3g.wsk')\n",
    "\n",
    "color = Jmag-kMag\n",
    "#nanmask = np.isnan(parallax)\n",
    "\n",
    "#colorf = color[~nanmask]\n",
    "#parallaxf = parallax[~nanmask]\n",
    "#gMagf = gMag[~nanmask]\n",
    "\n",
    "absmag = gMag + 5 * (np.log10(parallax / 1000.0) + 1)\n",
    "\n",
    "print(color)"
   ]
  },
  {
   "cell_type": "code",
   "execution_count": 25,
   "metadata": {},
   "outputs": [],
   "source": [
    "\n"
   ]
  },
  {
   "cell_type": "code",
   "execution_count": 8,
   "metadata": {},
   "outputs": [
    {
     "name": "stdout",
     "output_type": "stream",
     "text": [
      "[ 0.75800037  0.63899994  0.53700066 ...,  1.03299999  1.43899918\n",
      "  1.08199978]\n"
     ]
    }
   ],
   "source": [
    "print(Jmag-kMag)"
   ]
  },
  {
   "cell_type": "code",
   "execution_count": 2,
   "metadata": {},
   "outputs": [],
   "source": [
    "util.lens_on_color_mag(5332606518269523072,'test.png')"
   ]
  },
  {
   "cell_type": "code",
   "execution_count": null,
   "metadata": {},
   "outputs": [],
   "source": []
  }
 ],
 "metadata": {
  "kernelspec": {
   "display_name": "Python 3",
   "language": "python",
   "name": "python3"
  },
  "language_info": {
   "codemirror_mode": {
    "name": "ipython",
    "version": 3
   },
   "file_extension": ".py",
   "mimetype": "text/x-python",
   "name": "python",
   "nbconvert_exporter": "python",
   "pygments_lexer": "ipython3",
   "version": "3.6.3"
  }
 },
 "nbformat": 4,
 "nbformat_minor": 2
}
