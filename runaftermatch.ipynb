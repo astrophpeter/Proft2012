{
 "cells": [
  {
   "cell_type": "code",
   "execution_count": 1,
   "metadata": {},
   "outputs": [],
   "source": [
    "from astropy.table import Table\n",
    "from lens import Lens\n",
    "from astropy.io import fits\n",
    "import sqlutil as sqlutil \n",
    "import matplotlib.pyplot as plt\n",
    "import numpy as np\n",
    "from astropy.io import ascii"
   ]
  },
  {
   "cell_type": "code",
   "execution_count": 2,
   "metadata": {},
   "outputs": [],
   "source": [
    "#candidates = Table.read('data/TGAShpmppmxl0150con.fits')\n",
    "\n",
    "candidates = Table.read('candidates.txt',format='ascii')\n",
    "\n",
    "#candidates = Table.read('data/table2')\n",
    "\n"
   ]
  },
  {
   "cell_type": "code",
   "execution_count": 3,
   "metadata": {},
   "outputs": [
    {
     "data": {
      "image/png": "[encoded data removed]",
      "text/plain": [
       "<matplotlib.figure.Figure at 0x105aaafd0>"
      ]
     },
     "metadata": {},
     "output_type": "display_data"
    },
    {
     "name": "stdout",
     "output_type": "stream",
     "text": [
      "2013.57018477\n",
      "0.000130186019338\n"
     ]
    }
   ],
   "source": [
    "TGASlensid = candidates['TGAS_id']\n",
    "ppmxlid = candidates['ppmxl_id']\n",
    "#TGASlensid = candidates['source_id']\n",
    "#ppmxlid = candidates['ipix']\n",
    "\n",
    "count = 0\n",
    "Cand_TGASid = []\n",
    "Cand_ppmxlid = []\n",
    "\n",
    "\n",
    "for i in range(4,5):\n",
    "    \n",
    "    querystringTGAS = 'select ra, dec, source_id,pmra,pmdec,ref_epoch from gaia_dr1.tgas_source where source_id=' + str(TGASlensid[i])\n",
    "    querystringPPMXL ='select ra, dec, id from ppmxl.main where id=' + str(ppmxlid[i])\n",
    "\n",
    "    lensRa, lensDec, id,pmra,pmdec,ref_epoch = sqlutil.get(querystringTGAS,\n",
    "                       db='wsdb',host='cappc127.ast.cam.ac.uk', user='peter_mcgill', password='Ln3g.wsk')\n",
    "\n",
    "    sourceRa, sourceDec,sourceId = sqlutil.get(querystringPPMXL,\n",
    "                       db='wsdb',host='cappc127.ast.cam.ac.uk', user='peter_mcgill', password='Ln3g.wsk')\n",
    "    \n",
    "    testlens1 = Lens(id[0],lensRa[0],lensDec[0],pmra[0],pmdec[0],ref_epoch[0])\n",
    "                     \n",
    "                     \n",
    "    if (testlens1.is_coord_in_box(sourceRa[0],sourceDec[0])):\n",
    "        \n",
    "        lensidstring = 'plots/' + str(id[0]) + '.png'\n",
    "        \n",
    "        pos1 = testlens1.get_eq_coords_at_epoch(2009.0)\n",
    "        pos2 = testlens1.get_eq_coords_at_epoch(2025.0)\n",
    "        \n",
    "        box = np.transpose(testlens1.get_lens_box())\n",
    "        boxjX = np.append(box[0],box[0][0])\n",
    "        boxjY = np.append(box[1],box[1][0])\n",
    "        \n",
    "        timeCl = testlens1.get_time_of_closest_app(sourceRa[0],sourceDec[0])\n",
    "        distance = testlens1.get_angular_separation_at_epoch(timeCl,sourceRa[0],sourceDec[0])\n",
    "        \n",
    "        posClose = testlens1.get_eq_coords_at_epoch(timeCl)\n",
    "        \n",
    "        plt.fill_between(boxjX,boxjY,alpha=0.3,label='Background source search window')\n",
    "        plt.xlim(min(box[0]) - 0.0001,max(box[0]) + 0.0001)\n",
    "        plt.ylim(min(box[1]) - 0.0001,max(box[1]) + 0.0001)\n",
    "        plt.ylabel(r'$\\delta$')\n",
    "        plt.xlabel(r'$\\alpha\\cos\\delta$')\n",
    "        \n",
    "        plt.title(r'Lens with $\\mu_{\\alpha *}$=%.1f and $\\mu_{\\delta}$=%.1f [mas yr$^{-1}$]'%(pmra[0],pmdec[0]))\n",
    "        plt.scatter(sourceRa[0]*np.cos(np.deg2rad(sourceDec[0])),sourceDec[0],label='source')\n",
    "        plt.plot([pos1[0],pos2[0]],[pos1[1],pos2[1]],'r--',label='lens trajectory')\n",
    "        plt.scatter(posClose[0],posClose[1],label='lens at closest app')\n",
    "        \n",
    "        plt.legend()\n",
    "        \n",
    "        plt.show()\n",
    "        \n",
    "        print(timeCl)\n",
    "        print(distance)\n",
    "        \n",
    "        #plt.savefig(lensidstring)\n",
    "        #plt.clf()\n",
    "        \n",
    "\n",
    "#data = Table({'TGAS_id' : Cand_TGASid, 'ppmxl_id' : Cand_ppmxlid},names=['TGAS_id','ppmxl_id'])\n",
    "#ascii.write(data,'largpmcandidates.txt')"
   ]
  },
  {
   "cell_type": "code",
   "execution_count": 15,
   "metadata": {},
   "outputs": [
    {
     "name": "stdout",
     "output_type": "stream",
     "text": [
      "9.55841820241e-09\n",
      "-78.1644242328\n"
     ]
    }
   ],
   "source": [
    "8.11757724979e-05"
   ]
  },
  {
   "cell_type": "code",
   "execution_count": 5,
   "metadata": {},
   "outputs": [
    {
     "name": "stdout",
     "output_type": "stream",
     "text": [
      "2015.0\n"
     ]
    }
   ],
   "source": [
    "\n"
   ]
  },
  {
   "cell_type": "code",
   "execution_count": 6,
   "metadata": {},
   "outputs": [
    {
     "data": {
      "text/plain": [
       "True"
      ]
     },
     "execution_count": 6,
     "metadata": {},
     "output_type": "execute_result"
    }
   ],
   "source": [
    "testlens1.is_coord_in_box(sourceRa[0],sourceDec[0])"
   ]
  },
  {
   "cell_type": "code",
   "execution_count": 7,
   "metadata": {},
   "outputs": [
    {
     "name": "stdout",
     "output_type": "stream",
     "text": [
      "-8.87981768714\n"
     ]
    },
    {
     "data": {
      "image/png": "[encoded data removed]",
      "text/plain": [
       "<matplotlib.figure.Figure at 0x107bec7f0>"
      ]
     },
     "metadata": {},
     "output_type": "display_data"
    },
    {
     "name": "stdout",
     "output_type": "stream",
     "text": [
      "2.43772004998 57.666452\n",
      "4.557788\n"
     ]
    }
   ],
   "source": [
    "box = np.transpose(testlens1.get_lens_box())\n",
    "    \n",
    "pos = testlens1.get_eq_coords_at_epoch(20.0)\n",
    "\n",
    "#print(pos)\n",
    "#print(testlens1.get_eq_coords(lensRa[0],lensDec[0]))\n",
    "#plt.scatter(pos[0],pos[1],label='lens')\n",
    "#plt.scatter(box[0],box[1])\n",
    "\n",
    "boxjX = np.append(box[0],box[0][0])\n",
    "boxjY = np.append(box[1],box[1][0])\n",
    "\n",
    "plt.fill_between(boxjX,boxjY,alpha=0.3,label='Background source search window')\n",
    "plt.xlim(min(box[0]) - 0.0001,max(box[0]) + 0.0001)\n",
    "plt.ylim(min(box[1]) - 0.0001,max(box[1]) + 0.0001)\n",
    "plt.ylabel(r'$\\delta$')\n",
    "plt.xlabel(r'$\\alpha\\cos\\delta$')\n",
    "\n",
    "plt.title(r'Lens with $\\mu_{\\alpha *}$=%.1f and $\\mu_{\\delta}$=%.1f [mas yr$^{-1}$]'%(pmra[0],pmdec[0]))\n",
    "print(sourceDec[0]*np.cos(sourceRa[0]))\n",
    "#plt.scatter(pos[0],pos[1])\n",
    "plt.scatter(sourceRa[0]*np.cos(np.deg2rad(sourceDec[0])),sourceDec[0],label='source')\n",
    "plt.scatter(lensRa[0]*np.cos(np.deg2rad(lensDec[0])),lensDec[0])\n",
    "plt.legend()\n",
    "plt.show()\n",
    "\n",
    "print(sourceRa[0]*np.cos(np.deg2rad(sourceDec[0])),sourceDec[0])\n",
    "\n",
    "print(sourceRa[0])"
   ]
  },
  {
   "cell_type": "code",
   "execution_count": 8,
   "metadata": {},
   "outputs": [
    {
     "name": "stdout",
     "output_type": "stream",
     "text": [
      "2.43772004998 57.666452\n"
     ]
    }
   ],
   "source": [
    "print(sourceRa[0]*np.cos(np.deg2rad(sourceDec[0])),sourceDec[0])"
   ]
  },
  {
   "cell_type": "code",
   "execution_count": 9,
   "metadata": {},
   "outputs": [
    {
     "name": "stdout",
     "output_type": "stream",
     "text": [
      "-8.89178371033 57.6662009974\n"
     ]
    }
   ],
   "source": [
    "print(lensDec[0]*np.cos(lensRa[0]),lensDec[0])"
   ]
  },
  {
   "cell_type": "code",
   "execution_count": null,
   "metadata": {},
   "outputs": [],
   "source": []
  }
 ],
 "metadata": {
  "kernelspec": {
   "display_name": "Python 3",
   "language": "python",
   "name": "python3"
  },
  "language_info": {
   "codemirror_mode": {
    "name": "ipython",
    "version": 3
   },
   "file_extension": ".py",
   "mimetype": "text/x-python",
   "name": "python",
   "nbconvert_exporter": "python",
   "pygments_lexer": "ipython3",
   "version": "3.6.3"
  }
 },
 "nbformat": 4,
 "nbformat_minor": 2
}
