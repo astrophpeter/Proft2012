{
 "cells": [
  {
   "cell_type": "code",
   "execution_count": 1,
   "metadata": {},
   "outputs": [],
   "source": [
    "from astropy.table import Table\n",
    "from lens import Lens\n",
    "from astropy.io import fits\n",
    "import sqlutil as sqlutil \n",
    "import matplotlib.pyplot as plt\n",
    "import numpy as np"
   ]
  },
  {
   "cell_type": "code",
   "execution_count": 2,
   "metadata": {},
   "outputs": [],
   "source": [
    "candidates = Table.read('data/TGAShpmppmxl0150con.fits')"
   ]
  },
  {
   "cell_type": "code",
   "execution_count": null,
   "metadata": {},
   "outputs": [],
   "source": [
    "TGASlensid = candidates['source_id']\n",
    "ppmxlid = candidates['ipix']\n",
    "\n",
    "\n",
    "i=24\n",
    "\n",
    "\n",
    "querystringTGAS = 'select ra, dec, source_id,pmra,pmdec,ref_epoch from gaia_dr1.tgas_source where source_id=' + str(TGASlensid[i])\n",
    "querystringPPMXL ='select ra, dec, id from ppmxl.main where id=' + str(ppmxlid[i])"
   ]
  },
  {
   "cell_type": "code",
   "execution_count": null,
   "metadata": {},
   "outputs": [],
   "source": [
    "\n",
    "lensRa, lensDec, id,pmra,pmdec,ref_epoch = sqlutil.get(querystringTGAS,\n",
    "                       db='wsdb',host='cappc127.ast.cam.ac.uk', user='peter_mcgill', password='Ln3g.wsk')\n",
    "\n",
    "\n",
    "sourceRa, sourceDec,sourceId = sqlutil.get(querystringPPMXL,\n",
    "                       db='wsdb',host='cappc127.ast.cam.ac.uk', user='peter_mcgill', password='Ln3g.wsk')"
   ]
  },
  {
   "cell_type": "code",
   "execution_count": null,
   "metadata": {},
   "outputs": [],
   "source": [
    "testlens1 = Lens(id[0],lensRa[0],lensDec[0],pmra[0],pmdec[0],ref_epoch[0])\n",
    "print(ref_epoch[0])"
   ]
  },
  {
   "cell_type": "code",
   "execution_count": null,
   "metadata": {},
   "outputs": [],
   "source": [
    "testlens1.is_coord_in_box(sourceRa[0],sourceDec[0])"
   ]
  },
  {
   "cell_type": "code",
   "execution_count": null,
   "metadata": {},
   "outputs": [],
   "source": [
    "box = np.transpose(testlens1.get_lens_box())\n",
    "    \n",
    "pos = testlens1.get_eq_coords_at_epoch(2013.0)\n",
    "\n",
    "#print(pos)\n",
    "#print(testlens1.get_eq_coords(lensRa[0],lensDec[0]))\n",
    "#plt.scatter(pos[0],pos[1],label='lens')\n",
    "plt.scatter(box[0],box[1])\n",
    "\n",
    "boxjX = np.append(box[0],box[0][0])\n",
    "boxjY = np.append(box[1],box[1][0])\n",
    "\n",
    "plt.fill_between(boxjX,boxjY,alpha=0.3,label='Background source search window')\n",
    "plt.xlim(min(box[0]) - 0.001,max(box[0]) + 0.001)\n",
    "plt.ylim(min(box[1]) - 0.001,max(box[1]) + 0.001)\n",
    "plt.ylabel(r'$\\delta$')\n",
    "plt.xlabel(r'$\\alpha\\cos\\delta$')\n",
    "\n",
    "plt.title(r'Lens with $\\mu_{\\alpha *}$=%.1f and $\\mu_{\\delta}$=%.1f [mas yr$^{-1}$]'%(pmra[0],pmdec[0]))\n",
    "#print(sourceDec[0]*np.cos(sourceRa[0]))\n",
    "#plt.scatter(pos[0],pos[1])\n",
    "plt.scatter(sourceRa[0]*np.cos(np.deg2rad(sourceDec[0])),sourceDec[0],label='source')\n",
    "plt.scatter(lensRa[0]*np.cos(np.deg2rad(lensDec[0])),lensDec[0])\n",
    "plt.legend()\n",
    "plt.show()\n",
    "\n",
    "print(sourceRa[0]*np.cos(np.deg2rad(sourceDec[0])),sourceDec[0])\n",
    "\n",
    "print(sourceRa[0])"
   ]
  },
  {
   "cell_type": "code",
   "execution_count": null,
   "metadata": {},
   "outputs": [],
   "source": [
    "print(sourceRa[0]*np.cos(np.deg2rad(sourceDec[0])),sourceDec[0])"
   ]
  },
  {
   "cell_type": "code",
   "execution_count": null,
   "metadata": {},
   "outputs": [],
   "source": [
    "print(lensDec[0]*np.cos(lensRa[0]),lensDec[0])"
   ]
  },
  {
   "cell_type": "code",
   "execution_count": null,
   "metadata": {},
   "outputs": [],
   "source": []
  }
 ],
 "metadata": {
  "kernelspec": {
   "display_name": "Python 3",
   "language": "python",
   "name": "python3"
  },
  "language_info": {
   "codemirror_mode": {
    "name": "ipython",
    "version": 3
   },
   "file_extension": ".py",
   "mimetype": "text/x-python",
   "name": "python",
   "nbconvert_exporter": "python",
   "pygments_lexer": "ipython3",
   "version": "3.6.3"
  }
 },
 "nbformat": 4,
 "nbformat_minor": 2
}
