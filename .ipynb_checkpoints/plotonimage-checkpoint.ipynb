{
 "cells": [
  {
   "cell_type": "code",
   "execution_count": 7,
   "metadata": {},
   "outputs": [
    {
     "name": "stdout",
     "output_type": "stream",
     "text": [
      "Downloading http://irsa.ipac.caltech.edu/ibe/search/twomass/allsky/allsky?POS=157.764992,-78.164522 [Done]\n",
      "Downloading http://stdatu.stsci.edu/cgi-bin/dss_search?v=poss2ukstu_red&r=157.764992&d=-78.164522&e=J2000&h=2&w=2&f=fits [Done]\n",
      "1991-04-12\n",
      "INFO: Auto-setting vmin to  9.225e+03 [aplpy.core]\n",
      "INFO: Auto-setting vmax to  3.036e+04 [aplpy.core]\n",
      "Downloading http://irsa.ipac.caltech.edu/ibe/search/twomass/allsky/allsky?POS=228.270936,-21.977748 [Done]\n",
      "Downloading http://stdatu.stsci.edu/cgi-bin/dss_search?v=poss2ukstu_red&r=228.270936&d=-21.977748&e=J2000&h=2&w=2&f=fits [Done]\n",
      "1993-04-20\n",
      "INFO: Auto-setting vmin to  4.609e+03 [aplpy.core]\n",
      "INFO: Auto-setting vmax to  2.579e+04 [aplpy.core]\n",
      "Downloading http://irsa.ipac.caltech.edu/ibe/search/twomass/allsky/allsky?POS=352.449769,-81.925548 [Done]\n",
      "Downloading http://stdatu.stsci.edu/cgi-bin/dss_search?v=poss2ukstu_red&r=352.449769&d=-81.925548&e=J2000&h=2&w=2&f=fits [Done]\n",
      "1997-07-30\n",
      "INFO: Auto-setting vmin to  2.001e+03 [aplpy.core]\n",
      "INFO: Auto-setting vmax to  2.466e+04 [aplpy.core]\n"
     ]
    },
    {
     "name": "stderr",
     "output_type": "stream",
     "text": [
      "/Library/Frameworks/Python.framework/Versions/3.6/lib/python3.6/site-packages/matplotlib/pyplot.py:523: RuntimeWarning: More than 20 figures have been opened. Figures created through the pyplot interface (`matplotlib.pyplot.figure`) are retained until explicitly closed and may consume too much memory. (To control this warning, see the rcParam `figure.max_open_warning`).\n",
      "  max_open_warning, RuntimeWarning)\n"
     ]
    },
    {
     "name": "stdout",
     "output_type": "stream",
     "text": [
      "Downloading http://irsa.ipac.caltech.edu/ibe/search/twomass/allsky/allsky?POS=344.127684,-76.797826 [Done]\n",
      "Downloading http://stdatu.stsci.edu/cgi-bin/dss_search?v=poss2ukstu_red&r=344.127684&d=-76.797826&e=J2000&h=2&w=2&f=fits [Done]\n",
      "1993-10-08\n",
      "INFO: Auto-setting vmin to  1.929e+03 [aplpy.core]\n",
      "INFO: Auto-setting vmax to  2.733e+04 [aplpy.core]\n"
     ]
    },
    {
     "name": "stderr",
     "output_type": "stream",
     "text": [
      "/Library/Frameworks/Python.framework/Versions/3.6/lib/python3.6/site-packages/matplotlib/pyplot.py:523: RuntimeWarning: More than 20 figures have been opened. Figures created through the pyplot interface (`matplotlib.pyplot.figure`) are retained until explicitly closed and may consume too much memory. (To control this warning, see the rcParam `figure.max_open_warning`).\n",
      "  max_open_warning, RuntimeWarning)\n"
     ]
    },
    {
     "name": "stdout",
     "output_type": "stream",
     "text": [
      "Downloading http://irsa.ipac.caltech.edu/ibe/search/twomass/allsky/allsky?POS=326.731907,-76.235253 [Done]\n",
      "Downloading http://stdatu.stsci.edu/cgi-bin/dss_search?v=poss2ukstu_red&r=326.731907&d=-76.235253&e=J2000&h=2&w=2&f=fits [Done]\n",
      "1996-10-10\n",
      "INFO: Auto-setting vmin to  2.054e+03 [aplpy.core]\n",
      "INFO: Auto-setting vmax to  2.272e+04 [aplpy.core]\n"
     ]
    },
    {
     "name": "stderr",
     "output_type": "stream",
     "text": [
      "/Library/Frameworks/Python.framework/Versions/3.6/lib/python3.6/site-packages/matplotlib/pyplot.py:523: RuntimeWarning: More than 20 figures have been opened. Figures created through the pyplot interface (`matplotlib.pyplot.figure`) are retained until explicitly closed and may consume too much memory. (To control this warning, see the rcParam `figure.max_open_warning`).\n",
      "  max_open_warning, RuntimeWarning)\n"
     ]
    },
    {
     "name": "stdout",
     "output_type": "stream",
     "text": [
      "Downloading http://irsa.ipac.caltech.edu/ibe/search/twomass/allsky/allsky?POS=305.060656,-72.942295 [Done]\n",
      "Downloading http://stdatu.stsci.edu/cgi-bin/dss_search?v=poss2ukstu_red&r=305.060656&d=-72.942295&e=J2000&h=2&w=2&f=fits [Done]\n",
      "1991-10-01\n",
      "INFO: Auto-setting vmin to  1.439e+03 [aplpy.core]\n",
      "INFO: Auto-setting vmax to  2.412e+04 [aplpy.core]\n"
     ]
    },
    {
     "name": "stderr",
     "output_type": "stream",
     "text": [
      "/Library/Frameworks/Python.framework/Versions/3.6/lib/python3.6/site-packages/matplotlib/pyplot.py:523: RuntimeWarning: More than 20 figures have been opened. Figures created through the pyplot interface (`matplotlib.pyplot.figure`) are retained until explicitly closed and may consume too much memory. (To control this warning, see the rcParam `figure.max_open_warning`).\n",
      "  max_open_warning, RuntimeWarning)\n"
     ]
    },
    {
     "name": "stdout",
     "output_type": "stream",
     "text": [
      "Downloading http://irsa.ipac.caltech.edu/ibe/search/twomass/allsky/allsky?POS=347.617608,-63.686931 [Done]\n",
      "Downloading http://stdatu.stsci.edu/cgi-bin/dss_search?v=poss2ukstu_red&r=347.617608&d=-63.686931&e=J2000&h=2&w=2&f=fits [Done]\n",
      "1996-08-14\n",
      "INFO: Auto-setting vmin to  1.896e+03 [aplpy.core]\n",
      "INFO: Auto-setting vmax to  2.684e+04 [aplpy.core]\n"
     ]
    },
    {
     "name": "stderr",
     "output_type": "stream",
     "text": [
      "/Library/Frameworks/Python.framework/Versions/3.6/lib/python3.6/site-packages/matplotlib/pyplot.py:523: RuntimeWarning: More than 20 figures have been opened. Figures created through the pyplot interface (`matplotlib.pyplot.figure`) are retained until explicitly closed and may consume too much memory. (To control this warning, see the rcParam `figure.max_open_warning`).\n",
      "  max_open_warning, RuntimeWarning)\n"
     ]
    },
    {
     "name": "stdout",
     "output_type": "stream",
     "text": [
      "Downloading http://irsa.ipac.caltech.edu/ibe/search/twomass/allsky/allsky?POS=245.666364,-48.657434 [Done]\n",
      "Downloading http://stdatu.stsci.edu/cgi-bin/dss_search?v=poss2ukstu_red&r=245.666364&d=-48.657434&e=J2000&h=2&w=2&f=fits [Done]\n",
      "1992-08-21\n",
      "INFO: Auto-setting vmin to  1.758e+03 [aplpy.core]\n",
      "INFO: Auto-setting vmax to  2.461e+04 [aplpy.core]\n"
     ]
    },
    {
     "name": "stderr",
     "output_type": "stream",
     "text": [
      "/Library/Frameworks/Python.framework/Versions/3.6/lib/python3.6/site-packages/matplotlib/pyplot.py:523: RuntimeWarning: More than 20 figures have been opened. Figures created through the pyplot interface (`matplotlib.pyplot.figure`) are retained until explicitly closed and may consume too much memory. (To control this warning, see the rcParam `figure.max_open_warning`).\n",
      "  max_open_warning, RuntimeWarning)\n"
     ]
    },
    {
     "name": "stdout",
     "output_type": "stream",
     "text": [
      "Downloading http://irsa.ipac.caltech.edu/ibe/search/twomass/allsky/allsky?POS=20.498394,-84.067885 [Done]\n",
      "Downloading http://stdatu.stsci.edu/cgi-bin/dss_search?v=poss2ukstu_red&r=20.498394&d=-84.067885&e=J2000&h=2&w=2&f=fits [Done]\n",
      "1994-10-10\n",
      "INFO: Auto-setting vmin to  2.069e+03 [aplpy.core]\n",
      "INFO: Auto-setting vmax to  2.501e+04 [aplpy.core]\n"
     ]
    },
    {
     "name": "stderr",
     "output_type": "stream",
     "text": [
      "/Library/Frameworks/Python.framework/Versions/3.6/lib/python3.6/site-packages/matplotlib/pyplot.py:523: RuntimeWarning: More than 20 figures have been opened. Figures created through the pyplot interface (`matplotlib.pyplot.figure`) are retained until explicitly closed and may consume too much memory. (To control this warning, see the rcParam `figure.max_open_warning`).\n",
      "  max_open_warning, RuntimeWarning)\n"
     ]
    },
    {
     "name": "stdout",
     "output_type": "stream",
     "text": [
      "Downloading http://irsa.ipac.caltech.edu/ibe/search/twomass/allsky/allsky?POS=27.221084,-77.108852 [Done]\n",
      "Downloading http://stdatu.stsci.edu/cgi-bin/dss_search?v=poss2ukstu_red&r=27.221084&d=-77.108852&e=J2000&h=2&w=2&f=fits [Done]\n",
      "1993-11-07\n",
      "INFO: Auto-setting vmin to  1.287e+03 [aplpy.core]\n",
      "INFO: Auto-setting vmax to  2.569e+04 [aplpy.core]\n"
     ]
    },
    {
     "name": "stderr",
     "output_type": "stream",
     "text": [
      "/Library/Frameworks/Python.framework/Versions/3.6/lib/python3.6/site-packages/matplotlib/pyplot.py:523: RuntimeWarning: More than 20 figures have been opened. Figures created through the pyplot interface (`matplotlib.pyplot.figure`) are retained until explicitly closed and may consume too much memory. (To control this warning, see the rcParam `figure.max_open_warning`).\n",
      "  max_open_warning, RuntimeWarning)\n"
     ]
    },
    {
     "name": "stdout",
     "output_type": "stream",
     "text": [
      "Downloading http://irsa.ipac.caltech.edu/ibe/search/twomass/allsky/allsky?POS=85.966521,-70.856853 [Done]\n",
      "Downloading http://stdatu.stsci.edu/cgi-bin/dss_search?v=poss2ukstu_red&r=85.966521&d=-70.856853&e=J2000&h=2&w=2&f=fits [Done]\n",
      "1987-11-28\n",
      "INFO: Auto-setting vmin to  4.350e+03 [aplpy.core]\n",
      "INFO: Auto-setting vmax to  2.620e+04 [aplpy.core]\n"
     ]
    },
    {
     "name": "stderr",
     "output_type": "stream",
     "text": [
      "/Library/Frameworks/Python.framework/Versions/3.6/lib/python3.6/site-packages/matplotlib/pyplot.py:523: RuntimeWarning: More than 20 figures have been opened. Figures created through the pyplot interface (`matplotlib.pyplot.figure`) are retained until explicitly closed and may consume too much memory. (To control this warning, see the rcParam `figure.max_open_warning`).\n",
      "  max_open_warning, RuntimeWarning)\n"
     ]
    },
    {
     "name": "stdout",
     "output_type": "stream",
     "text": [
      "Downloading http://irsa.ipac.caltech.edu/ibe/search/twomass/allsky/allsky?POS=83.257449,29.387689 [Done]\n",
      "1989-11-22\n",
      "INFO: Auto-setting vmin to  2.118e+03 [aplpy.core]\n",
      "INFO: Auto-setting vmax to  2.458e+04 [aplpy.core]\n"
     ]
    },
    {
     "name": "stderr",
     "output_type": "stream",
     "text": [
      "/Library/Frameworks/Python.framework/Versions/3.6/lib/python3.6/site-packages/matplotlib/pyplot.py:523: RuntimeWarning: More than 20 figures have been opened. Figures created through the pyplot interface (`matplotlib.pyplot.figure`) are retained until explicitly closed and may consume too much memory. (To control this warning, see the rcParam `figure.max_open_warning`).\n",
      "  max_open_warning, RuntimeWarning)\n"
     ]
    },
    {
     "name": "stdout",
     "output_type": "stream",
     "text": [
      "Downloading http://irsa.ipac.caltech.edu/ibe/search/twomass/allsky/allsky?POS=354.310581,79.252126 [Done]\n",
      "Downloading http://stdatu.stsci.edu/cgi-bin/dss_search?v=poss2ukstu_red&r=354.310581&d=79.252126&e=J2000&h=2&w=2&f=fits [Done]\n",
      "1996-08-21\n",
      "INFO: Auto-setting vmin to  1.372e+03 [aplpy.core]\n",
      "INFO: Auto-setting vmax to  2.594e+04 [aplpy.core]\n"
     ]
    },
    {
     "name": "stderr",
     "output_type": "stream",
     "text": [
      "/Library/Frameworks/Python.framework/Versions/3.6/lib/python3.6/site-packages/matplotlib/pyplot.py:523: RuntimeWarning: More than 20 figures have been opened. Figures created through the pyplot interface (`matplotlib.pyplot.figure`) are retained until explicitly closed and may consume too much memory. (To control this warning, see the rcParam `figure.max_open_warning`).\n",
      "  max_open_warning, RuntimeWarning)\n"
     ]
    },
    {
     "name": "stdout",
     "output_type": "stream",
     "text": [
      "Downloading http://irsa.ipac.caltech.edu/ibe/search/twomass/allsky/allsky?POS=312.913195,-45.455981 [Done]\n",
      "Downloading http://stdatu.stsci.edu/cgi-bin/dss_search?v=poss2ukstu_red&r=312.913195&d=-45.455981&e=J2000&h=2&w=2&f=fits [Done]\n",
      "1990-10-13\n",
      "INFO: Auto-setting vmin to  2.182e+03 [aplpy.core]\n",
      "INFO: Auto-setting vmax to  2.505e+04 [aplpy.core]\n"
     ]
    },
    {
     "name": "stderr",
     "output_type": "stream",
     "text": [
      "/Library/Frameworks/Python.framework/Versions/3.6/lib/python3.6/site-packages/matplotlib/pyplot.py:523: RuntimeWarning: More than 20 figures have been opened. Figures created through the pyplot interface (`matplotlib.pyplot.figure`) are retained until explicitly closed and may consume too much memory. (To control this warning, see the rcParam `figure.max_open_warning`).\n",
      "  max_open_warning, RuntimeWarning)\n"
     ]
    },
    {
     "name": "stdout",
     "output_type": "stream",
     "text": [
      "Downloading http://irsa.ipac.caltech.edu/ibe/search/twomass/allsky/allsky?POS=353.826758,-64.561771 [Done]\n",
      "Downloading http://stdatu.stsci.edu/cgi-bin/dss_search?v=poss2ukstu_red&r=353.826758&d=-64.561771&e=J2000&h=2&w=2&f=fits [Done]\n",
      "1996-08-14\n",
      "INFO: Auto-setting vmin to  2.357e+03 [aplpy.core]\n",
      "INFO: Auto-setting vmax to  2.660e+04 [aplpy.core]\n"
     ]
    },
    {
     "name": "stderr",
     "output_type": "stream",
     "text": [
      "/Library/Frameworks/Python.framework/Versions/3.6/lib/python3.6/site-packages/matplotlib/pyplot.py:523: RuntimeWarning: More than 20 figures have been opened. Figures created through the pyplot interface (`matplotlib.pyplot.figure`) are retained until explicitly closed and may consume too much memory. (To control this warning, see the rcParam `figure.max_open_warning`).\n",
      "  max_open_warning, RuntimeWarning)\n"
     ]
    },
    {
     "name": "stdout",
     "output_type": "stream",
     "text": [
      "Downloading http://irsa.ipac.caltech.edu/ibe/search/twomass/allsky/allsky?POS=14.340663,-62.245224 [Done]\n",
      "Downloading http://stdatu.stsci.edu/cgi-bin/dss_search?v=poss2ukstu_red&r=14.340663&d=-62.245224&e=J2000&h=2&w=2&f=fits [Done]\n",
      "1987-10-26\n",
      "INFO: Auto-setting vmin to  1.808e+03 [aplpy.core]\n",
      "INFO: Auto-setting vmax to  2.640e+04 [aplpy.core]\n"
     ]
    },
    {
     "name": "stderr",
     "output_type": "stream",
     "text": [
      "/Library/Frameworks/Python.framework/Versions/3.6/lib/python3.6/site-packages/matplotlib/pyplot.py:523: RuntimeWarning: More than 20 figures have been opened. Figures created through the pyplot interface (`matplotlib.pyplot.figure`) are retained until explicitly closed and may consume too much memory. (To control this warning, see the rcParam `figure.max_open_warning`).\n",
      "  max_open_warning, RuntimeWarning)\n"
     ]
    },
    {
     "name": "stdout",
     "output_type": "stream",
     "text": [
      "Downloading http://irsa.ipac.caltech.edu/ibe/search/twomass/allsky/allsky?POS=323.326927,81.182416 [Done]\n",
      "Downloading http://stdatu.stsci.edu/cgi-bin/dss_search?v=poss2ukstu_red&r=323.326927&d=81.182416&e=J2000&h=2&w=2&f=fits [Done]\n",
      "1993-07-25\n",
      "INFO: Auto-setting vmin to  2.446e+03 [aplpy.core]\n",
      "INFO: Auto-setting vmax to  2.522e+04 [aplpy.core]\n"
     ]
    },
    {
     "name": "stderr",
     "output_type": "stream",
     "text": [
      "/Library/Frameworks/Python.framework/Versions/3.6/lib/python3.6/site-packages/matplotlib/pyplot.py:523: RuntimeWarning: More than 20 figures have been opened. Figures created through the pyplot interface (`matplotlib.pyplot.figure`) are retained until explicitly closed and may consume too much memory. (To control this warning, see the rcParam `figure.max_open_warning`).\n",
      "  max_open_warning, RuntimeWarning)\n"
     ]
    },
    {
     "name": "stdout",
     "output_type": "stream",
     "text": [
      "Downloading http://irsa.ipac.caltech.edu/ibe/search/twomass/allsky/allsky?POS=338.468193,-53.161908 [Done]\n",
      "Downloading http://stdatu.stsci.edu/cgi-bin/dss_search?v=poss2ukstu_red&r=338.468193&d=-53.161908&e=J2000&h=2&w=2&f=fits [Done]\n",
      "1994-08-31\n",
      "INFO: Auto-setting vmin to  2.342e+03 [aplpy.core]\n",
      "INFO: Auto-setting vmax to  2.419e+04 [aplpy.core]\n"
     ]
    },
    {
     "name": "stderr",
     "output_type": "stream",
     "text": [
      "/Library/Frameworks/Python.framework/Versions/3.6/lib/python3.6/site-packages/matplotlib/pyplot.py:523: RuntimeWarning: More than 20 figures have been opened. Figures created through the pyplot interface (`matplotlib.pyplot.figure`) are retained until explicitly closed and may consume too much memory. (To control this warning, see the rcParam `figure.max_open_warning`).\n",
      "  max_open_warning, RuntimeWarning)\n"
     ]
    },
    {
     "name": "stdout",
     "output_type": "stream",
     "text": [
      "Downloading http://irsa.ipac.caltech.edu/ibe/search/twomass/allsky/allsky?POS=354.692366,-50.058364 [Done]\n",
      "Downloading http://stdatu.stsci.edu/cgi-bin/dss_search?v=poss2ukstu_red&r=354.692366&d=-50.058364&e=J2000&h=2&w=2&f=fits [Done]\n",
      "1992-11-14\n",
      "INFO: Auto-setting vmin to  1.103e+04 [aplpy.core]\n",
      "INFO: Auto-setting vmax to  2.834e+04 [aplpy.core]\n"
     ]
    },
    {
     "name": "stderr",
     "output_type": "stream",
     "text": [
      "/Library/Frameworks/Python.framework/Versions/3.6/lib/python3.6/site-packages/matplotlib/pyplot.py:523: RuntimeWarning: More than 20 figures have been opened. Figures created through the pyplot interface (`matplotlib.pyplot.figure`) are retained until explicitly closed and may consume too much memory. (To control this warning, see the rcParam `figure.max_open_warning`).\n",
      "  max_open_warning, RuntimeWarning)\n"
     ]
    },
    {
     "name": "stdout",
     "output_type": "stream",
     "text": [
      "Downloading http://irsa.ipac.caltech.edu/ibe/search/twomass/allsky/allsky?POS=359.580253,-49.712885 [Done]\n",
      "Downloading http://stdatu.stsci.edu/cgi-bin/dss_search?v=poss2ukstu_red&r=359.580253&d=-49.712885&e=J2000&h=2&w=2&f=fits [Done]\n",
      "1996-08-13\n",
      "INFO: Auto-setting vmin to  2.153e+03 [aplpy.core]\n",
      "INFO: Auto-setting vmax to  2.609e+04 [aplpy.core]\n"
     ]
    },
    {
     "name": "stderr",
     "output_type": "stream",
     "text": [
      "/Library/Frameworks/Python.framework/Versions/3.6/lib/python3.6/site-packages/matplotlib/pyplot.py:523: RuntimeWarning: More than 20 figures have been opened. Figures created through the pyplot interface (`matplotlib.pyplot.figure`) are retained until explicitly closed and may consume too much memory. (To control this warning, see the rcParam `figure.max_open_warning`).\n",
      "  max_open_warning, RuntimeWarning)\n"
     ]
    },
    {
     "name": "stdout",
     "output_type": "stream",
     "text": [
      "Downloading http://irsa.ipac.caltech.edu/ibe/search/twomass/allsky/allsky?POS=326.970614,-47.610674 [Done]\n",
      "Downloading http://stdatu.stsci.edu/cgi-bin/dss_search?v=poss2ukstu_red&r=326.970614&d=-47.610674&e=J2000&h=2&w=2&f=fits [Done]\n",
      "1992-08-22\n",
      "INFO: Auto-setting vmin to  8.071e+03 [aplpy.core]\n",
      "INFO: Auto-setting vmax to  2.921e+04 [aplpy.core]\n"
     ]
    },
    {
     "name": "stderr",
     "output_type": "stream",
     "text": [
      "/Library/Frameworks/Python.framework/Versions/3.6/lib/python3.6/site-packages/matplotlib/pyplot.py:523: RuntimeWarning: More than 20 figures have been opened. Figures created through the pyplot interface (`matplotlib.pyplot.figure`) are retained until explicitly closed and may consume too much memory. (To control this warning, see the rcParam `figure.max_open_warning`).\n",
      "  max_open_warning, RuntimeWarning)\n"
     ]
    },
    {
     "name": "stdout",
     "output_type": "stream",
     "text": [
      "Downloading http://irsa.ipac.caltech.edu/ibe/search/twomass/allsky/allsky?POS=14.648615,-13.602137 [Done]\n",
      "Downloading http://stdatu.stsci.edu/cgi-bin/dss_search?v=poss2ukstu_red&r=14.648615&d=-13.602137&e=J2000&h=2&w=2&f=fits [Done]\n",
      "1991-09-05\n",
      "INFO: Auto-setting vmin to  3.974e+03 [aplpy.core]\n",
      "INFO: Auto-setting vmax to  2.323e+04 [aplpy.core]\n"
     ]
    },
    {
     "name": "stderr",
     "output_type": "stream",
     "text": [
      "/Library/Frameworks/Python.framework/Versions/3.6/lib/python3.6/site-packages/matplotlib/pyplot.py:523: RuntimeWarning: More than 20 figures have been opened. Figures created through the pyplot interface (`matplotlib.pyplot.figure`) are retained until explicitly closed and may consume too much memory. (To control this warning, see the rcParam `figure.max_open_warning`).\n",
      "  max_open_warning, RuntimeWarning)\n"
     ]
    },
    {
     "name": "stdout",
     "output_type": "stream",
     "text": [
      "Downloading http://irsa.ipac.caltech.edu/ibe/search/twomass/allsky/allsky?POS=321.083744,-46.693367 [Done]\n",
      "1993-08-12\n",
      "INFO: Auto-setting vmin to  1.914e+03 [aplpy.core]\n",
      "INFO: Auto-setting vmax to  2.506e+04 [aplpy.core]\n"
     ]
    },
    {
     "name": "stderr",
     "output_type": "stream",
     "text": [
      "/Library/Frameworks/Python.framework/Versions/3.6/lib/python3.6/site-packages/matplotlib/pyplot.py:523: RuntimeWarning: More than 20 figures have been opened. Figures created through the pyplot interface (`matplotlib.pyplot.figure`) are retained until explicitly closed and may consume too much memory. (To control this warning, see the rcParam `figure.max_open_warning`).\n",
      "  max_open_warning, RuntimeWarning)\n"
     ]
    },
    {
     "name": "stdout",
     "output_type": "stream",
     "text": [
      "Downloading http://irsa.ipac.caltech.edu/ibe/search/twomass/allsky/allsky?POS=33.077659,3.565677 [Done]\n",
      "Downloading http://stdatu.stsci.edu/cgi-bin/dss_search?v=poss2ukstu_red&r=33.077659&d=3.565677&e=J2000&h=2&w=2&f=fits [Done]\n",
      "1986-08-31\n",
      "INFO: Auto-setting vmin to  6.037e+03 [aplpy.core]\n",
      "INFO: Auto-setting vmax to  2.391e+04 [aplpy.core]\n"
     ]
    },
    {
     "name": "stderr",
     "output_type": "stream",
     "text": [
      "/Library/Frameworks/Python.framework/Versions/3.6/lib/python3.6/site-packages/matplotlib/pyplot.py:523: RuntimeWarning: More than 20 figures have been opened. Figures created through the pyplot interface (`matplotlib.pyplot.figure`) are retained until explicitly closed and may consume too much memory. (To control this warning, see the rcParam `figure.max_open_warning`).\n",
      "  max_open_warning, RuntimeWarning)\n"
     ]
    },
    {
     "name": "stdout",
     "output_type": "stream",
     "text": [
      "Downloading http://irsa.ipac.caltech.edu/ibe/search/twomass/allsky/allsky?POS=196.967238,-52.708398 [Done]\n",
      "Downloading http://stdatu.stsci.edu/cgi-bin/dss_search?v=poss2ukstu_red&r=196.967238&d=-52.708398&e=J2000&h=2&w=2&f=fits [Done]\n",
      "1991-05-11\n",
      "INFO: Auto-setting vmin to  2.538e+03 [aplpy.core]\n",
      "INFO: Auto-setting vmax to  2.709e+04 [aplpy.core]\n"
     ]
    },
    {
     "name": "stderr",
     "output_type": "stream",
     "text": [
      "/Library/Frameworks/Python.framework/Versions/3.6/lib/python3.6/site-packages/matplotlib/pyplot.py:523: RuntimeWarning: More than 20 figures have been opened. Figures created through the pyplot interface (`matplotlib.pyplot.figure`) are retained until explicitly closed and may consume too much memory. (To control this warning, see the rcParam `figure.max_open_warning`).\n",
      "  max_open_warning, RuntimeWarning)\n"
     ]
    },
    {
     "name": "stdout",
     "output_type": "stream",
     "text": [
      "Downloading http://irsa.ipac.caltech.edu/ibe/search/twomass/allsky/allsky?POS=11.452999,-41.909624 [Done]\n",
      "Downloading http://stdatu.stsci.edu/cgi-bin/dss_search?v=poss2ukstu_red&r=11.452999&d=-41.909624&e=J2000&h=2&w=2&f=fits [Done]\n",
      "1990-09-24\n",
      "INFO: Auto-setting vmin to  7.264e+03 [aplpy.core]\n",
      "INFO: Auto-setting vmax to  3.097e+04 [aplpy.core]\n"
     ]
    },
    {
     "name": "stderr",
     "output_type": "stream",
     "text": [
      "/Library/Frameworks/Python.framework/Versions/3.6/lib/python3.6/site-packages/matplotlib/pyplot.py:523: RuntimeWarning: More than 20 figures have been opened. Figures created through the pyplot interface (`matplotlib.pyplot.figure`) are retained until explicitly closed and may consume too much memory. (To control this warning, see the rcParam `figure.max_open_warning`).\n",
      "  max_open_warning, RuntimeWarning)\n"
     ]
    },
    {
     "name": "stdout",
     "output_type": "stream",
     "text": [
      "Downloading http://irsa.ipac.caltech.edu/ibe/search/twomass/allsky/allsky?POS=1.106653,-47.067838 [Done]\n",
      "1997-07-12\n",
      "INFO: Auto-setting vmin to  1.376e+03 [aplpy.core]\n",
      "INFO: Auto-setting vmax to  2.686e+04 [aplpy.core]\n"
     ]
    },
    {
     "name": "stderr",
     "output_type": "stream",
     "text": [
      "/Library/Frameworks/Python.framework/Versions/3.6/lib/python3.6/site-packages/matplotlib/pyplot.py:523: RuntimeWarning: More than 20 figures have been opened. Figures created through the pyplot interface (`matplotlib.pyplot.figure`) are retained until explicitly closed and may consume too much memory. (To control this warning, see the rcParam `figure.max_open_warning`).\n",
      "  max_open_warning, RuntimeWarning)\n"
     ]
    },
    {
     "name": "stdout",
     "output_type": "stream",
     "text": [
      "Downloading http://irsa.ipac.caltech.edu/ibe/search/twomass/allsky/allsky?POS=8.659684,-37.451163 [Done]\n",
      "1989-08-29\n",
      "INFO: Auto-setting vmin to  6.410e+03 [aplpy.core]\n",
      "INFO: Auto-setting vmax to  2.959e+04 [aplpy.core]\n"
     ]
    },
    {
     "name": "stderr",
     "output_type": "stream",
     "text": [
      "/Library/Frameworks/Python.framework/Versions/3.6/lib/python3.6/site-packages/matplotlib/pyplot.py:523: RuntimeWarning: More than 20 figures have been opened. Figures created through the pyplot interface (`matplotlib.pyplot.figure`) are retained until explicitly closed and may consume too much memory. (To control this warning, see the rcParam `figure.max_open_warning`).\n",
      "  max_open_warning, RuntimeWarning)\n"
     ]
    },
    {
     "name": "stdout",
     "output_type": "stream",
     "text": [
      "Downloading http://irsa.ipac.caltech.edu/ibe/search/twomass/allsky/allsky?POS=166.020883,-46.46603 [Done]\n",
      "1995-02-09\n",
      "INFO: Auto-setting vmin to  1.559e+03 [aplpy.core]\n",
      "INFO: Auto-setting vmax to  2.585e+04 [aplpy.core]\n"
     ]
    },
    {
     "name": "stderr",
     "output_type": "stream",
     "text": [
      "/Library/Frameworks/Python.framework/Versions/3.6/lib/python3.6/site-packages/matplotlib/pyplot.py:523: RuntimeWarning: More than 20 figures have been opened. Figures created through the pyplot interface (`matplotlib.pyplot.figure`) are retained until explicitly closed and may consume too much memory. (To control this warning, see the rcParam `figure.max_open_warning`).\n",
      "  max_open_warning, RuntimeWarning)\n"
     ]
    },
    {
     "name": "stdout",
     "output_type": "stream",
     "text": [
      "Downloading http://irsa.ipac.caltech.edu/ibe/search/twomass/allsky/allsky?POS=42.850355,-30.82761 [Done]\n",
      "Downloading http://stdatu.stsci.edu/cgi-bin/dss_search?v=poss2ukstu_red&r=42.850355&d=-30.82761&e=J2000&h=2&w=2&f=fits [Done]\n",
      "1994-12-04\n",
      "INFO: Auto-setting vmin to  2.083e+03 [aplpy.core]\n",
      "INFO: Auto-setting vmax to  2.582e+04 [aplpy.core]\n"
     ]
    },
    {
     "name": "stderr",
     "output_type": "stream",
     "text": [
      "/Library/Frameworks/Python.framework/Versions/3.6/lib/python3.6/site-packages/matplotlib/pyplot.py:523: RuntimeWarning: More than 20 figures have been opened. Figures created through the pyplot interface (`matplotlib.pyplot.figure`) are retained until explicitly closed and may consume too much memory. (To control this warning, see the rcParam `figure.max_open_warning`).\n",
      "  max_open_warning, RuntimeWarning)\n"
     ]
    },
    {
     "name": "stdout",
     "output_type": "stream",
     "text": [
      "Downloading http://irsa.ipac.caltech.edu/ibe/search/twomass/allsky/allsky?POS=168.794855,73.476094 [Done]\n",
      "Downloading http://stdatu.stsci.edu/cgi-bin/dss_search?v=poss2ukstu_red&r=168.794855&d=73.476094&e=J2000&h=2&w=2&f=fits [Done]\n",
      "1999-04-10\n",
      "INFO: Auto-setting vmin to  2.085e+03 [aplpy.core]\n",
      "INFO: Auto-setting vmax to  2.542e+04 [aplpy.core]\n"
     ]
    },
    {
     "name": "stderr",
     "output_type": "stream",
     "text": [
      "/Library/Frameworks/Python.framework/Versions/3.6/lib/python3.6/site-packages/matplotlib/pyplot.py:523: RuntimeWarning: More than 20 figures have been opened. Figures created through the pyplot interface (`matplotlib.pyplot.figure`) are retained until explicitly closed and may consume too much memory. (To control this warning, see the rcParam `figure.max_open_warning`).\n",
      "  max_open_warning, RuntimeWarning)\n"
     ]
    },
    {
     "name": "stdout",
     "output_type": "stream",
     "text": [
      "Downloading http://irsa.ipac.caltech.edu/ibe/search/twomass/allsky/allsky?POS=127.485676,61.721448 [Done]\n",
      "Downloading http://stdatu.stsci.edu/cgi-bin/dss_search?v=poss2ukstu_red&r=127.485676&d=61.721448&e=J2000&h=2&w=2&f=fits [Done]\n",
      "1989-12-21\n",
      "INFO: Auto-setting vmin to  2.049e+03 [aplpy.core]\n",
      "INFO: Auto-setting vmax to  2.635e+04 [aplpy.core]\n"
     ]
    },
    {
     "name": "stderr",
     "output_type": "stream",
     "text": [
      "/Library/Frameworks/Python.framework/Versions/3.6/lib/python3.6/site-packages/matplotlib/pyplot.py:523: RuntimeWarning: More than 20 figures have been opened. Figures created through the pyplot interface (`matplotlib.pyplot.figure`) are retained until explicitly closed and may consume too much memory. (To control this warning, see the rcParam `figure.max_open_warning`).\n",
      "  max_open_warning, RuntimeWarning)\n"
     ]
    },
    {
     "name": "stdout",
     "output_type": "stream",
     "text": [
      "Downloading http://irsa.ipac.caltech.edu/ibe/search/twomass/allsky/allsky?POS=355.686854,44.211699 [Done]\n",
      "Downloading http://stdatu.stsci.edu/cgi-bin/dss_search?v=poss2ukstu_red&r=355.686854&d=44.211699&e=J2000&h=2&w=2&f=fits [Done]\n",
      "1990-08-21\n",
      "INFO: Auto-setting vmin to  1.747e+03 [aplpy.core]\n",
      "INFO: Auto-setting vmax to  2.556e+04 [aplpy.core]\n"
     ]
    },
    {
     "name": "stderr",
     "output_type": "stream",
     "text": [
      "/Library/Frameworks/Python.framework/Versions/3.6/lib/python3.6/site-packages/matplotlib/pyplot.py:523: RuntimeWarning: More than 20 figures have been opened. Figures created through the pyplot interface (`matplotlib.pyplot.figure`) are retained until explicitly closed and may consume too much memory. (To control this warning, see the rcParam `figure.max_open_warning`).\n",
      "  max_open_warning, RuntimeWarning)\n"
     ]
    },
    {
     "name": "stdout",
     "output_type": "stream",
     "text": [
      "Downloading http://irsa.ipac.caltech.edu/ibe/search/twomass/allsky/allsky?POS=350.193323,48.792724 [Done]\n",
      "Downloading http://stdatu.stsci.edu/cgi-bin/dss_search?v=poss2ukstu_red&r=350.193323&d=48.792724&e=J2000&h=2&w=2&f=fits [Done]\n",
      "1990-09-23\n",
      "INFO: Auto-setting vmin to  1.952e+03 [aplpy.core]\n",
      "INFO: Auto-setting vmax to  2.617e+04 [aplpy.core]\n"
     ]
    },
    {
     "name": "stderr",
     "output_type": "stream",
     "text": [
      "/Library/Frameworks/Python.framework/Versions/3.6/lib/python3.6/site-packages/matplotlib/pyplot.py:523: RuntimeWarning: More than 20 figures have been opened. Figures created through the pyplot interface (`matplotlib.pyplot.figure`) are retained until explicitly closed and may consume too much memory. (To control this warning, see the rcParam `figure.max_open_warning`).\n",
      "  max_open_warning, RuntimeWarning)\n"
     ]
    },
    {
     "name": "stdout",
     "output_type": "stream",
     "text": [
      "Downloading http://irsa.ipac.caltech.edu/ibe/search/twomass/allsky/allsky?POS=350.462517,49.157629 [Done]\n",
      "Downloading http://stdatu.stsci.edu/cgi-bin/dss_search?v=poss2ukstu_red&r=350.462517&d=49.157629&e=J2000&h=2&w=2&f=fits [Done]\n",
      "1990-09-23\n",
      "INFO: Auto-setting vmin to  1.835e+03 [aplpy.core]\n",
      "INFO: Auto-setting vmax to  2.538e+04 [aplpy.core]\n"
     ]
    },
    {
     "name": "stderr",
     "output_type": "stream",
     "text": [
      "/Library/Frameworks/Python.framework/Versions/3.6/lib/python3.6/site-packages/matplotlib/pyplot.py:523: RuntimeWarning: More than 20 figures have been opened. Figures created through the pyplot interface (`matplotlib.pyplot.figure`) are retained until explicitly closed and may consume too much memory. (To control this warning, see the rcParam `figure.max_open_warning`).\n",
      "  max_open_warning, RuntimeWarning)\n"
     ]
    },
    {
     "name": "stdout",
     "output_type": "stream",
     "text": [
      "Downloading http://irsa.ipac.caltech.edu/ibe/search/twomass/allsky/allsky?POS=298.752468,52.854945 [Done]\n",
      "Downloading http://stdatu.stsci.edu/cgi-bin/dss_search?v=poss2ukstu_red&r=298.752468&d=52.854945&e=J2000&h=2&w=2&f=fits [Done]\n",
      "1989-08-23\n",
      "INFO: Auto-setting vmin to  2.176e+03 [aplpy.core]\n",
      "INFO: Auto-setting vmax to  2.643e+04 [aplpy.core]\n"
     ]
    },
    {
     "name": "stderr",
     "output_type": "stream",
     "text": [
      "/Library/Frameworks/Python.framework/Versions/3.6/lib/python3.6/site-packages/matplotlib/pyplot.py:523: RuntimeWarning: More than 20 figures have been opened. Figures created through the pyplot interface (`matplotlib.pyplot.figure`) are retained until explicitly closed and may consume too much memory. (To control this warning, see the rcParam `figure.max_open_warning`).\n",
      "  max_open_warning, RuntimeWarning)\n"
     ]
    },
    {
     "name": "stdout",
     "output_type": "stream",
     "text": [
      "Downloading http://irsa.ipac.caltech.edu/ibe/search/twomass/allsky/allsky?POS=109.545227,24.294199 [Done]\n",
      "Downloading http://stdatu.stsci.edu/cgi-bin/dss_search?v=poss2ukstu_red&r=109.545227&d=24.294199&e=J2000&h=2&w=2&f=fits [Done]\n",
      "1997-01-10\n",
      "INFO: Auto-setting vmin to  2.396e+03 [aplpy.core]\n",
      "INFO: Auto-setting vmax to  1.939e+04 [aplpy.core]\n"
     ]
    },
    {
     "name": "stderr",
     "output_type": "stream",
     "text": [
      "/Library/Frameworks/Python.framework/Versions/3.6/lib/python3.6/site-packages/matplotlib/pyplot.py:523: RuntimeWarning: More than 20 figures have been opened. Figures created through the pyplot interface (`matplotlib.pyplot.figure`) are retained until explicitly closed and may consume too much memory. (To control this warning, see the rcParam `figure.max_open_warning`).\n",
      "  max_open_warning, RuntimeWarning)\n"
     ]
    },
    {
     "name": "stdout",
     "output_type": "stream",
     "text": [
      "Downloading http://irsa.ipac.caltech.edu/ibe/search/twomass/allsky/allsky?POS=347.588686,49.018335 [Done]\n",
      "Downloading http://stdatu.stsci.edu/cgi-bin/dss_search?v=poss2ukstu_red&r=347.588686&d=49.018335&e=J2000&h=2&w=2&f=fits [Done]\n",
      "1992-08-07\n",
      "INFO: Auto-setting vmin to  2.131e+03 [aplpy.core]\n",
      "INFO: Auto-setting vmax to  2.746e+04 [aplpy.core]\n"
     ]
    },
    {
     "name": "stderr",
     "output_type": "stream",
     "text": [
      "/Library/Frameworks/Python.framework/Versions/3.6/lib/python3.6/site-packages/matplotlib/pyplot.py:523: RuntimeWarning: More than 20 figures have been opened. Figures created through the pyplot interface (`matplotlib.pyplot.figure`) are retained until explicitly closed and may consume too much memory. (To control this warning, see the rcParam `figure.max_open_warning`).\n",
      "  max_open_warning, RuntimeWarning)\n"
     ]
    },
    {
     "name": "stdout",
     "output_type": "stream",
     "text": [
      "Downloading http://irsa.ipac.caltech.edu/ibe/search/twomass/allsky/allsky?POS=358.11233,69.498787 [Done]\n",
      "Downloading http://stdatu.stsci.edu/cgi-bin/dss_search?v=poss2ukstu_red&r=358.11233&d=69.498787&e=J2000&h=2&w=2&f=fits [Done]\n",
      "1992-09-28\n",
      "INFO: Auto-setting vmin to  2.035e+03 [aplpy.core]\n",
      "INFO: Auto-setting vmax to  2.654e+04 [aplpy.core]\n"
     ]
    },
    {
     "name": "stderr",
     "output_type": "stream",
     "text": [
      "/Library/Frameworks/Python.framework/Versions/3.6/lib/python3.6/site-packages/matplotlib/pyplot.py:523: RuntimeWarning: More than 20 figures have been opened. Figures created through the pyplot interface (`matplotlib.pyplot.figure`) are retained until explicitly closed and may consume too much memory. (To control this warning, see the rcParam `figure.max_open_warning`).\n",
      "  max_open_warning, RuntimeWarning)\n"
     ]
    },
    {
     "name": "stdout",
     "output_type": "stream",
     "text": [
      "Downloading http://irsa.ipac.caltech.edu/ibe/search/twomass/allsky/allsky?POS=357.023442,69.549307 [Done]\n",
      "Downloading http://stdatu.stsci.edu/cgi-bin/dss_search?v=poss2ukstu_red&r=357.023442&d=69.549307&e=J2000&h=2&w=2&f=fits [Done]\n",
      "1992-09-28\n",
      "INFO: Auto-setting vmin to  1.860e+03 [aplpy.core]\n",
      "INFO: Auto-setting vmax to  2.573e+04 [aplpy.core]\n"
     ]
    },
    {
     "name": "stderr",
     "output_type": "stream",
     "text": [
      "/Library/Frameworks/Python.framework/Versions/3.6/lib/python3.6/site-packages/matplotlib/pyplot.py:523: RuntimeWarning: More than 20 figures have been opened. Figures created through the pyplot interface (`matplotlib.pyplot.figure`) are retained until explicitly closed and may consume too much memory. (To control this warning, see the rcParam `figure.max_open_warning`).\n",
      "  max_open_warning, RuntimeWarning)\n"
     ]
    },
    {
     "name": "stdout",
     "output_type": "stream",
     "text": [
      "Downloading http://irsa.ipac.caltech.edu/ibe/search/twomass/allsky/allsky?POS=340.026684,54.453105 [Done]\n",
      "Downloading http://stdatu.stsci.edu/cgi-bin/dss_search?v=poss2ukstu_red&r=340.026684&d=54.453105&e=J2000&h=2&w=2&f=fits [Done]\n",
      "1990-08-23\n",
      "INFO: Auto-setting vmin to  1.645e+03 [aplpy.core]\n",
      "INFO: Auto-setting vmax to  2.517e+04 [aplpy.core]\n"
     ]
    },
    {
     "name": "stderr",
     "output_type": "stream",
     "text": [
      "/Library/Frameworks/Python.framework/Versions/3.6/lib/python3.6/site-packages/matplotlib/pyplot.py:523: RuntimeWarning: More than 20 figures have been opened. Figures created through the pyplot interface (`matplotlib.pyplot.figure`) are retained until explicitly closed and may consume too much memory. (To control this warning, see the rcParam `figure.max_open_warning`).\n",
      "  max_open_warning, RuntimeWarning)\n"
     ]
    },
    {
     "name": "stdout",
     "output_type": "stream",
     "text": [
      "Downloading http://irsa.ipac.caltech.edu/ibe/search/twomass/allsky/allsky?POS=338.913769,56.861174 [Done]\n",
      "Downloading http://stdatu.stsci.edu/cgi-bin/dss_search?v=poss2ukstu_red&r=338.913769&d=56.861174&e=J2000&h=2&w=2&f=fits [Done]\n",
      "1990-08-23\n",
      "INFO: Auto-setting vmin to  2.518e+03 [aplpy.core]\n",
      "INFO: Auto-setting vmax to  2.695e+04 [aplpy.core]\n"
     ]
    },
    {
     "name": "stderr",
     "output_type": "stream",
     "text": [
      "/Library/Frameworks/Python.framework/Versions/3.6/lib/python3.6/site-packages/matplotlib/pyplot.py:523: RuntimeWarning: More than 20 figures have been opened. Figures created through the pyplot interface (`matplotlib.pyplot.figure`) are retained until explicitly closed and may consume too much memory. (To control this warning, see the rcParam `figure.max_open_warning`).\n",
      "  max_open_warning, RuntimeWarning)\n"
     ]
    },
    {
     "name": "stdout",
     "output_type": "stream",
     "text": [
      "Downloading http://irsa.ipac.caltech.edu/ibe/search/twomass/allsky/allsky?POS=4.557788,57.666452 [Done]\n",
      "Downloading http://stdatu.stsci.edu/cgi-bin/dss_search?v=poss2ukstu_red&r=4.557788&d=57.666452&e=J2000&h=2&w=2&f=fits [Done]\n",
      "1990-09-19\n",
      "INFO: Auto-setting vmin to  2.276e+03 [aplpy.core]\n",
      "INFO: Auto-setting vmax to  2.234e+04 [aplpy.core]\n"
     ]
    },
    {
     "name": "stderr",
     "output_type": "stream",
     "text": [
      "/Library/Frameworks/Python.framework/Versions/3.6/lib/python3.6/site-packages/matplotlib/pyplot.py:523: RuntimeWarning: More than 20 figures have been opened. Figures created through the pyplot interface (`matplotlib.pyplot.figure`) are retained until explicitly closed and may consume too much memory. (To control this warning, see the rcParam `figure.max_open_warning`).\n",
      "  max_open_warning, RuntimeWarning)\n"
     ]
    },
    {
     "name": "stdout",
     "output_type": "stream",
     "text": [
      "Downloading http://irsa.ipac.caltech.edu/ibe/search/twomass/allsky/allsky?POS=243.908594,70.424862 [Done]\n",
      "Downloading http://stdatu.stsci.edu/cgi-bin/dss_search?v=poss2ukstu_red&r=243.908594&d=70.424862&e=J2000&h=2&w=2&f=fits [Done]\n",
      "1992-04-10\n",
      "INFO: Auto-setting vmin to  2.376e+03 [aplpy.core]\n",
      "INFO: Auto-setting vmax to  2.334e+04 [aplpy.core]\n"
     ]
    },
    {
     "name": "stderr",
     "output_type": "stream",
     "text": [
      "/Library/Frameworks/Python.framework/Versions/3.6/lib/python3.6/site-packages/matplotlib/pyplot.py:523: RuntimeWarning: More than 20 figures have been opened. Figures created through the pyplot interface (`matplotlib.pyplot.figure`) are retained until explicitly closed and may consume too much memory. (To control this warning, see the rcParam `figure.max_open_warning`).\n",
      "  max_open_warning, RuntimeWarning)\n"
     ]
    }
   ],
   "source": [
    "import matplotlib.pyplot as plt\n",
    "import aplpy\n",
    "from astropy.wcs import WCS\n",
    "from astropy.io import fits, ascii\n",
    "from astropy.utils.data import get_pkg_data_filename\n",
    "from astroquery.skyview import SkyView\n",
    "import ssl\n",
    "import aplpy\n",
    "from lens import Lens\n",
    "from astropy.table import Table\n",
    "import sqlutil as sqlutil\n",
    "import numpy as np\n",
    "\n",
    "\n",
    "candidates = Table.read('data/candidatesDistTime.txt',format='ascii')\n",
    "\n",
    "timeMask = (candidates['Closest_approah_time[JYr]'] > 2018.0) & (candidates['Closest_approach_Dist[mas]'] < 260.0)\n",
    "\n",
    "#candidates = candidates[timeMask]\n",
    "TGASlensid = candidates['TGAS_id']\n",
    "ppmxlid = candidates['ppmxl_id']\n",
    "CloseApp = candidates['Closest_approach_Dist[mas]'] \n",
    "timeApp = candidates['Closest_approah_time[JYr]']\n",
    "imsize = 2\n",
    "\n",
    "for i in range(0,len(TGASlensid)):\n",
    "    \n",
    "    querystringTGAS = 'select ra, dec, source_id,pmra,pmdec,ref_epoch from gaia_dr1.tgas_source where source_id=' + str(TGASlensid[i])\n",
    "    querystringPPMXL ='select ra, dec, id from ppmxl.main where id=' + str(ppmxlid[i])\n",
    "\n",
    "    lensRa, lensDec, id,pmra,pmdec,ref_epoch = sqlutil.get(querystringTGAS,\n",
    "                                                           db='wsdb',host='cappc127.ast.cam.ac.uk', user='peter_mcgill', password='Ln3g.wsk')\n",
    "\n",
    "    testlens1 = Lens(id[0],lensRa[0],lensDec[0],pmra[0],pmdec[0],ref_epoch[0])\n",
    "\n",
    "    sourceRa, sourceDec,sourceId = sqlutil.get(querystringPPMXL,\n",
    "                       db='wsdb',host='cappc127.ast.cam.ac.uk', user='peter_mcgill', password='Ln3g.wsk')\n",
    "    \n",
    "    Diststr = 'Distance of closest Approach: ' + str(\"%.2f\" % CloseApp[i]) + ' [mas]'\n",
    "    Timestr = 'Time of closest Approach: ' + str(\"%.2f\" %timeApp[i]) + ' [Jyr]'\n",
    "    Lensstr = 'TGAS Lens Id (Blue): ' + str(TGASlensid[i]) \n",
    "    Sourcestr = 'PPMXL Source (Red) Id:' + str(ppmxlid[i])\n",
    "    \n",
    "    #sourcePos = str(sourceRa[0]) + ' ' + str(sourceDec[0])\n",
    "        \n",
    "    #images = SkyView.get_images(position=sourcePos,coordinates='ICRS', survey=['DSS Red'], pixels=200)\n",
    "\n",
    "    #hdr = images[0][0].header\n",
    "\n",
    "    ##### 2MASS #####\n",
    "    filter_2m = 'j' # 2mass filter to use\n",
    "\n",
    "    metadata_url = 'http://irsa.ipac.caltech.edu/ibe/search/twomass/allsky/allsky?POS={0},{1}'.format(sourceRa[0],sourceDec[0])\n",
    "    metadata = ascii.read(metadata_url, Reader=ascii.ipac.Ipac)\n",
    "    # selecting the first obs in the requested filter in case there is more than one\n",
    "    target_obs = metadata[metadata['filter']==filter_2m][0]\n",
    "    \n",
    "    params = { 'ordate': target_obs['ordate'],\n",
    "          'hemisphere': target_obs['hemisphere'],\n",
    "          'scanno': target_obs['scanno'],\n",
    "          'fname': target_obs['fname'],\n",
    "          'ra': sourceRa[0],\n",
    "          'de': sourceDec[0],\n",
    "          'imsize': imsize }\n",
    "\n",
    "    url = \"http://stdatu.stsci.edu/cgi-bin/dss_search?v=poss2ukstu_red&r={ra}&d={de}&e=J2000&h={imsize}&w={imsize}&f=fits\".format(**params)\n",
    "    hdulist = fits.open(url)\n",
    "    timeString  = hdulist[0].header['DATE-OBS'][:10]\n",
    "    print(timeString)\n",
    "    \n",
    "    time = testlens1.datetime_to_jyTCB(timeString)\n",
    "    coord = testlens1.get_eq_coords_at_epoch(time)\n",
    "    \n",
    "    raLensimag = coord[0] / np.cos(np.deg2rad(lensDec[0]))\n",
    "    decLensimag = coord[1]\n",
    "    \n",
    "    timeend = testlens1.datetime_to_jyTCB('2040-01-01')\n",
    "    coordend = testlens1.get_eq_coords_at_epoch(timeend)\n",
    "    \n",
    "    raLensimagend = coordend[0] / np.cos(np.deg2rad(lensDec[0]))\n",
    "    decLensimagend = coordend[1]\n",
    "    \n",
    "    line = np.array([[raLensimag,raLensimagend],[decLensimag,decLensimagend]])\n",
    "    \n",
    "    fig = aplpy.FITSFigure(hdulist[0])\n",
    "    fig.show_colorscale(cmap='gray_r')\n",
    "    fig.show_markers(sourceRa[0],sourceDec[0],marker='o',edgecolor='r',label='source')\n",
    "    fig.show_markers(raLensimag,decLensimag,marker='o',edgecolor='b',label='lens at image time (1989-11-22)')\n",
    "    fig.show_lines([line],color='g',linestyle='--',label='lens-trajectory')\n",
    "    \n",
    "    fig.add_label(0.7,0.98,Diststr,relative=True)\n",
    "    fig.add_label(0.7,0.94,Timestr,relative=True)\n",
    "    fig.add_label(0.7,0.90,Lensstr,relative=True)\n",
    "    fig.add_label(0.7,0.86,Sourcestr,relative=True)\n",
    "    \n",
    "    filename = 'source_env/ppmxl_' + str(ppmxlid[i]) + '.png'\n",
    "    fig.save(filename,dpi=200)\n",
    "\n",
    "    \n",
    "#m83_images = SkyView.get_images(position='M83', survey=['2MASS-K'], pixels=1500)\n",
    "\n",
    "#'IRAS': [u'IRIS  12'\n",
    "\n",
    "\n",
    "#fig = aplpy.FITSFigure(images[0])\n",
    "#fig.show_colorscale(cmap='gray_r')\n",
    "#fig.show_markers(321.083744, -46.693367,marker='o',edgecolor='r')\n",
    "#fig.save('test.png',dpi=200)\n",
    "\n",
    "#filename = get_pkg_data_filename(images)\n",
    "\n",
    "#hdu = fits.open(filename)[0]\n",
    "#wcs = WCS(hdu.header)\n",
    "\n",
    "#ax = plt.subplot(projection=wcs)\n",
    "\n",
    "#ax.imshow(hdu.data, origin='lower',cmap='binary')\n",
    "\n",
    "#overlay = ax.get_coords_overlay('fk5')\n",
    "\n",
    "#overlay[0].set_axislabel('Right Ascension (J2000)')\n",
    "#overlay[1].set_axislabel('Declination (J2000)')\n",
    "\n",
    "#ax.scatter([83.257449], [29.387689], transform=ax.get_transform('icrs'),marker='o',edgecolor='r',facecolor=(1, 1, 1, 0.5),)\n",
    "#plt.savefig('out.png',dpi=250)"
   ]
  },
  {
   "cell_type": "code",
   "execution_count": 143,
   "metadata": {},
   "outputs": [
    {
     "name": "stdout",
     "output_type": "stream",
     "text": [
      "Downloading http://irsa.ipac.caltech.edu/ibe/search/twomass/allsky/allsky?POS=166.020883,-46.693367 [Done]\n"
     ]
    },
    {
     "ename": "HTTPError",
     "evalue": "HTTP Error 404: Not Found",
     "output_type": "error",
     "traceback": [
      "\u001b[0;31m---------------------------------------------------------------------------\u001b[0m",
      "\u001b[0;31mHTTPError\u001b[0m                                 Traceback (most recent call last)",
      "\u001b[0;32m<ipython-input-143-8b6996c386d5>\u001b[0m in \u001b[0;36m<module>\u001b[0;34m()\u001b[0m\n\u001b[1;32m     24\u001b[0m \u001b[0mcutout_url\u001b[0m \u001b[0;34m=\u001b[0m \u001b[0;34m'http://irsa.ipac.caltech.edu/ibe/data/twomass/allsky/allsky/'\u001b[0m \u001b[0;34m+\u001b[0m \u001b[0mcutout_path\u001b[0m\u001b[0;34m\u001b[0m\u001b[0m\n\u001b[1;32m     25\u001b[0m \u001b[0;34m\u001b[0m\u001b[0m\n\u001b[0;32m---> 26\u001b[0;31m \u001b[0mhdulist\u001b[0m \u001b[0;34m=\u001b[0m \u001b[0mfits\u001b[0m\u001b[0;34m.\u001b[0m\u001b[0mopen\u001b[0m\u001b[0;34m(\u001b[0m\u001b[0mcutout_url\u001b[0m\u001b[0;34m)\u001b[0m\u001b[0;34m\u001b[0m\u001b[0m\n\u001b[0m\u001b[1;32m     27\u001b[0m \u001b[0mprint\u001b[0m\u001b[0;34m(\u001b[0m\u001b[0mhdulist\u001b[0m\u001b[0;34m[\u001b[0m\u001b[0;36m0\u001b[0m\u001b[0;34m]\u001b[0m\u001b[0;34m.\u001b[0m\u001b[0mheader\u001b[0m\u001b[0;34m[\u001b[0m\u001b[0;34m'ordate'\u001b[0m\u001b[0;34m]\u001b[0m\u001b[0;34m)\u001b[0m\u001b[0;34m\u001b[0m\u001b[0m\n",
      "\u001b[0;32m/Library/Frameworks/Python.framework/Versions/3.6/lib/python3.6/site-packages/astropy/io/fits/hdu/hdulist.py\u001b[0m in \u001b[0;36mfitsopen\u001b[0;34m(name, mode, memmap, save_backup, cache, lazy_load_hdus, **kwargs)\u001b[0m\n\u001b[1;32m    158\u001b[0m \u001b[0;34m\u001b[0m\u001b[0m\n\u001b[1;32m    159\u001b[0m     return HDUList.fromfile(name, mode, memmap, save_backup, cache,\n\u001b[0;32m--> 160\u001b[0;31m                             lazy_load_hdus, **kwargs)\n\u001b[0m\u001b[1;32m    161\u001b[0m \u001b[0;34m\u001b[0m\u001b[0m\n\u001b[1;32m    162\u001b[0m \u001b[0;34m\u001b[0m\u001b[0m\n",
      "\u001b[0;32m/Library/Frameworks/Python.framework/Versions/3.6/lib/python3.6/site-packages/astropy/io/fits/hdu/hdulist.py\u001b[0m in \u001b[0;36mfromfile\u001b[0;34m(cls, fileobj, mode, memmap, save_backup, cache, lazy_load_hdus, **kwargs)\u001b[0m\n\u001b[1;32m    411\u001b[0m         return cls._readfrom(fileobj=fileobj, mode=mode, memmap=memmap,\n\u001b[1;32m    412\u001b[0m                              \u001b[0msave_backup\u001b[0m\u001b[0;34m=\u001b[0m\u001b[0msave_backup\u001b[0m\u001b[0;34m,\u001b[0m \u001b[0mcache\u001b[0m\u001b[0;34m=\u001b[0m\u001b[0mcache\u001b[0m\u001b[0;34m,\u001b[0m\u001b[0;34m\u001b[0m\u001b[0m\n\u001b[0;32m--> 413\u001b[0;31m                              lazy_load_hdus=lazy_load_hdus, **kwargs)\n\u001b[0m\u001b[1;32m    414\u001b[0m \u001b[0;34m\u001b[0m\u001b[0m\n\u001b[1;32m    415\u001b[0m     \u001b[0;34m@\u001b[0m\u001b[0mclassmethod\u001b[0m\u001b[0;34m\u001b[0m\u001b[0m\n",
      "\u001b[0;32m/Library/Frameworks/Python.framework/Versions/3.6/lib/python3.6/site-packages/astropy/io/fits/hdu/hdulist.py\u001b[0m in \u001b[0;36m_readfrom\u001b[0;34m(cls, fileobj, data, mode, memmap, save_backup, cache, lazy_load_hdus, **kwargs)\u001b[0m\n\u001b[1;32m    996\u001b[0m             \u001b[0;32mif\u001b[0m \u001b[0;32mnot\u001b[0m \u001b[0misinstance\u001b[0m\u001b[0;34m(\u001b[0m\u001b[0mfileobj\u001b[0m\u001b[0;34m,\u001b[0m \u001b[0m_File\u001b[0m\u001b[0;34m)\u001b[0m\u001b[0;34m:\u001b[0m\u001b[0;34m\u001b[0m\u001b[0m\n\u001b[1;32m    997\u001b[0m                 \u001b[0;31m# instantiate a FITS file object (ffo)\u001b[0m\u001b[0;34m\u001b[0m\u001b[0;34m\u001b[0m\u001b[0m\n\u001b[0;32m--> 998\u001b[0;31m                 \u001b[0mfileobj\u001b[0m \u001b[0;34m=\u001b[0m \u001b[0m_File\u001b[0m\u001b[0;34m(\u001b[0m\u001b[0mfileobj\u001b[0m\u001b[0;34m,\u001b[0m \u001b[0mmode\u001b[0m\u001b[0;34m=\u001b[0m\u001b[0mmode\u001b[0m\u001b[0;34m,\u001b[0m \u001b[0mmemmap\u001b[0m\u001b[0;34m=\u001b[0m\u001b[0mmemmap\u001b[0m\u001b[0;34m,\u001b[0m \u001b[0mcache\u001b[0m\u001b[0;34m=\u001b[0m\u001b[0mcache\u001b[0m\u001b[0;34m)\u001b[0m\u001b[0;34m\u001b[0m\u001b[0m\n\u001b[0m\u001b[1;32m    999\u001b[0m             \u001b[0;31m# The pyfits mode is determined by the _File initializer if the\u001b[0m\u001b[0;34m\u001b[0m\u001b[0;34m\u001b[0m\u001b[0m\n\u001b[1;32m   1000\u001b[0m             \u001b[0;31m# supplied mode was None\u001b[0m\u001b[0;34m\u001b[0m\u001b[0;34m\u001b[0m\u001b[0m\n",
      "\u001b[0;32m/Library/Frameworks/Python.framework/Versions/3.6/lib/python3.6/site-packages/astropy/utils/decorators.py\u001b[0m in \u001b[0;36mwrapper\u001b[0;34m(*args, **kwargs)\u001b[0m\n\u001b[1;32m    505\u001b[0m                         \u001b[0;31m# one with the name of the new argument to the function\u001b[0m\u001b[0;34m\u001b[0m\u001b[0;34m\u001b[0m\u001b[0m\n\u001b[1;32m    506\u001b[0m                         \u001b[0mkwargs\u001b[0m\u001b[0;34m[\u001b[0m\u001b[0mnew_name\u001b[0m\u001b[0;34m[\u001b[0m\u001b[0mi\u001b[0m\u001b[0;34m]\u001b[0m\u001b[0;34m]\u001b[0m \u001b[0;34m=\u001b[0m \u001b[0mvalue\u001b[0m\u001b[0;34m\u001b[0m\u001b[0m\n\u001b[0;32m--> 507\u001b[0;31m             \u001b[0;32mreturn\u001b[0m \u001b[0mfunction\u001b[0m\u001b[0;34m(\u001b[0m\u001b[0;34m*\u001b[0m\u001b[0margs\u001b[0m\u001b[0;34m,\u001b[0m \u001b[0;34m**\u001b[0m\u001b[0mkwargs\u001b[0m\u001b[0;34m)\u001b[0m\u001b[0;34m\u001b[0m\u001b[0m\n\u001b[0m\u001b[1;32m    508\u001b[0m \u001b[0;34m\u001b[0m\u001b[0m\n\u001b[1;32m    509\u001b[0m         \u001b[0;32mreturn\u001b[0m \u001b[0mwrapper\u001b[0m\u001b[0;34m\u001b[0m\u001b[0m\n",
      "\u001b[0;32m/Library/Frameworks/Python.framework/Versions/3.6/lib/python3.6/site-packages/astropy/io/fits/file.py\u001b[0m in \u001b[0;36m__init__\u001b[0;34m(self, fileobj, mode, memmap, overwrite, cache)\u001b[0m\n\u001b[1;32m    123\u001b[0m             \u001b[0mmode\u001b[0m \u001b[0;32mnot\u001b[0m \u001b[0;32min\u001b[0m \u001b[0;34m(\u001b[0m\u001b[0;34m'ostream'\u001b[0m\u001b[0;34m,\u001b[0m \u001b[0;34m'append'\u001b[0m\u001b[0;34m)\u001b[0m \u001b[0;32mand\u001b[0m\u001b[0;34m\u001b[0m\u001b[0m\n\u001b[1;32m    124\u001b[0m             _is_url(fileobj)):  # This is an URL.\n\u001b[0;32m--> 125\u001b[0;31m             \u001b[0mself\u001b[0m\u001b[0;34m.\u001b[0m\u001b[0mname\u001b[0m \u001b[0;34m=\u001b[0m \u001b[0mdownload_file\u001b[0m\u001b[0;34m(\u001b[0m\u001b[0mfileobj\u001b[0m\u001b[0;34m,\u001b[0m \u001b[0mcache\u001b[0m\u001b[0;34m=\u001b[0m\u001b[0mcache\u001b[0m\u001b[0;34m)\u001b[0m\u001b[0;34m\u001b[0m\u001b[0m\n\u001b[0m\u001b[1;32m    126\u001b[0m         \u001b[0;32melse\u001b[0m\u001b[0;34m:\u001b[0m\u001b[0;34m\u001b[0m\u001b[0m\n\u001b[1;32m    127\u001b[0m             \u001b[0mself\u001b[0m\u001b[0;34m.\u001b[0m\u001b[0mname\u001b[0m \u001b[0;34m=\u001b[0m \u001b[0mfileobj_name\u001b[0m\u001b[0;34m(\u001b[0m\u001b[0mfileobj\u001b[0m\u001b[0;34m)\u001b[0m\u001b[0;34m\u001b[0m\u001b[0m\n",
      "\u001b[0;32m/Library/Frameworks/Python.framework/Versions/3.6/lib/python3.6/site-packages/astropy/utils/data.py\u001b[0m in \u001b[0;36mdownload_file\u001b[0;34m(remote_url, cache, show_progress, timeout)\u001b[0m\n\u001b[1;32m   1124\u001b[0m             \u001b[0me\u001b[0m\u001b[0;34m.\u001b[0m\u001b[0mreason\u001b[0m\u001b[0;34m.\u001b[0m\u001b[0mstrerror\u001b[0m \u001b[0;34m=\u001b[0m \u001b[0me\u001b[0m\u001b[0;34m.\u001b[0m\u001b[0mreason\u001b[0m\u001b[0;34m.\u001b[0m\u001b[0mstrerror\u001b[0m \u001b[0;34m+\u001b[0m \u001b[0;34m'. requested URL: '\u001b[0m \u001b[0;34m+\u001b[0m \u001b[0mremote_url\u001b[0m\u001b[0;34m\u001b[0m\u001b[0m\n\u001b[1;32m   1125\u001b[0m             \u001b[0me\u001b[0m\u001b[0;34m.\u001b[0m\u001b[0mreason\u001b[0m\u001b[0;34m.\u001b[0m\u001b[0margs\u001b[0m \u001b[0;34m=\u001b[0m \u001b[0;34m(\u001b[0m\u001b[0me\u001b[0m\u001b[0;34m.\u001b[0m\u001b[0mreason\u001b[0m\u001b[0;34m.\u001b[0m\u001b[0merrno\u001b[0m\u001b[0;34m,\u001b[0m \u001b[0me\u001b[0m\u001b[0;34m.\u001b[0m\u001b[0mreason\u001b[0m\u001b[0;34m.\u001b[0m\u001b[0mstrerror\u001b[0m\u001b[0;34m)\u001b[0m\u001b[0;34m\u001b[0m\u001b[0m\n\u001b[0;32m-> 1126\u001b[0;31m         \u001b[0;32mraise\u001b[0m \u001b[0me\u001b[0m\u001b[0;34m\u001b[0m\u001b[0m\n\u001b[0m\u001b[1;32m   1127\u001b[0m     \u001b[0;32mexcept\u001b[0m \u001b[0msocket\u001b[0m\u001b[0;34m.\u001b[0m\u001b[0mtimeout\u001b[0m \u001b[0;32mas\u001b[0m \u001b[0me\u001b[0m\u001b[0;34m:\u001b[0m\u001b[0;34m\u001b[0m\u001b[0m\n\u001b[1;32m   1128\u001b[0m         \u001b[0;31m# this isn't supposed to happen, but occasionally a socket.timeout gets\u001b[0m\u001b[0;34m\u001b[0m\u001b[0;34m\u001b[0m\u001b[0m\n",
      "\u001b[0;32m/Library/Frameworks/Python.framework/Versions/3.6/lib/python3.6/site-packages/astropy/utils/data.py\u001b[0m in \u001b[0;36mdownload_file\u001b[0;34m(remote_url, cache, show_progress, timeout)\u001b[0m\n\u001b[1;32m   1057\u001b[0m \u001b[0;34m\u001b[0m\u001b[0m\n\u001b[1;32m   1058\u001b[0m         with contextlib.closing(urllib.request.urlopen(\n\u001b[0;32m-> 1059\u001b[0;31m                 remote_url, timeout=timeout)) as remote:\n\u001b[0m\u001b[1;32m   1060\u001b[0m             \u001b[0;31m# keep a hash to rename the local file to the hashed name\u001b[0m\u001b[0;34m\u001b[0m\u001b[0;34m\u001b[0m\u001b[0m\n\u001b[1;32m   1061\u001b[0m             \u001b[0mhash\u001b[0m \u001b[0;34m=\u001b[0m \u001b[0mhashlib\u001b[0m\u001b[0;34m.\u001b[0m\u001b[0mmd5\u001b[0m\u001b[0;34m(\u001b[0m\u001b[0;34m)\u001b[0m\u001b[0;34m\u001b[0m\u001b[0m\n",
      "\u001b[0;32m/Library/Frameworks/Python.framework/Versions/3.6/lib/python3.6/urllib/request.py\u001b[0m in \u001b[0;36murlopen\u001b[0;34m(url, data, timeout, cafile, capath, cadefault, context)\u001b[0m\n\u001b[1;32m    221\u001b[0m     \u001b[0;32melse\u001b[0m\u001b[0;34m:\u001b[0m\u001b[0;34m\u001b[0m\u001b[0m\n\u001b[1;32m    222\u001b[0m         \u001b[0mopener\u001b[0m \u001b[0;34m=\u001b[0m \u001b[0m_opener\u001b[0m\u001b[0;34m\u001b[0m\u001b[0m\n\u001b[0;32m--> 223\u001b[0;31m     \u001b[0;32mreturn\u001b[0m \u001b[0mopener\u001b[0m\u001b[0;34m.\u001b[0m\u001b[0mopen\u001b[0m\u001b[0;34m(\u001b[0m\u001b[0murl\u001b[0m\u001b[0;34m,\u001b[0m \u001b[0mdata\u001b[0m\u001b[0;34m,\u001b[0m \u001b[0mtimeout\u001b[0m\u001b[0;34m)\u001b[0m\u001b[0;34m\u001b[0m\u001b[0m\n\u001b[0m\u001b[1;32m    224\u001b[0m \u001b[0;34m\u001b[0m\u001b[0m\n\u001b[1;32m    225\u001b[0m \u001b[0;32mdef\u001b[0m \u001b[0minstall_opener\u001b[0m\u001b[0;34m(\u001b[0m\u001b[0mopener\u001b[0m\u001b[0;34m)\u001b[0m\u001b[0;34m:\u001b[0m\u001b[0;34m\u001b[0m\u001b[0m\n",
      "\u001b[0;32m/Library/Frameworks/Python.framework/Versions/3.6/lib/python3.6/urllib/request.py\u001b[0m in \u001b[0;36mopen\u001b[0;34m(self, fullurl, data, timeout)\u001b[0m\n\u001b[1;32m    530\u001b[0m         \u001b[0;32mfor\u001b[0m \u001b[0mprocessor\u001b[0m \u001b[0;32min\u001b[0m \u001b[0mself\u001b[0m\u001b[0;34m.\u001b[0m\u001b[0mprocess_response\u001b[0m\u001b[0;34m.\u001b[0m\u001b[0mget\u001b[0m\u001b[0;34m(\u001b[0m\u001b[0mprotocol\u001b[0m\u001b[0;34m,\u001b[0m \u001b[0;34m[\u001b[0m\u001b[0;34m]\u001b[0m\u001b[0;34m)\u001b[0m\u001b[0;34m:\u001b[0m\u001b[0;34m\u001b[0m\u001b[0m\n\u001b[1;32m    531\u001b[0m             \u001b[0mmeth\u001b[0m \u001b[0;34m=\u001b[0m \u001b[0mgetattr\u001b[0m\u001b[0;34m(\u001b[0m\u001b[0mprocessor\u001b[0m\u001b[0;34m,\u001b[0m \u001b[0mmeth_name\u001b[0m\u001b[0;34m)\u001b[0m\u001b[0;34m\u001b[0m\u001b[0m\n\u001b[0;32m--> 532\u001b[0;31m             \u001b[0mresponse\u001b[0m \u001b[0;34m=\u001b[0m \u001b[0mmeth\u001b[0m\u001b[0;34m(\u001b[0m\u001b[0mreq\u001b[0m\u001b[0;34m,\u001b[0m \u001b[0mresponse\u001b[0m\u001b[0;34m)\u001b[0m\u001b[0;34m\u001b[0m\u001b[0m\n\u001b[0m\u001b[1;32m    533\u001b[0m \u001b[0;34m\u001b[0m\u001b[0m\n\u001b[1;32m    534\u001b[0m         \u001b[0;32mreturn\u001b[0m \u001b[0mresponse\u001b[0m\u001b[0;34m\u001b[0m\u001b[0m\n",
      "\u001b[0;32m/Library/Frameworks/Python.framework/Versions/3.6/lib/python3.6/urllib/request.py\u001b[0m in \u001b[0;36mhttp_response\u001b[0;34m(self, request, response)\u001b[0m\n\u001b[1;32m    640\u001b[0m         \u001b[0;32mif\u001b[0m \u001b[0;32mnot\u001b[0m \u001b[0;34m(\u001b[0m\u001b[0;36m200\u001b[0m \u001b[0;34m<=\u001b[0m \u001b[0mcode\u001b[0m \u001b[0;34m<\u001b[0m \u001b[0;36m300\u001b[0m\u001b[0;34m)\u001b[0m\u001b[0;34m:\u001b[0m\u001b[0;34m\u001b[0m\u001b[0m\n\u001b[1;32m    641\u001b[0m             response = self.parent.error(\n\u001b[0;32m--> 642\u001b[0;31m                 'http', request, response, code, msg, hdrs)\n\u001b[0m\u001b[1;32m    643\u001b[0m \u001b[0;34m\u001b[0m\u001b[0m\n\u001b[1;32m    644\u001b[0m         \u001b[0;32mreturn\u001b[0m \u001b[0mresponse\u001b[0m\u001b[0;34m\u001b[0m\u001b[0m\n",
      "\u001b[0;32m/Library/Frameworks/Python.framework/Versions/3.6/lib/python3.6/urllib/request.py\u001b[0m in \u001b[0;36merror\u001b[0;34m(self, proto, *args)\u001b[0m\n\u001b[1;32m    568\u001b[0m         \u001b[0;32mif\u001b[0m \u001b[0mhttp_err\u001b[0m\u001b[0;34m:\u001b[0m\u001b[0;34m\u001b[0m\u001b[0m\n\u001b[1;32m    569\u001b[0m             \u001b[0margs\u001b[0m \u001b[0;34m=\u001b[0m \u001b[0;34m(\u001b[0m\u001b[0mdict\u001b[0m\u001b[0;34m,\u001b[0m \u001b[0;34m'default'\u001b[0m\u001b[0;34m,\u001b[0m \u001b[0;34m'http_error_default'\u001b[0m\u001b[0;34m)\u001b[0m \u001b[0;34m+\u001b[0m \u001b[0morig_args\u001b[0m\u001b[0;34m\u001b[0m\u001b[0m\n\u001b[0;32m--> 570\u001b[0;31m             \u001b[0;32mreturn\u001b[0m \u001b[0mself\u001b[0m\u001b[0;34m.\u001b[0m\u001b[0m_call_chain\u001b[0m\u001b[0;34m(\u001b[0m\u001b[0;34m*\u001b[0m\u001b[0margs\u001b[0m\u001b[0;34m)\u001b[0m\u001b[0;34m\u001b[0m\u001b[0m\n\u001b[0m\u001b[1;32m    571\u001b[0m \u001b[0;34m\u001b[0m\u001b[0m\n\u001b[1;32m    572\u001b[0m \u001b[0;31m# XXX probably also want an abstract factory that knows when it makes\u001b[0m\u001b[0;34m\u001b[0m\u001b[0;34m\u001b[0m\u001b[0m\n",
      "\u001b[0;32m/Library/Frameworks/Python.framework/Versions/3.6/lib/python3.6/urllib/request.py\u001b[0m in \u001b[0;36m_call_chain\u001b[0;34m(self, chain, kind, meth_name, *args)\u001b[0m\n\u001b[1;32m    502\u001b[0m         \u001b[0;32mfor\u001b[0m \u001b[0mhandler\u001b[0m \u001b[0;32min\u001b[0m \u001b[0mhandlers\u001b[0m\u001b[0;34m:\u001b[0m\u001b[0;34m\u001b[0m\u001b[0m\n\u001b[1;32m    503\u001b[0m             \u001b[0mfunc\u001b[0m \u001b[0;34m=\u001b[0m \u001b[0mgetattr\u001b[0m\u001b[0;34m(\u001b[0m\u001b[0mhandler\u001b[0m\u001b[0;34m,\u001b[0m \u001b[0mmeth_name\u001b[0m\u001b[0;34m)\u001b[0m\u001b[0;34m\u001b[0m\u001b[0m\n\u001b[0;32m--> 504\u001b[0;31m             \u001b[0mresult\u001b[0m \u001b[0;34m=\u001b[0m \u001b[0mfunc\u001b[0m\u001b[0;34m(\u001b[0m\u001b[0;34m*\u001b[0m\u001b[0margs\u001b[0m\u001b[0;34m)\u001b[0m\u001b[0;34m\u001b[0m\u001b[0m\n\u001b[0m\u001b[1;32m    505\u001b[0m             \u001b[0;32mif\u001b[0m \u001b[0mresult\u001b[0m \u001b[0;32mis\u001b[0m \u001b[0;32mnot\u001b[0m \u001b[0;32mNone\u001b[0m\u001b[0;34m:\u001b[0m\u001b[0;34m\u001b[0m\u001b[0m\n\u001b[1;32m    506\u001b[0m                 \u001b[0;32mreturn\u001b[0m \u001b[0mresult\u001b[0m\u001b[0;34m\u001b[0m\u001b[0m\n",
      "\u001b[0;32m/Library/Frameworks/Python.framework/Versions/3.6/lib/python3.6/urllib/request.py\u001b[0m in \u001b[0;36mhttp_error_default\u001b[0;34m(self, req, fp, code, msg, hdrs)\u001b[0m\n\u001b[1;32m    648\u001b[0m \u001b[0;32mclass\u001b[0m \u001b[0mHTTPDefaultErrorHandler\u001b[0m\u001b[0;34m(\u001b[0m\u001b[0mBaseHandler\u001b[0m\u001b[0;34m)\u001b[0m\u001b[0;34m:\u001b[0m\u001b[0;34m\u001b[0m\u001b[0m\n\u001b[1;32m    649\u001b[0m     \u001b[0;32mdef\u001b[0m \u001b[0mhttp_error_default\u001b[0m\u001b[0;34m(\u001b[0m\u001b[0mself\u001b[0m\u001b[0;34m,\u001b[0m \u001b[0mreq\u001b[0m\u001b[0;34m,\u001b[0m \u001b[0mfp\u001b[0m\u001b[0;34m,\u001b[0m \u001b[0mcode\u001b[0m\u001b[0;34m,\u001b[0m \u001b[0mmsg\u001b[0m\u001b[0;34m,\u001b[0m \u001b[0mhdrs\u001b[0m\u001b[0;34m)\u001b[0m\u001b[0;34m:\u001b[0m\u001b[0;34m\u001b[0m\u001b[0m\n\u001b[0;32m--> 650\u001b[0;31m         \u001b[0;32mraise\u001b[0m \u001b[0mHTTPError\u001b[0m\u001b[0;34m(\u001b[0m\u001b[0mreq\u001b[0m\u001b[0;34m.\u001b[0m\u001b[0mfull_url\u001b[0m\u001b[0;34m,\u001b[0m \u001b[0mcode\u001b[0m\u001b[0;34m,\u001b[0m \u001b[0mmsg\u001b[0m\u001b[0;34m,\u001b[0m \u001b[0mhdrs\u001b[0m\u001b[0;34m,\u001b[0m \u001b[0mfp\u001b[0m\u001b[0;34m)\u001b[0m\u001b[0;34m\u001b[0m\u001b[0m\n\u001b[0m\u001b[1;32m    651\u001b[0m \u001b[0;34m\u001b[0m\u001b[0m\n\u001b[1;32m    652\u001b[0m \u001b[0;32mclass\u001b[0m \u001b[0mHTTPRedirectHandler\u001b[0m\u001b[0;34m(\u001b[0m\u001b[0mBaseHandler\u001b[0m\u001b[0;34m)\u001b[0m\u001b[0;34m:\u001b[0m\u001b[0;34m\u001b[0m\u001b[0m\n",
      "\u001b[0;31mHTTPError\u001b[0m: HTTP Error 404: Not Found"
     ]
    }
   ],
   "source": [
    "from astropy.io import ascii, fits\n",
    "# example coordinates\n",
    "ra = 166.020883 \n",
    "dec = -46.46603\n",
    "imsize = 2 # arcmin\n",
    "\n",
    "##### 2MASS #####\n",
    "filter_2m = 'j' # 2mass filter to use\n",
    "\n",
    "metadata_url = 'http://irsa.ipac.caltech.edu/ibe/search/twomass/allsky/allsky?POS={0},{1}'.format(ra,de)\n",
    "metadata = ascii.read(metadata_url, Reader=ascii.ipac.Ipac)\n",
    "# selecting the first obs in the requested filter in case there is more than one\n",
    "target_obs = metadata[metadata['filter']==filter_2m][0]\n",
    "\n",
    "params = { 'ordate': target_obs['ordate'],\n",
    "          'hemisphere': target_obs['hemisphere'],\n",
    "          'scanno': target_obs['scanno'],\n",
    "          'fname': target_obs['fname'],\n",
    "          'ra': ra,\n",
    "          'de': de,\n",
    "          'imsize': imsize }\n",
    "\n",
    "cutout_path = \"{ordate}{hemisphere}/s{scanno}/image/{fname}?center={ra},{de}&size={imsize}arcmin\".format(**params)\n",
    "cutout_url = 'http://irsa.ipac.caltech.edu/ibe/data/twomass/allsky/allsky/' + cutout_path\n",
    "\n",
    "hdulist = fits.open(cutout_url)\n",
    "print(hdulist[0].header['ordate'])"
   ]
  },
  {
   "cell_type": "code",
   "execution_count": 10,
   "metadata": {},
   "outputs": [
    {
     "name": "stdout",
     "output_type": "stream",
     "text": [
      "Downloading http://irsa.ipac.caltech.edu/ibe/search/twomass/allsky/allsky?POS=321.083744,-46.693367 [Done]\n",
      "1993-08-12T14:52:00\n"
     ]
    }
   ],
   "source": [
    "from astropy.io import ascii, fits\n",
    "# example coordinates\n",
    "ra = 321.083744 \n",
    "de = -46.693367 \n",
    "imsize = 2 # arcmin\n",
    "\n",
    "filter_2m = 'j' # 2mass filter to use\n",
    "\n",
    "metadata_url = 'http://irsa.ipac.caltech.edu/ibe/search/twomass/allsky/allsky?POS={0},{1}'.format(ra,de)\n",
    "metadata = ascii.read(metadata_url, Reader=ascii.ipac.Ipac)\n",
    "# selecting the first obs in the requested filter in case there is more than one\n",
    "target_obs = metadata[metadata['filter']==filter_2m][0]\n",
    "\n",
    "\n",
    "params = { 'ordate': target_obs['ordate'],\n",
    "          'hemisphere': target_obs['hemisphere'],\n",
    "          'scanno': target_obs['scanno'],\n",
    "          'fname': target_obs['fname'],\n",
    "          'ra': ra,\n",
    "          'de': de,\n",
    "          'imsize': imsize }\n",
    "\n",
    "cutout_path = \"{ordate}{hemisphere}/s{scanno}/image/{fname}?center={ra},{de}&size={imsize}arcmin\".format(**params)\n",
    "cutout_url = 'http://irsa.ipac.caltech.edu/ibe/data/twomass/allsky/allsky/' + cutout_path\n",
    "\n",
    "#hdulist = fits.open(cutout_url)\n",
    "#print(hdulist[0].header['ordate'])\n",
    "\n",
    "\n",
    "##### DSS #####\n",
    "url = \"http://stdatu.stsci.edu/cgi-bin/dss_search?v=poss2ukstu_red&r={ra}&d={de}&e=J2000&h={imsize}&w={imsize}&f=fits\".format(**params)\n",
    "hdulist = fits.open(url)\n",
    "print(hdulist[0].header['DATE-OBS'])\n"
   ]
  },
  {
   "cell_type": "code",
   "execution_count": 13,
   "metadata": {},
   "outputs": [
    {
     "name": "stdout",
     "output_type": "stream",
     "text": [
      "[[4373 4148 3924 ..., 4136 4136 4136]\n",
      " [4373 4148 4148 ..., 4136 4136 4136]\n",
      " [4148 4148 4036 ..., 4024 4024 4248]\n",
      " ..., \n",
      " [3985 4210 4434 ..., 4369 4369 4257]\n",
      " [4210 4434 4434 ..., 4369 4369 4481]\n",
      " [4546 4546 4434 ..., 4369 4369 4257]]\n"
     ]
    }
   ],
   "source": [
    "print(hdulist[0].data)"
   ]
  },
  {
   "cell_type": "code",
   "execution_count": 12,
   "metadata": {},
   "outputs": [
    {
     "name": "stdout",
     "output_type": "stream",
     "text": [
      "INFO: Auto-setting vmin to  1.903e+03 [aplpy.core]\n",
      "INFO: Auto-setting vmax to  2.519e+04 [aplpy.core]\n"
     ]
    }
   ],
   "source": [
    "import aplpy\n",
    "fig = aplpy.FITSFigure(hdulist[0])\n",
    "fig.show_colorscale(cmap='gray_r')\n",
    "fig.show_markers(321.083744, -46.693367,marker='o',edgecolor='r')\n",
    "fig.save('test.png',dpi=200)"
   ]
  },
  {
   "cell_type": "code",
   "execution_count": null,
   "metadata": {},
   "outputs": [],
   "source": []
  }
 ],
 "metadata": {
  "kernelspec": {
   "display_name": "Python 3",
   "language": "python",
   "name": "python3"
  }
 },
 "nbformat": 4,
 "nbformat_minor": 2
}
