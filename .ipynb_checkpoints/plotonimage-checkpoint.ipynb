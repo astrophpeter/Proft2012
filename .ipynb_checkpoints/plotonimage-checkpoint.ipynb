{
 "cells": [
  {
   "cell_type": "code",
   "execution_count": 9,
   "metadata": {},
   "outputs": [
    {
     "name": "stdout",
     "output_type": "stream",
     "text": [
      "Downloading https://skyview.gsfc.nasa.gov/tempspace/fits/skv21856157317391.fits [Done]\n",
      "INFO: Auto-setting vmin to  1.473e+00 [aplpy.core]\n",
      "INFO: Auto-setting vmax to  4.541e+00 [aplpy.core]\n"
     ]
    }
   ],
   "source": [
    "import matplotlib.pyplot as plt\n",
    "\n",
    "from astropy.wcs import WCS\n",
    "from astropy.io import fits\n",
    "from astropy.utils.data import get_pkg_data_filename\n",
    "from astroquery.skyview import SkyView\n",
    "import ssl\n",
    "import aplpy\n",
    "\n",
    "\n",
    "\n",
    "\n",
    "images = SkyView.get_images(position='83.257449, 29.387689',coordinates='ICRS', survey=['IRIS  12'], pixels=50)\n",
    "\n",
    "#m83_images = SkyView.get_images(position='M83', survey=['2MASS-K'], pixels=1500)\n",
    "\n",
    "#'IRAS': [u'IRIS  12'\n",
    "\n",
    "\n",
    "fig = aplpy.FITSFigure(images[0])\n",
    "fig.show_grayscale()\n",
    "fig.add_label(83.257449, 29.387689, 'My favorite star')\n",
    "fig.save('test.png',dpi=200)\n",
    "\n",
    "#filename = get_pkg_data_filename(images)\n",
    "\n",
    "#hdu = fits.open(filename)[0]\n",
    "#wcs = WCS(hdu.header)\n",
    "\n",
    "#ax = plt.subplot(projection=wcs)\n",
    "\n",
    "#ax.imshow(hdu.data, origin='lower',cmap='binary')\n",
    "\n",
    "#overlay = ax.get_coords_overlay('fk5')\n",
    "\n",
    "#overlay[0].set_axislabel('Right Ascension (J2000)')\n",
    "#overlay[1].set_axislabel('Declination (J2000)')\n",
    "\n",
    "#ax.scatter([83.257449], [29.387689], transform=ax.get_transform('icrs'),marker='o',edgecolor='r',facecolor=(1, 1, 1, 0.5),)\n",
    "#plt.savefig('out.png',dpi=250)"
   ]
  },
  {
   "cell_type": "code",
   "execution_count": null,
   "metadata": {},
   "outputs": [],
   "source": []
  }
 ],
 "metadata": {
  "kernelspec": {
   "display_name": "Python 3",
   "language": "python",
   "name": "python3"
  },
  "language_info": {
   "codemirror_mode": {
    "name": "ipython",
    "version": 3
   },
   "file_extension": ".py",
   "mimetype": "text/x-python",
   "name": "python",
   "nbconvert_exporter": "python",
   "pygments_lexer": "ipython3",
   "version": "3.6.3"
  }
 },
 "nbformat": 4,
 "nbformat_minor": 2
}
