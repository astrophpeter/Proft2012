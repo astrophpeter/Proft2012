{
 "cells": [
  {
   "cell_type": "code",
   "execution_count": 2,
   "metadata": {},
   "outputs": [],
   "source": [
    "import sqlutil as sqlutil \n",
    "import matplotlib.pyplot as plt\n",
    "import numpy as np\n",
    "from lens import Lens\n",
    "from matplotlib import rcParams\n",
    "rcParams['axes.titlepad'] = 20 \n",
    "import sys\n",
    "\n",
    "#plotting the motion of one lens.\n",
    "lensRa, lensDec, id,pmra,pmdec,ref_epoch = sqlutil.get('select ra, dec, source_id,pmra,pmdec,ref_epoch from gaia_dr1.tgas_source where POWER(pmra,2) + POWER(pmdec,2) > 2250000',\n",
    "                       db='wsdb',host='cappc127.ast.cam.ac.uk', user='peter_mcgill', password='Ln3g.wsk')\n",
    "\n",
    "#backgroud catalogue\n",
    "sourceRa, sourceDec,sourceId = sqlutil.get('select ra, dec, id from ppmxl.main limit 10000',\n",
    "                       db='wsdb',host='cappc127.ast.cam.ac.uk', user='peter_mcgill', password='Ln3g.wsk')"
   ]
  },
  {
   "cell_type": "code",
   "execution_count": 2,
   "metadata": {},
   "outputs": [],
   "source": [
    "i=0\n",
    "\n",
    "lens = Lens(id[i],lensRa[i],lensDec[i],pmra[i],pmdec[i],ref_epoch[i])\n",
    "\n",
    "box = lens.get_lens_box()\n",
    "\n",
    "\n",
    "\n"
   ]
  },
  {
   "cell_type": "code",
   "execution_count": 9,
   "metadata": {},
   "outputs": [
    {
     "data": {
      "image/png": "[encoded data removed]",
      "text/plain": [
       "<matplotlib.figure.Figure at 0x10b65f2b0>"
      ]
     },
     "metadata": {},
     "output_type": "display_data"
    },
    {
     "name": "stdout",
     "output_type": "stream",
     "text": [
      "False\n",
      "101.906824846\n",
      "69.6539334314\n",
      "[[ 101.90681359  101.90682134  101.90684982  101.90684207]\n",
      " [  69.65391588   69.65395399   69.65394819   69.65391008]]\n"
     ]
    }
   ],
   "source": [
    "\n",
    "\n",
    "#search ppmxl with each lens box\n",
    "\n",
    "i=2\n",
    "\n",
    "testlens = Lens(id[i],lensRa[i],lensDec[i],pmra[i],pmdec[i],ref_epoch[i])\n",
    "    #testlens = Lens(1,36.0,26.0,-798.58,10328.12,2013.0)\n",
    "    \n",
    "posX = []\n",
    "posY = []\n",
    "\n",
    "for i in np.linspace(2009.0,2025.0,num=10):\n",
    "    pos = testlens.get_eq_coords_at_epoch(i)\n",
    "    posX.append(pos[0])\n",
    "    posY.append(pos[1])\n",
    "\n",
    "\n",
    "box = np.transpose(testlens.get_lens_box())\n",
    "    \n",
    "\n",
    "plt.plot(posX,posY,'r--',label='Lens Trajectory')\n",
    "plt.scatter(box[0],box[1])\n",
    "\n",
    "boxjX = np.append(box[0],box[0][0])\n",
    "boxjY = np.append(box[1],box[1][0])\n",
    "\n",
    "plt.fill_between(boxjX,boxjY,alpha=0.3,label='Background source search window')\n",
    "plt.xlim(min(box[0]) - 0.0000001,max(box[0]) + 0.0000001)\n",
    "plt.ylim(min(box[1]) - 0.0000001,max(box[1]) + 0.0000001)\n",
    "plt.ylabel(r'$\\delta$')\n",
    "plt.xlabel(r'$\\alpha\\cos\\delta$')\n",
    "plt.legend()\n",
    "plt.title(r'Lens with $\\mu_{\\alpha *}$=%.1f and $\\mu_{\\delta}$=%.1f [mas yr$^{-1}$]'%(pmra[10],pmdec[10]))\n",
    "plt.scatter(posX[2],posY[2])\n",
    "plt.show()\n",
    "#plt.savefig('out2.png',dpi=199)\n",
    "print(testlens.is_coord_in_box((posX[2] / np.cos(posY[2])),posY[2]))\n",
    "\n",
    "print(posX[4])\n",
    "print(posY[4])\n",
    "print(box)"
   ]
  },
  {
   "cell_type": "code",
   "execution_count": 3,
   "metadata": {},
   "outputs": [],
   "source": [
    "lensRa, lensDec, id,pmra,pmdec,ref_epoch = sqlutil.get('select ra, dec, source_id,pmra,pmdec,ref_epoch from gaia_dr1.tgas_source',\n",
    "                       db='wsdb',host='cappc127.ast.cam.ac.uk', user='peter_mcgill', password='Ln3g.wsk')"
   ]
  },
  {
   "cell_type": "code",
   "execution_count": 4,
   "metadata": {},
   "outputs": [],
   "source": [
    "plt.yscale('log',nonposy='clip')\n",
    "plt.hist(pmra,range=(-5300,5000),histtype='step',alpha=0.5,label=r'$\\mu_{\\alpha *}$')\n",
    "plt.hist(pmdec,range=(-5000,5000),histtype='step',alpha=0.5,label=r'$\\mu_{\\delta}$')\n",
    "plt.xlabel(r'[mas yr$^{-1}$]')\n",
    "plt.legend()\n",
    "plt.savefig('compropdist.png',dpi=199)\n",
    "\n",
    "\n"
   ]
  },
  {
   "cell_type": "code",
   "execution_count": 5,
   "metadata": {
    "scrolled": true
   },
   "outputs": [],
   "source": [
    "plt.hist(np.sqrt(pmdec**2+pmra**2),alpha=0.5,label=r'$|\\mu|$')\n",
    "plt.yscale('log',nonposy='clip')\n",
    "plt.xlabel(r'[mas yr$^{-1}$]')\n",
    "plt.legend()\n",
    "plt.savefig('propdist.png',dpi=199)"
   ]
  },
  {
   "cell_type": "code",
   "execution_count": null,
   "metadata": {},
   "outputs": [],
   "source": [
    "#search the sky\n",
    "\n",
    "sys.stdout = open(\"out.txt\", \"w\")\n",
    "\n",
    "\n",
    "count = 0\n",
    "\n",
    "for i in range(0,len(lensRa)):\n",
    "    lens = Lens(id[i],lensRa[i],lensDec[i],pmra[i],pmdec[i],ref_epoch[i])\n",
    "    for j in range(0,len(sourceRa)):\n",
    "        if ((lens.is_coord_in_box(sourceRa[j],sourceDec[j]))):\n",
    "                print(str(lens.getId()) + \" \" + str(sourceId[j]) + \"\\n\")\n",
    "                count = count + 1\n",
    "            \n",
    "print(count)"
   ]
  },
  {
   "cell_type": "code",
   "execution_count": null,
   "metadata": {},
   "outputs": [],
   "source": []
  },
  {
   "cell_type": "code",
   "execution_count": null,
   "metadata": {},
   "outputs": [],
   "source": []
  }
 ],
 "metadata": {
  "kernelspec": {
   "display_name": "Python 3",
   "language": "python",
   "name": "python3"
  },
  "language_info": {
   "codemirror_mode": {
    "name": "ipython",
    "version": 3
   },
   "file_extension": ".py",
   "mimetype": "text/x-python",
   "name": "python",
   "nbconvert_exporter": "python",
   "pygments_lexer": "ipython3",
   "version": "3.6.3"
  }
 },
 "nbformat": 4,
 "nbformat_minor": 2
}
