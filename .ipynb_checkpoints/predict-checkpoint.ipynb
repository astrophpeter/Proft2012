{
 "cells": [
  {
   "cell_type": "code",
   "execution_count": 3,
   "metadata": {},
   "outputs": [],
   "source": [
    "import sqlutil as sqlutil \n",
    "import matplotlib.pyplot as plt\n",
    "import numpy as np\n",
    "from lens import Lens\n",
    "from matplotlib import rcParams\n",
    "rcParams['axes.titlepad'] = 20 \n",
    "\n",
    "\n",
    "\n",
    "#plotting the motion of one lens.\n",
    "lensRa, lensDec, id,pmra,pmdec,ref_epoch = sqlutil.get('select ra, dec, source_id,pmra,pmdec,ref_epoch from gaia_dr1.tgas_source where POWER(pmra,2) + POWER(pmdec,2) > 2250000',\n",
    "                       db='wsdb',host='cappc127.ast.cam.ac.uk', user='peter_mcgill', password='Ln3g.wsk')\n",
    "\n",
    "#backgroud catalogue\n",
    "sourceRa, sourceDec,sourceId = sqlutil.get('select ra, dec, id from ppmxl.main limit 1000000',\n",
    "                       db='wsdb',host='cappc127.ast.cam.ac.uk', user='peter_mcgill', password='Ln3g.wsk')"
   ]
  },
  {
   "cell_type": "code",
   "execution_count": 5,
   "metadata": {},
   "outputs": [
    {
     "name": "stdout",
     "output_type": "stream",
     "text": [
      "[[141.88916583134355, 59.634646372036542], [141.8891740790925, 59.634608367822082], [141.88914553318321, 59.634614562911139], [141.88913728543426, 59.634652567125599]]\n"
     ]
    }
   ],
   "source": [
    "i=0\n",
    "\n",
    "lens = Lens(id[i],lensRa[i],lensDec[i],pmra[i],pmdec[i],ref_epoch[i])\n",
    "\n",
    "box = lens.get_lens_box()\n",
    "\n",
    "\n",
    "\n"
   ]
  },
  {
   "cell_type": "code",
   "execution_count": 4,
   "metadata": {},
   "outputs": [
    {
     "name": "stdout",
     "output_type": "stream",
     "text": [
      "109\n"
     ]
    }
   ],
   "source": [
    "\n",
    "\n",
    "#search ppmxl with each lens box\n",
    "\n",
    "    testlens = Lens(id[i],lensRa[i],lensDec[i],pmra[i],pmdec[i],ref_epoch[i])\n",
    "    #testlens = Lens(1,36.0,26.0,-798.58,10328.12,2013.0)\n",
    "    \n",
    "    posX = []\n",
    "    posY = []\n",
    "\n",
    "for i in np.linspace(2009.0,2025.0,num=10):\n",
    "    pos = testlens.get_eq_coords_at_epoch(i)\n",
    "    posX.append(pos[0])\n",
    "    posY.append(pos[1])\n",
    "\n",
    "\n",
    "box = np.transpose(testlens.get_lens_box())\n",
    "    \n",
    "\n",
    "plt.plot(posX,posY,'r--',label='Lens Trajectory')\n",
    "plt.scatter(box[0],box[1])\n",
    "\n",
    "boxjX = np.append(box[0],box[0][0])\n",
    "boxjY = np.append(box[1],box[1][0])\n",
    "\n",
    "plt.fill_between(boxjX,boxjY,alpha=0.3,label='Background source search window')\n",
    "plt.xlim(min(box[0]) - 0.0000001,max(box[0]) + 0.0000001)\n",
    "plt.ylim(min(box[1]) - 0.0000001,max(box[1]) + 0.0000001)\n",
    "plt.ylabel(r'$\\delta$')\n",
    "plt.xlabel(r'$\\alpha\\cos\\delta$')\n",
    "plt.legend()\n",
    "plt.title(r'Lens with $\\mu_{\\alpha *}$=%.1f and $\\mu_{\\delta}$=%.1f [mas yr$^{-1}$]'%(pmra[4],pmdec[4]))\n",
    "plt.savefig('out2.png',dpi=199)"
   ]
  },
  {
   "cell_type": "code",
   "execution_count": 2,
   "metadata": {},
   "outputs": [],
   "source": [
    "lensRa, lensDec, id,pmra,pmdec,ref_epoch = sqlutil.get('select ra, dec, source_id,pmra,pmdec,ref_epoch from gaia_dr1.tgas_source',\n",
    "                       db='wsdb',host='cappc127.ast.cam.ac.uk', user='peter_mcgill', password='Ln3g.wsk')"
   ]
  },
  {
   "cell_type": "code",
   "execution_count": 9,
   "metadata": {},
   "outputs": [
    {
     "data": {
      "image/png": "[encoded data removed]",
      "text/plain": [
       "<matplotlib.figure.Figure at 0x10d6d0908>"
      ]
     },
     "metadata": {},
     "output_type": "display_data"
    }
   ],
   "source": [
    "plt.yscale('log',nonposy='clip')\n",
    "plt.hist(pmra,range=(-5300,5000),histtype='step',alpha=0.5,label=r'$\\mu_{\\alpha *}$')\n",
    "plt.hist(pmdec,range=(-5000,5000),histtype='step',alpha=0.5,label=r'$\\mu_{\\delta}$')\n",
    "plt.xlabel(r'[mas yr$^{-1}$]')\n",
    "plt.legend()\n",
    "plt.show()\n",
    "\n",
    "\n"
   ]
  },
  {
   "cell_type": "code",
   "execution_count": 1,
   "metadata": {
    "scrolled": true
   },
   "outputs": [
    {
     "ename": "NameError",
     "evalue": "name 'plt' is not defined",
     "output_type": "error",
     "traceback": [
      "\u001b[0;31m---------------------------------------------------------------------------\u001b[0m",
      "\u001b[0;31mNameError\u001b[0m                                 Traceback (most recent call last)",
      "\u001b[0;32m<ipython-input-1-fe74fda1e540>\u001b[0m in \u001b[0;36m<module>\u001b[0;34m()\u001b[0m\n\u001b[0;32m----> 1\u001b[0;31m \u001b[0mplt\u001b[0m\u001b[0;34m.\u001b[0m\u001b[0mhist\u001b[0m\u001b[0;34m(\u001b[0m\u001b[0mnp\u001b[0m\u001b[0;34m.\u001b[0m\u001b[0msqrt\u001b[0m\u001b[0;34m(\u001b[0m\u001b[0mpmdec\u001b[0m\u001b[0;34m**\u001b[0m\u001b[0;36m2\u001b[0m\u001b[0;34m+\u001b[0m\u001b[0mpmra\u001b[0m\u001b[0;34m**\u001b[0m\u001b[0;36m2\u001b[0m\u001b[0;34m)\u001b[0m\u001b[0;34m,\u001b[0m\u001b[0malpha\u001b[0m\u001b[0;34m=\u001b[0m\u001b[0;36m0.5\u001b[0m\u001b[0;34m,\u001b[0m\u001b[0mlabel\u001b[0m\u001b[0;34m=\u001b[0m\u001b[0;34mr'$\\mu_{\\alpha}^{2}+\\mu_{\\delta}^{2}$'\u001b[0m\u001b[0;34m)\u001b[0m\u001b[0;34m\u001b[0m\u001b[0m\n\u001b[0m\u001b[1;32m      2\u001b[0m \u001b[0mplt\u001b[0m\u001b[0;34m.\u001b[0m\u001b[0myscale\u001b[0m\u001b[0;34m(\u001b[0m\u001b[0;34m'log'\u001b[0m\u001b[0;34m,\u001b[0m\u001b[0mnonposy\u001b[0m\u001b[0;34m=\u001b[0m\u001b[0;34m'clip'\u001b[0m\u001b[0;34m)\u001b[0m\u001b[0;34m\u001b[0m\u001b[0m\n\u001b[1;32m      3\u001b[0m \u001b[0mplt\u001b[0m\u001b[0;34m.\u001b[0m\u001b[0mxlabel\u001b[0m\u001b[0;34m(\u001b[0m\u001b[0;34mr'$\\sqrt{[mas yr$^{-1}$]}$'\u001b[0m\u001b[0;34m)\u001b[0m\u001b[0;34m\u001b[0m\u001b[0m\n\u001b[1;32m      4\u001b[0m \u001b[0mplt\u001b[0m\u001b[0;34m.\u001b[0m\u001b[0mlegend\u001b[0m\u001b[0;34m(\u001b[0m\u001b[0;34m)\u001b[0m\u001b[0;34m\u001b[0m\u001b[0m\n\u001b[1;32m      5\u001b[0m \u001b[0mplt\u001b[0m\u001b[0;34m.\u001b[0m\u001b[0mshow\u001b[0m\u001b[0;34m(\u001b[0m\u001b[0;34m)\u001b[0m\u001b[0;34m\u001b[0m\u001b[0m\n",
      "\u001b[0;31mNameError\u001b[0m: name 'plt' is not defined"
     ]
    }
   ],
   "source": [
    "plt.hist(np.sqrt(pmdec**2+pmra**2),alpha=0.5,label=r'$\\mu_{\\alpha}^{2}+\\mu_{\\delta}^{2}$')\n",
    "plt.yscale('log',nonposy='clip')\n",
    "plt.xlabel(r'$\\sqrt{[mas yr$^{-1}$]}$')\n",
    "plt.legend()\n",
    "plt.show()"
   ]
  },
  {
   "cell_type": "code",
   "execution_count": null,
   "metadata": {},
   "outputs": [],
   "source": []
  },
  {
   "cell_type": "code",
   "execution_count": null,
   "metadata": {},
   "outputs": [],
   "source": []
  },
  {
   "cell_type": "code",
   "execution_count": null,
   "metadata": {},
   "outputs": [],
   "source": []
  }
 ],
 "metadata": {
  "kernelspec": {
   "display_name": "Python 3",
   "language": "python",
   "name": "python3"
  },
  "language_info": {
   "codemirror_mode": {
    "name": "ipython",
    "version": 3
   },
   "file_extension": ".py",
   "mimetype": "text/x-python",
   "name": "python",
   "nbconvert_exporter": "python",
   "pygments_lexer": "ipython3",
   "version": "3.6.3"
  }
 },
 "nbformat": 4,
 "nbformat_minor": 2
}
