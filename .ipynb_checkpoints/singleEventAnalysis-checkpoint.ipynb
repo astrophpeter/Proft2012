{
 "cells": [
  {
   "cell_type": "code",
   "execution_count": 1,
   "metadata": {},
   "outputs": [],
   "source": [
    "from astropy.table import Table\n",
    "from lens import Lens\n",
    "from astropy.io import fits\n",
    "import sqlutil as sqlutil \n",
    "import matplotlib.pyplot as plt\n",
    "import numpy as np\n",
    "from astropy.io import ascii\n",
    "import lensutils as util\n",
    "import numpy as np"
   ]
  },
  {
   "cell_type": "code",
   "execution_count": 21,
   "metadata": {},
   "outputs": [],
   "source": [
    "TGASLensId = 5332606518269523072\n",
    "SourcePPMXLid = 6197608744359075309\n",
    "GaiaSourceId = 53326063464667258496\n",
    "\n",
    "querystringTGAS = 'select ra, dec, source_id,pmra,pmdec,ref_epoch,phot_g_mean_mag from gaia_dr1.tgas_source where source_id=' + str(TGASLensId)\n",
    "querystringPPMXL ='select ra, dec, id,Kmag, Jmag from ppmxl.main where id=' + str(SourcePPMXLid)\n",
    "querystringGAIASource = 'select ra, dec, source_id,pmra,pmdec,ref_epoch,phot_g_mean_mag from gaia_dr1.gaia_source where source_id=' + str(GaiaSourceId)\n"
   ]
  },
  {
   "cell_type": "code",
   "execution_count": null,
   "metadata": {},
   "outputs": [
    {
     "name": "stdout",
     "output_type": "stream",
     "text": [
      "Lens Gmag,pmra,pmdec:[ 11.41018521][ 2662.03572627][-345.18255501]\n",
      "PPMXL Source Ra,Dec,kmag,Jmag: [ 176.463694][-64.843343][ 15.22099972][ 16.16300011]\n"
     ]
    }
   ],
   "source": [
    "lensRa, lensDec, id,pmra,pmdec,ref_epoch,gMag = sqlutil.get(querystringTGAS,\n",
    "                       db='wsdb',host='cappc127.ast.cam.ac.uk', user='peter_mcgill', password='Ln3g.wsk')\n",
    "print('Lens Gmag,pmra,pmdec:' + str(gMag) + str(pmra) + str(pmdec))\n",
    "                                                            \n",
    "sourceRa, sourceDec,sourceId,kmag,jmag = sqlutil.get(querystringPPMXL,\n",
    "                       db='wsdb',host='cappc127.ast.cam.ac.uk', user='peter_mcgill', password='Ln3g.wsk')\n",
    "print('PPMXL Source Ra,Dec,kmag,Jmag: '+str(sourceRa)+str(sourceDec)+str(kmag)+str(jmag))\n",
    "\n",
    "\n",
    "GsourceRa, GsourceDec, id,sourcepmra,sourcepmdec,ref_epoch,sourcegMag = sqlutil.get(querystringGAIASource,\n",
    "                       db='wsdb',host='cappc127.ast.cam.ac.uk', user='peter_mcgill', password='Ln3g.wsk')\n",
    "print('GAIA Source Ra,Dec: '+str(GsourceRa)+str(GsourceDec))"
   ]
  },
  {
   "cell_type": "code",
   "execution_count": null,
   "metadata": {},
   "outputs": [],
   "source": []
  }
 ],
 "metadata": {
  "kernelspec": {
   "display_name": "Python 3",
   "language": "python",
   "name": "python3"
  },
  "language_info": {
   "codemirror_mode": {
    "name": "ipython",
    "version": 3
   },
   "file_extension": ".py",
   "mimetype": "text/x-python",
   "name": "python",
   "nbconvert_exporter": "python",
   "pygments_lexer": "ipython3",
   "version": "3.6.3"
  }
 },
 "nbformat": 4,
 "nbformat_minor": 2
}
