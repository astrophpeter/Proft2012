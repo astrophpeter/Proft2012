{
 "cells": [
  {
   "cell_type": "code",
   "execution_count": 1,
   "metadata": {},
   "outputs": [
    {
     "name": "stdout",
     "output_type": "stream",
     "text": [
      "Downloading http://irsa.ipac.caltech.edu/ibe/search/twomass/allsky/allsky?POS=83.257449,29.387689 [Done]\n",
      "INFO: Auto-setting vmin to  2.266e+03 [aplpy.core]\n",
      "INFO: Auto-setting vmax to  2.316e+04 [aplpy.core]\n",
      "Downloading http://irsa.ipac.caltech.edu/ibe/search/twomass/allsky/allsky?POS=321.083744,-46.693367 [Done]\n",
      "INFO: Auto-setting vmin to  1.988e+03 [aplpy.core]\n",
      "INFO: Auto-setting vmax to  2.438e+04 [aplpy.core]\n",
      "Downloading http://irsa.ipac.caltech.edu/ibe/search/twomass/allsky/allsky?POS=1.106653,-47.067838 [Done]\n",
      "INFO: Auto-setting vmin to  1.392e+03 [aplpy.core]\n",
      "INFO: Auto-setting vmax to  2.703e+04 [aplpy.core]\n",
      "Downloading http://irsa.ipac.caltech.edu/ibe/search/twomass/allsky/allsky?POS=8.659684,-37.451163 [Done]\n",
      "INFO: Auto-setting vmin to  6.393e+03 [aplpy.core]\n",
      "INFO: Auto-setting vmax to  2.983e+04 [aplpy.core]\n",
      "Downloading http://irsa.ipac.caltech.edu/ibe/search/twomass/allsky/allsky?POS=166.020883,-46.46603 [Done]\n",
      "INFO: Auto-setting vmin to  1.601e+03 [aplpy.core]\n",
      "INFO: Auto-setting vmax to  2.584e+04 [aplpy.core]\n"
     ]
    }
   ],
   "source": [
    "import matplotlib.pyplot as plt\n",
    "import aplpy\n",
    "from astropy.wcs import WCS\n",
    "from astropy.io import fits, ascii\n",
    "from astropy.utils.data import get_pkg_data_filename\n",
    "from astroquery.skyview import SkyView\n",
    "import ssl\n",
    "import aplpy\n",
    "from lens import Lens\n",
    "from astropy.table import Table\n",
    "import sqlutil as sqlutil\n",
    "import numpy as np\n",
    "import lensutils as util\n",
    "\n",
    "\n",
    "candidates = Table.read('data/candidatesDistTime.txt',format='ascii')\n",
    "#candidates = Table.read('data/largpmcandidates.txt',format='ascii')\n",
    "timeMask = (candidates['Closest_approah_time[JYr]'] > 2018.0) & (candidates['Closest_approach_Dist[mas]'] < 260.0)\n",
    "\n",
    "candidates = candidates[timeMask]\n",
    "TGASlensid = candidates['TGAS_id']\n",
    "ppmxlid = candidates['ppmxl_id']\n",
    "#CloseApp = candidates['Closest_approach_Dist[mas]'] \n",
    "#timeApp = candidates['Closest_approah_time[JYr]']\n",
    "#imsize = 2\n",
    "\n",
    "for i in range(0,len(TGASlensid)):\n",
    "    \n",
    "    querystringTGAS = 'select ra, dec, source_id,pmra,pmdec,ref_epoch, phot_g_mean_mag from gaia_dr1.tgas_source where source_id=' + str(TGASlensid[i])\n",
    "    querystringPPMXL ='select ra, dec, id, epochra, epochdec,jmag,hmag,kmag,b1mag,b2mag,r1mag,r2mag from ppmxl.main where id=' + str(ppmxlid[i])\n",
    "\n",
    "    lensRa, lensDec, id,pmra,pmdec,ref_epoch, gmag = sqlutil.get(querystringTGAS,\n",
    "                                                           db='wsdb',host='cappc127.ast.cam.ac.uk', user='peter_mcgill', password='Ln3g.wsk')\n",
    "\n",
    "    testlens1 = Lens(id[0],lensRa[0],lensDec[0],pmra[0],pmdec[0],ref_epoch[0])\n",
    "\n",
    "    sourceRa, sourceDec,sourceId, epochra, epochdec, jmag,hmag,kmag,b1mag,b2mag,r1mag,r2mag = sqlutil.get(querystringPPMXL,\n",
    "                       db='wsdb',host='cappc127.ast.cam.ac.uk', user='peter_mcgill', password='Ln3g.wsk')\n",
    "\n",
    "    util.plt_lens_env(testlens1,sourceRa[0],sourceDec[0],sourceId[0],[jmag[0],hmag[0],kmag[0],b1mag[0],b2mag[0],r1mag[0],r2mag[0]],gmag[0])\n",
    "    \n",
    "    \n",
    "    \n"
   ]
  },
  {
   "cell_type": "code",
   "execution_count": null,
   "metadata": {},
   "outputs": [],
   "source": []
  },
  {
   "cell_type": "code",
   "execution_count": null,
   "metadata": {},
   "outputs": [],
   "source": []
  },
  {
   "cell_type": "code",
   "execution_count": null,
   "metadata": {},
   "outputs": [],
   "source": []
  },
  {
   "cell_type": "code",
   "execution_count": null,
   "metadata": {},
   "outputs": [],
   "source": []
  },
  {
   "cell_type": "code",
   "execution_count": null,
   "metadata": {},
   "outputs": [],
   "source": []
  }
 ],
 "metadata": {
  "kernelspec": {
   "display_name": "Python 3",
   "language": "python",
   "name": "python3"
  },
  "language_info": {
   "codemirror_mode": {
    "name": "ipython",
    "version": 3
   },
   "file_extension": ".py",
   "mimetype": "text/x-python",
   "name": "python",
   "nbconvert_exporter": "python",
   "pygments_lexer": "ipython3",
   "version": "3.6.3"
  }
 },
 "nbformat": 4,
 "nbformat_minor": 2
}
