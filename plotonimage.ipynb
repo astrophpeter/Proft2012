{
 "cells": [
  {
   "cell_type": "code",
   "execution_count": 1,
   "metadata": {},
   "outputs": [
    {
     "name": "stdout",
     "output_type": "stream",
     "text": [
      "Downloading http://irsa.ipac.caltech.edu/ibe/search/twomass/allsky/allsky?POS=157.764992,-78.164522 [Done]\n",
      "INFO: Auto-setting vmin to  9.248e+03 [aplpy.core]\n",
      "INFO: Auto-setting vmax to  3.049e+04 [aplpy.core]\n",
      "Downloading http://irsa.ipac.caltech.edu/ibe/search/twomass/allsky/allsky?POS=228.270936,-21.977748 [Done]\n",
      "INFO: Auto-setting vmin to  4.594e+03 [aplpy.core]\n",
      "INFO: Auto-setting vmax to  2.595e+04 [aplpy.core]\n",
      "Downloading http://irsa.ipac.caltech.edu/ibe/search/twomass/allsky/allsky?POS=352.449769,-81.925548 [Done]\n",
      "INFO: Auto-setting vmin to  2.001e+03 [aplpy.core]\n",
      "INFO: Auto-setting vmax to  2.450e+04 [aplpy.core]\n",
      "Downloading http://irsa.ipac.caltech.edu/ibe/search/twomass/allsky/allsky?POS=344.127684,-76.797826 [Done]\n",
      "INFO: Auto-setting vmin to  1.946e+03 [aplpy.core]\n",
      "INFO: Auto-setting vmax to  2.719e+04 [aplpy.core]\n",
      "Downloading http://irsa.ipac.caltech.edu/ibe/search/twomass/allsky/allsky?POS=326.731907,-76.235253 [Done]\n",
      "INFO: Auto-setting vmin to  1.915e+03 [aplpy.core]\n",
      "INFO: Auto-setting vmax to  2.422e+04 [aplpy.core]\n",
      "Downloading http://irsa.ipac.caltech.edu/ibe/search/twomass/allsky/allsky?POS=305.060656,-72.942295 [Done]\n",
      "INFO: Auto-setting vmin to  1.420e+03 [aplpy.core]\n",
      "INFO: Auto-setting vmax to  2.392e+04 [aplpy.core]\n",
      "Downloading http://irsa.ipac.caltech.edu/ibe/search/twomass/allsky/allsky?POS=347.617608,-63.686931 [Done]\n",
      "INFO: Auto-setting vmin to  1.880e+03 [aplpy.core]\n",
      "INFO: Auto-setting vmax to  2.684e+04 [aplpy.core]\n",
      "Downloading http://irsa.ipac.caltech.edu/ibe/search/twomass/allsky/allsky?POS=245.666364,-48.657434 [Done]\n",
      "INFO: Auto-setting vmin to  1.726e+03 [aplpy.core]\n",
      "INFO: Auto-setting vmax to  2.520e+04 [aplpy.core]\n",
      "Downloading http://irsa.ipac.caltech.edu/ibe/search/twomass/allsky/allsky?POS=20.498394,-84.067885 [Done]\n",
      "INFO: Auto-setting vmin to  2.090e+03 [aplpy.core]\n",
      "INFO: Auto-setting vmax to  2.521e+04 [aplpy.core]\n",
      "Downloading http://irsa.ipac.caltech.edu/ibe/search/twomass/allsky/allsky?POS=27.221084,-77.108852 [Done]\n",
      "INFO: Auto-setting vmin to  1.339e+03 [aplpy.core]\n",
      "INFO: Auto-setting vmax to  2.550e+04 [aplpy.core]\n",
      "Downloading http://irsa.ipac.caltech.edu/ibe/search/twomass/allsky/allsky?POS=85.966521,-70.856853 [Done]\n",
      "INFO: Auto-setting vmin to  4.366e+03 [aplpy.core]\n",
      "INFO: Auto-setting vmax to  2.603e+04 [aplpy.core]\n",
      "Downloading http://irsa.ipac.caltech.edu/ibe/search/twomass/allsky/allsky?POS=83.257449,29.387689 [Done]\n",
      "INFO: Auto-setting vmin to  2.083e+03 [aplpy.core]\n",
      "INFO: Auto-setting vmax to  2.505e+04 [aplpy.core]\n",
      "Downloading http://irsa.ipac.caltech.edu/ibe/search/twomass/allsky/allsky?POS=354.310581,79.252126 [Done]\n",
      "INFO: Auto-setting vmin to  1.417e+03 [aplpy.core]\n",
      "INFO: Auto-setting vmax to  2.565e+04 [aplpy.core]\n",
      "Downloading http://irsa.ipac.caltech.edu/ibe/search/twomass/allsky/allsky?POS=312.913195,-45.455981 [Done]\n",
      "INFO: Auto-setting vmin to  2.218e+03 [aplpy.core]\n",
      "INFO: Auto-setting vmax to  2.482e+04 [aplpy.core]\n",
      "Downloading http://irsa.ipac.caltech.edu/ibe/search/twomass/allsky/allsky?POS=353.826758,-64.561771 [Done]\n",
      "INFO: Auto-setting vmin to  2.337e+03 [aplpy.core]\n",
      "INFO: Auto-setting vmax to  2.655e+04 [aplpy.core]\n",
      "Downloading http://irsa.ipac.caltech.edu/ibe/search/twomass/allsky/allsky?POS=14.340663,-62.245224 [Done]\n",
      "INFO: Auto-setting vmin to  1.815e+03 [aplpy.core]\n",
      "INFO: Auto-setting vmax to  2.632e+04 [aplpy.core]\n",
      "Downloading http://irsa.ipac.caltech.edu/ibe/search/twomass/allsky/allsky?POS=323.326927,81.182416 [Done]\n",
      "INFO: Auto-setting vmin to  2.438e+03 [aplpy.core]\n",
      "INFO: Auto-setting vmax to  2.530e+04 [aplpy.core]\n",
      "Downloading http://irsa.ipac.caltech.edu/ibe/search/twomass/allsky/allsky?POS=338.468193,-53.161908 [Done]\n",
      "INFO: Auto-setting vmin to  2.366e+03 [aplpy.core]\n",
      "INFO: Auto-setting vmax to  2.406e+04 [aplpy.core]\n",
      "Downloading http://irsa.ipac.caltech.edu/ibe/search/twomass/allsky/allsky?POS=354.692366,-50.058364 [Done]\n",
      "INFO: Auto-setting vmin to  1.104e+04 [aplpy.core]\n",
      "INFO: Auto-setting vmax to  2.817e+04 [aplpy.core]\n",
      "Downloading http://irsa.ipac.caltech.edu/ibe/search/twomass/allsky/allsky?POS=359.580253,-49.712885 [Done]\n",
      "INFO: Auto-setting vmin to  2.144e+03 [aplpy.core]\n",
      "INFO: Auto-setting vmax to  2.629e+04 [aplpy.core]\n",
      "Downloading http://irsa.ipac.caltech.edu/ibe/search/twomass/allsky/allsky?POS=326.970614,-47.610674 [Done]\n",
      "INFO: Auto-setting vmin to  8.093e+03 [aplpy.core]\n",
      "INFO: Auto-setting vmax to  2.906e+04 [aplpy.core]\n"
     ]
    },
    {
     "name": "stderr",
     "output_type": "stream",
     "text": [
      "/Library/Frameworks/Python.framework/Versions/3.6/lib/python3.6/site-packages/matplotlib/pyplot.py:523: RuntimeWarning: More than 20 figures have been opened. Figures created through the pyplot interface (`matplotlib.pyplot.figure`) are retained until explicitly closed and may consume too much memory. (To control this warning, see the rcParam `figure.max_open_warning`).\n",
      "  max_open_warning, RuntimeWarning)\n"
     ]
    },
    {
     "name": "stdout",
     "output_type": "stream",
     "text": [
      "Downloading http://irsa.ipac.caltech.edu/ibe/search/twomass/allsky/allsky?POS=14.648615,-13.602137 [Done]\n",
      "INFO: Auto-setting vmin to  3.958e+03 [aplpy.core]\n",
      "INFO: Auto-setting vmax to  2.306e+04 [aplpy.core]\n"
     ]
    },
    {
     "name": "stderr",
     "output_type": "stream",
     "text": [
      "/Library/Frameworks/Python.framework/Versions/3.6/lib/python3.6/site-packages/matplotlib/pyplot.py:523: RuntimeWarning: More than 20 figures have been opened. Figures created through the pyplot interface (`matplotlib.pyplot.figure`) are retained until explicitly closed and may consume too much memory. (To control this warning, see the rcParam `figure.max_open_warning`).\n",
      "  max_open_warning, RuntimeWarning)\n"
     ]
    },
    {
     "name": "stdout",
     "output_type": "stream",
     "text": [
      "Downloading http://irsa.ipac.caltech.edu/ibe/search/twomass/allsky/allsky?POS=321.083744,-46.693367 [Done]\n",
      "INFO: Auto-setting vmin to  2.080e+03 [aplpy.core]\n",
      "INFO: Auto-setting vmax to  2.302e+04 [aplpy.core]\n"
     ]
    },
    {
     "name": "stderr",
     "output_type": "stream",
     "text": [
      "/Library/Frameworks/Python.framework/Versions/3.6/lib/python3.6/site-packages/matplotlib/pyplot.py:523: RuntimeWarning: More than 20 figures have been opened. Figures created through the pyplot interface (`matplotlib.pyplot.figure`) are retained until explicitly closed and may consume too much memory. (To control this warning, see the rcParam `figure.max_open_warning`).\n",
      "  max_open_warning, RuntimeWarning)\n"
     ]
    },
    {
     "name": "stdout",
     "output_type": "stream",
     "text": [
      "Downloading http://irsa.ipac.caltech.edu/ibe/search/twomass/allsky/allsky?POS=33.077659,3.565677 [Done]\n",
      "INFO: Auto-setting vmin to  6.043e+03 [aplpy.core]\n",
      "INFO: Auto-setting vmax to  2.391e+04 [aplpy.core]\n"
     ]
    },
    {
     "name": "stderr",
     "output_type": "stream",
     "text": [
      "/Library/Frameworks/Python.framework/Versions/3.6/lib/python3.6/site-packages/matplotlib/pyplot.py:523: RuntimeWarning: More than 20 figures have been opened. Figures created through the pyplot interface (`matplotlib.pyplot.figure`) are retained until explicitly closed and may consume too much memory. (To control this warning, see the rcParam `figure.max_open_warning`).\n",
      "  max_open_warning, RuntimeWarning)\n"
     ]
    },
    {
     "name": "stdout",
     "output_type": "stream",
     "text": [
      "Downloading http://irsa.ipac.caltech.edu/ibe/search/twomass/allsky/allsky?POS=196.967238,-52.708398 [Done]\n",
      "INFO: Auto-setting vmin to  2.496e+03 [aplpy.core]\n",
      "INFO: Auto-setting vmax to  2.718e+04 [aplpy.core]\n"
     ]
    },
    {
     "name": "stderr",
     "output_type": "stream",
     "text": [
      "/Library/Frameworks/Python.framework/Versions/3.6/lib/python3.6/site-packages/matplotlib/pyplot.py:523: RuntimeWarning: More than 20 figures have been opened. Figures created through the pyplot interface (`matplotlib.pyplot.figure`) are retained until explicitly closed and may consume too much memory. (To control this warning, see the rcParam `figure.max_open_warning`).\n",
      "  max_open_warning, RuntimeWarning)\n"
     ]
    },
    {
     "name": "stdout",
     "output_type": "stream",
     "text": [
      "Downloading http://irsa.ipac.caltech.edu/ibe/search/twomass/allsky/allsky?POS=11.452999,-41.909624 [Done]\n",
      "INFO: Auto-setting vmin to  7.170e+03 [aplpy.core]\n",
      "INFO: Auto-setting vmax to  3.088e+04 [aplpy.core]\n"
     ]
    },
    {
     "name": "stderr",
     "output_type": "stream",
     "text": [
      "/Library/Frameworks/Python.framework/Versions/3.6/lib/python3.6/site-packages/matplotlib/pyplot.py:523: RuntimeWarning: More than 20 figures have been opened. Figures created through the pyplot interface (`matplotlib.pyplot.figure`) are retained until explicitly closed and may consume too much memory. (To control this warning, see the rcParam `figure.max_open_warning`).\n",
      "  max_open_warning, RuntimeWarning)\n"
     ]
    },
    {
     "name": "stdout",
     "output_type": "stream",
     "text": [
      "Downloading http://irsa.ipac.caltech.edu/ibe/search/twomass/allsky/allsky?POS=1.106653,-47.067838 [Done]\n",
      "INFO: Auto-setting vmin to  1.402e+03 [aplpy.core]\n",
      "INFO: Auto-setting vmax to  2.690e+04 [aplpy.core]\n"
     ]
    },
    {
     "name": "stderr",
     "output_type": "stream",
     "text": [
      "/Library/Frameworks/Python.framework/Versions/3.6/lib/python3.6/site-packages/matplotlib/pyplot.py:523: RuntimeWarning: More than 20 figures have been opened. Figures created through the pyplot interface (`matplotlib.pyplot.figure`) are retained until explicitly closed and may consume too much memory. (To control this warning, see the rcParam `figure.max_open_warning`).\n",
      "  max_open_warning, RuntimeWarning)\n"
     ]
    },
    {
     "name": "stdout",
     "output_type": "stream",
     "text": [
      "Downloading http://irsa.ipac.caltech.edu/ibe/search/twomass/allsky/allsky?POS=8.659684,-37.451163 [Done]\n",
      "INFO: Auto-setting vmin to  6.538e+03 [aplpy.core]\n",
      "INFO: Auto-setting vmax to  2.834e+04 [aplpy.core]\n"
     ]
    },
    {
     "name": "stderr",
     "output_type": "stream",
     "text": [
      "/Library/Frameworks/Python.framework/Versions/3.6/lib/python3.6/site-packages/matplotlib/pyplot.py:523: RuntimeWarning: More than 20 figures have been opened. Figures created through the pyplot interface (`matplotlib.pyplot.figure`) are retained until explicitly closed and may consume too much memory. (To control this warning, see the rcParam `figure.max_open_warning`).\n",
      "  max_open_warning, RuntimeWarning)\n"
     ]
    },
    {
     "name": "stdout",
     "output_type": "stream",
     "text": [
      "Downloading http://irsa.ipac.caltech.edu/ibe/search/twomass/allsky/allsky?POS=166.020883,-46.46603 [Done]\n",
      "INFO: Auto-setting vmin to  1.579e+03 [aplpy.core]\n",
      "INFO: Auto-setting vmax to  2.574e+04 [aplpy.core]\n"
     ]
    },
    {
     "name": "stderr",
     "output_type": "stream",
     "text": [
      "/Library/Frameworks/Python.framework/Versions/3.6/lib/python3.6/site-packages/matplotlib/pyplot.py:523: RuntimeWarning: More than 20 figures have been opened. Figures created through the pyplot interface (`matplotlib.pyplot.figure`) are retained until explicitly closed and may consume too much memory. (To control this warning, see the rcParam `figure.max_open_warning`).\n",
      "  max_open_warning, RuntimeWarning)\n"
     ]
    },
    {
     "name": "stdout",
     "output_type": "stream",
     "text": [
      "Downloading http://irsa.ipac.caltech.edu/ibe/search/twomass/allsky/allsky?POS=42.850355,-30.82761 [Done]\n",
      "INFO: Auto-setting vmin to  2.120e+03 [aplpy.core]\n",
      "INFO: Auto-setting vmax to  2.541e+04 [aplpy.core]\n"
     ]
    },
    {
     "name": "stderr",
     "output_type": "stream",
     "text": [
      "/Library/Frameworks/Python.framework/Versions/3.6/lib/python3.6/site-packages/matplotlib/pyplot.py:523: RuntimeWarning: More than 20 figures have been opened. Figures created through the pyplot interface (`matplotlib.pyplot.figure`) are retained until explicitly closed and may consume too much memory. (To control this warning, see the rcParam `figure.max_open_warning`).\n",
      "  max_open_warning, RuntimeWarning)\n"
     ]
    },
    {
     "name": "stdout",
     "output_type": "stream",
     "text": [
      "Downloading http://irsa.ipac.caltech.edu/ibe/search/twomass/allsky/allsky?POS=168.794855,73.476094 [Done]\n",
      "INFO: Auto-setting vmin to  2.169e+03 [aplpy.core]\n",
      "INFO: Auto-setting vmax to  2.508e+04 [aplpy.core]\n"
     ]
    },
    {
     "name": "stderr",
     "output_type": "stream",
     "text": [
      "/Library/Frameworks/Python.framework/Versions/3.6/lib/python3.6/site-packages/matplotlib/pyplot.py:523: RuntimeWarning: More than 20 figures have been opened. Figures created through the pyplot interface (`matplotlib.pyplot.figure`) are retained until explicitly closed and may consume too much memory. (To control this warning, see the rcParam `figure.max_open_warning`).\n",
      "  max_open_warning, RuntimeWarning)\n"
     ]
    },
    {
     "name": "stdout",
     "output_type": "stream",
     "text": [
      "Downloading http://irsa.ipac.caltech.edu/ibe/search/twomass/allsky/allsky?POS=127.485676,61.721448 [Done]\n",
      "INFO: Auto-setting vmin to  2.018e+03 [aplpy.core]\n",
      "INFO: Auto-setting vmax to  2.633e+04 [aplpy.core]\n"
     ]
    },
    {
     "name": "stderr",
     "output_type": "stream",
     "text": [
      "/Library/Frameworks/Python.framework/Versions/3.6/lib/python3.6/site-packages/matplotlib/pyplot.py:523: RuntimeWarning: More than 20 figures have been opened. Figures created through the pyplot interface (`matplotlib.pyplot.figure`) are retained until explicitly closed and may consume too much memory. (To control this warning, see the rcParam `figure.max_open_warning`).\n",
      "  max_open_warning, RuntimeWarning)\n"
     ]
    },
    {
     "name": "stdout",
     "output_type": "stream",
     "text": [
      "Downloading http://irsa.ipac.caltech.edu/ibe/search/twomass/allsky/allsky?POS=355.686854,44.211699 [Done]\n",
      "INFO: Auto-setting vmin to  1.728e+03 [aplpy.core]\n",
      "INFO: Auto-setting vmax to  2.545e+04 [aplpy.core]\n"
     ]
    },
    {
     "name": "stderr",
     "output_type": "stream",
     "text": [
      "/Library/Frameworks/Python.framework/Versions/3.6/lib/python3.6/site-packages/matplotlib/pyplot.py:523: RuntimeWarning: More than 20 figures have been opened. Figures created through the pyplot interface (`matplotlib.pyplot.figure`) are retained until explicitly closed and may consume too much memory. (To control this warning, see the rcParam `figure.max_open_warning`).\n",
      "  max_open_warning, RuntimeWarning)\n"
     ]
    },
    {
     "name": "stdout",
     "output_type": "stream",
     "text": [
      "Downloading http://irsa.ipac.caltech.edu/ibe/search/twomass/allsky/allsky?POS=350.193323,48.792724 [Done]\n",
      "INFO: Auto-setting vmin to  1.969e+03 [aplpy.core]\n",
      "INFO: Auto-setting vmax to  2.639e+04 [aplpy.core]\n"
     ]
    },
    {
     "name": "stderr",
     "output_type": "stream",
     "text": [
      "/Library/Frameworks/Python.framework/Versions/3.6/lib/python3.6/site-packages/matplotlib/pyplot.py:523: RuntimeWarning: More than 20 figures have been opened. Figures created through the pyplot interface (`matplotlib.pyplot.figure`) are retained until explicitly closed and may consume too much memory. (To control this warning, see the rcParam `figure.max_open_warning`).\n",
      "  max_open_warning, RuntimeWarning)\n"
     ]
    },
    {
     "name": "stdout",
     "output_type": "stream",
     "text": [
      "Downloading http://irsa.ipac.caltech.edu/ibe/search/twomass/allsky/allsky?POS=350.462517,49.157629 [Done]\n",
      "INFO: Auto-setting vmin to  1.842e+03 [aplpy.core]\n",
      "INFO: Auto-setting vmax to  2.538e+04 [aplpy.core]\n"
     ]
    },
    {
     "name": "stderr",
     "output_type": "stream",
     "text": [
      "/Library/Frameworks/Python.framework/Versions/3.6/lib/python3.6/site-packages/matplotlib/pyplot.py:523: RuntimeWarning: More than 20 figures have been opened. Figures created through the pyplot interface (`matplotlib.pyplot.figure`) are retained until explicitly closed and may consume too much memory. (To control this warning, see the rcParam `figure.max_open_warning`).\n",
      "  max_open_warning, RuntimeWarning)\n"
     ]
    },
    {
     "name": "stdout",
     "output_type": "stream",
     "text": [
      "Downloading http://irsa.ipac.caltech.edu/ibe/search/twomass/allsky/allsky?POS=298.752468,52.854945 [Done]\n",
      "INFO: Auto-setting vmin to  2.201e+03 [aplpy.core]\n",
      "INFO: Auto-setting vmax to  2.615e+04 [aplpy.core]\n"
     ]
    },
    {
     "name": "stderr",
     "output_type": "stream",
     "text": [
      "/Library/Frameworks/Python.framework/Versions/3.6/lib/python3.6/site-packages/matplotlib/pyplot.py:523: RuntimeWarning: More than 20 figures have been opened. Figures created through the pyplot interface (`matplotlib.pyplot.figure`) are retained until explicitly closed and may consume too much memory. (To control this warning, see the rcParam `figure.max_open_warning`).\n",
      "  max_open_warning, RuntimeWarning)\n"
     ]
    },
    {
     "name": "stdout",
     "output_type": "stream",
     "text": [
      "Downloading http://irsa.ipac.caltech.edu/ibe/search/twomass/allsky/allsky?POS=109.545227,24.294199 [Done]\n",
      "INFO: Auto-setting vmin to  2.427e+03 [aplpy.core]\n",
      "INFO: Auto-setting vmax to  1.901e+04 [aplpy.core]\n"
     ]
    },
    {
     "name": "stderr",
     "output_type": "stream",
     "text": [
      "/Library/Frameworks/Python.framework/Versions/3.6/lib/python3.6/site-packages/matplotlib/pyplot.py:523: RuntimeWarning: More than 20 figures have been opened. Figures created through the pyplot interface (`matplotlib.pyplot.figure`) are retained until explicitly closed and may consume too much memory. (To control this warning, see the rcParam `figure.max_open_warning`).\n",
      "  max_open_warning, RuntimeWarning)\n"
     ]
    },
    {
     "name": "stdout",
     "output_type": "stream",
     "text": [
      "Downloading http://irsa.ipac.caltech.edu/ibe/search/twomass/allsky/allsky?POS=347.588686,49.018335 [Done]\n",
      "INFO: Auto-setting vmin to  2.156e+03 [aplpy.core]\n",
      "INFO: Auto-setting vmax to  2.722e+04 [aplpy.core]\n"
     ]
    },
    {
     "name": "stderr",
     "output_type": "stream",
     "text": [
      "/Library/Frameworks/Python.framework/Versions/3.6/lib/python3.6/site-packages/matplotlib/pyplot.py:523: RuntimeWarning: More than 20 figures have been opened. Figures created through the pyplot interface (`matplotlib.pyplot.figure`) are retained until explicitly closed and may consume too much memory. (To control this warning, see the rcParam `figure.max_open_warning`).\n",
      "  max_open_warning, RuntimeWarning)\n"
     ]
    },
    {
     "name": "stdout",
     "output_type": "stream",
     "text": [
      "Downloading http://irsa.ipac.caltech.edu/ibe/search/twomass/allsky/allsky?POS=358.11233,69.498787 [Done]\n",
      "INFO: Auto-setting vmin to  2.049e+03 [aplpy.core]\n",
      "INFO: Auto-setting vmax to  2.658e+04 [aplpy.core]\n"
     ]
    },
    {
     "name": "stderr",
     "output_type": "stream",
     "text": [
      "/Library/Frameworks/Python.framework/Versions/3.6/lib/python3.6/site-packages/matplotlib/pyplot.py:523: RuntimeWarning: More than 20 figures have been opened. Figures created through the pyplot interface (`matplotlib.pyplot.figure`) are retained until explicitly closed and may consume too much memory. (To control this warning, see the rcParam `figure.max_open_warning`).\n",
      "  max_open_warning, RuntimeWarning)\n"
     ]
    },
    {
     "name": "stdout",
     "output_type": "stream",
     "text": [
      "Downloading http://irsa.ipac.caltech.edu/ibe/search/twomass/allsky/allsky?POS=357.023442,69.549307 [Done]\n",
      "INFO: Auto-setting vmin to  1.889e+03 [aplpy.core]\n",
      "INFO: Auto-setting vmax to  2.573e+04 [aplpy.core]\n"
     ]
    },
    {
     "name": "stderr",
     "output_type": "stream",
     "text": [
      "/Library/Frameworks/Python.framework/Versions/3.6/lib/python3.6/site-packages/matplotlib/pyplot.py:523: RuntimeWarning: More than 20 figures have been opened. Figures created through the pyplot interface (`matplotlib.pyplot.figure`) are retained until explicitly closed and may consume too much memory. (To control this warning, see the rcParam `figure.max_open_warning`).\n",
      "  max_open_warning, RuntimeWarning)\n"
     ]
    },
    {
     "name": "stdout",
     "output_type": "stream",
     "text": [
      "Downloading http://irsa.ipac.caltech.edu/ibe/search/twomass/allsky/allsky?POS=340.026684,54.453105 [Done]\n",
      "INFO: Auto-setting vmin to  1.684e+03 [aplpy.core]\n",
      "INFO: Auto-setting vmax to  2.446e+04 [aplpy.core]\n"
     ]
    },
    {
     "name": "stderr",
     "output_type": "stream",
     "text": [
      "/Library/Frameworks/Python.framework/Versions/3.6/lib/python3.6/site-packages/matplotlib/pyplot.py:523: RuntimeWarning: More than 20 figures have been opened. Figures created through the pyplot interface (`matplotlib.pyplot.figure`) are retained until explicitly closed and may consume too much memory. (To control this warning, see the rcParam `figure.max_open_warning`).\n",
      "  max_open_warning, RuntimeWarning)\n"
     ]
    },
    {
     "name": "stdout",
     "output_type": "stream",
     "text": [
      "Downloading http://irsa.ipac.caltech.edu/ibe/search/twomass/allsky/allsky?POS=338.913769,56.861174 [Done]\n",
      "INFO: Auto-setting vmin to  2.497e+03 [aplpy.core]\n",
      "INFO: Auto-setting vmax to  2.711e+04 [aplpy.core]\n"
     ]
    },
    {
     "name": "stderr",
     "output_type": "stream",
     "text": [
      "/Library/Frameworks/Python.framework/Versions/3.6/lib/python3.6/site-packages/matplotlib/pyplot.py:523: RuntimeWarning: More than 20 figures have been opened. Figures created through the pyplot interface (`matplotlib.pyplot.figure`) are retained until explicitly closed and may consume too much memory. (To control this warning, see the rcParam `figure.max_open_warning`).\n",
      "  max_open_warning, RuntimeWarning)\n"
     ]
    },
    {
     "name": "stdout",
     "output_type": "stream",
     "text": [
      "Downloading http://irsa.ipac.caltech.edu/ibe/search/twomass/allsky/allsky?POS=4.557788,57.666452 [Done]\n",
      "INFO: Auto-setting vmin to  2.066e+03 [aplpy.core]\n",
      "INFO: Auto-setting vmax to  2.366e+04 [aplpy.core]\n"
     ]
    },
    {
     "name": "stderr",
     "output_type": "stream",
     "text": [
      "/Library/Frameworks/Python.framework/Versions/3.6/lib/python3.6/site-packages/matplotlib/pyplot.py:523: RuntimeWarning: More than 20 figures have been opened. Figures created through the pyplot interface (`matplotlib.pyplot.figure`) are retained until explicitly closed and may consume too much memory. (To control this warning, see the rcParam `figure.max_open_warning`).\n",
      "  max_open_warning, RuntimeWarning)\n"
     ]
    },
    {
     "name": "stdout",
     "output_type": "stream",
     "text": [
      "Downloading http://irsa.ipac.caltech.edu/ibe/search/twomass/allsky/allsky?POS=243.908594,70.424862 [Done]\n",
      "INFO: Auto-setting vmin to  2.330e+03 [aplpy.core]\n",
      "INFO: Auto-setting vmax to  2.351e+04 [aplpy.core]\n"
     ]
    },
    {
     "name": "stderr",
     "output_type": "stream",
     "text": [
      "/Library/Frameworks/Python.framework/Versions/3.6/lib/python3.6/site-packages/matplotlib/pyplot.py:523: RuntimeWarning: More than 20 figures have been opened. Figures created through the pyplot interface (`matplotlib.pyplot.figure`) are retained until explicitly closed and may consume too much memory. (To control this warning, see the rcParam `figure.max_open_warning`).\n",
      "  max_open_warning, RuntimeWarning)\n"
     ]
    }
   ],
   "source": [
    "import matplotlib.pyplot as plt\n",
    "import aplpy\n",
    "from astropy.wcs import WCS\n",
    "from astropy.io import fits, ascii\n",
    "from astropy.utils.data import get_pkg_data_filename\n",
    "from astroquery.skyview import SkyView\n",
    "import ssl\n",
    "import aplpy\n",
    "from lens import Lens\n",
    "from astropy.table import Table\n",
    "import sqlutil as sqlutil\n",
    "import numpy as np\n",
    "import lensutils as util\n",
    "\n",
    "\n",
    "candidates = Table.read('data/candidatesDistTime.txt',format='ascii')\n",
    "#candidates = Table.read('data/largpmcandidates.txt',format='ascii')\n",
    "timeMask = (candidates['Closest_approah_time[JYr]'] > 2018.0) & (candidates['Closest_approach_Dist[mas]'] < 260.0)\n",
    "\n",
    "#candidates = candidates[timeMask]\n",
    "TGASlensid = candidates['TGAS_id']\n",
    "ppmxlid = candidates['ppmxl_id']\n",
    "#CloseApp = candidates['Closest_approach_Dist[mas]'] \n",
    "#timeApp = candidates['Closest_approah_time[JYr]']\n",
    "#imsize = 2\n",
    "\n",
    "for i in range(0,len(TGASlensid)):\n",
    "    \n",
    "    querystringTGAS = 'select ra, dec, source_id,pmra,pmdec,ref_epoch, phot_g_mean_mag from gaia_dr1.tgas_source where source_id=' + str(TGASlensid[i])\n",
    "    querystringPPMXL ='select ra, dec, id, epochra, epochdec,jmag,hmag,kmag,b1mag,b2mag,r1mag,r2mag from ppmxl.main where id=' + str(ppmxlid[i])\n",
    "\n",
    "    lensRa, lensDec, id,pmra,pmdec,ref_epoch, gmag = sqlutil.get(querystringTGAS,\n",
    "                                                           db='wsdb',host='cappc127.ast.cam.ac.uk', user='peter_mcgill', password='Ln3g.wsk')\n",
    "\n",
    "    testlens1 = Lens(id[0],lensRa[0],lensDec[0],pmra[0],pmdec[0],ref_epoch[0])\n",
    "\n",
    "    sourceRa, sourceDec,sourceId, epochra, epochdec, jmag,hmag,kmag,b1mag,b2mag,r1mag,r2mag = sqlutil.get(querystringPPMXL,\n",
    "                       db='wsdb',host='cappc127.ast.cam.ac.uk', user='peter_mcgill', password='Ln3g.wsk')\n",
    "\n",
    "    util.plt_lens_env(testlens1,sourceRa[0],sourceDec[0],sourceId[0],[jmag[0],hmag[0],kmag[0],b1mag[0],b2mag[0],r1mag[0],r2mag[0]],gmag[0])\n",
    "    \n",
    "    \n",
    "    \n"
   ]
  },
  {
   "cell_type": "code",
   "execution_count": null,
   "metadata": {},
   "outputs": [],
   "source": []
  },
  {
   "cell_type": "code",
   "execution_count": null,
   "metadata": {},
   "outputs": [],
   "source": []
  },
  {
   "cell_type": "code",
   "execution_count": null,
   "metadata": {},
   "outputs": [],
   "source": []
  },
  {
   "cell_type": "code",
   "execution_count": null,
   "metadata": {},
   "outputs": [],
   "source": []
  },
  {
   "cell_type": "code",
   "execution_count": null,
   "metadata": {},
   "outputs": [],
   "source": []
  }
 ],
 "metadata": {
  "kernelspec": {
   "display_name": "Python 3",
   "language": "python",
   "name": "python3"
  },
  "language_info": {
   "codemirror_mode": {
    "name": "ipython",
    "version": 3
   },
   "file_extension": ".py",
   "mimetype": "text/x-python",
   "name": "python",
   "nbconvert_exporter": "python",
   "pygments_lexer": "ipython3",
   "version": "3.6.3"
  }
 },
 "nbformat": 4,
 "nbformat_minor": 2
}
