{
 "cells": [
  {
   "cell_type": "code",
   "execution_count": 28,
   "metadata": {},
   "outputs": [],
   "source": [
    "from astropy.table import Table\n",
    "from lens import Lens\n",
    "from astropy.io import fits\n",
    "import sqlutil as sqlutil \n",
    "import matplotlib.pyplot as plt\n",
    "import numpy as np\n",
    "from astropy.io import ascii\n",
    "import matplotlib.pyplot as plt\n",
    "\n",
    "candidates = Table.read('data/candidatesDistTime.txt',format='ascii')\n",
    "TGASlensid = candidates['TGAS_id']"
   ]
  },
  {
   "cell_type": "code",
   "execution_count": 46,
   "metadata": {},
   "outputs": [
    {
     "name": "stdout",
     "output_type": "stream",
     "text": [
      "      TGAS_id             ppmxl_id      ... Closest_approah_time[JYr]\n",
      "------------------- ------------------- ... -------------------------\n",
      "6393559269685640832 6483612698080913622 ...             2019.57615988\n",
      "4617518584016224640 6632402461734556595 ...             2022.73626824\n",
      "4636623560620691712 6642124778024154547 ...             2021.67757596\n",
      "4657054376450962176 6648897699311802221 ...             2018.73396737\n",
      "3445879611933203072 3123260875214523652 ...             2024.84020333\n",
      "6575581564239343872 6519851596723311770 ...             2023.23110337\n",
      "2515037294106060928 2096558767427258313 ...              2019.5438656\n",
      "4990101396306002816 6819260242801784139 ...             2024.96544059\n",
      "5003620888202517504 1457577990943043168 ...             2024.37957495\n",
      "5386728122714476160 6061066550570148427 ...              2019.9010625\n",
      "1078773257928567808  901689603363626723 ...             2023.06070572\n",
      "1090049711743739904  925892982187682648 ...             2021.39832567\n",
      "2214309903153925120  249177705368967073 ...             2019.34510622\n",
      " 422054582068454016  327603856034493418 ...             2018.60969414\n"
     ]
    }
   ],
   "source": [
    "#print(candidates['Closest_approah_time[JYr]'])\n",
    "\n",
    "timemask = candidates['Closest_approah_time[JYr]'] > 2018\n",
    "\n",
    "distmask = candidates['Closest_approach_Dist[mas]'] < 260\n",
    "\n",
    "candidates = candidates[timemask]\n",
    "\n",
    "#candidates = candidates[distmask]\n",
    "\n",
    " \n",
    "print(candidates)\n",
    "\n",
    "#lens_b = np.array([])\n",
    "\n",
    "#for i in range(0,len(TGASlensid)):\n",
    "\n",
    "    #querystringTGAS = 'select parallax, parallax_error, pmra, pmra_error, pmdec, pmdec_error, phot_g_mean_flux, phot_g_mean_flux_error, phot_g_mean_mag phot_variable_flag, l, b, psfmag_u, psfmag_g,psfmag_r, psfmag_i, psfmag_z, psfmagerr_u, psfmagerr_g, psfmagerr_r, psfmagerr_i, psfmagerr_z from gaia_dr1_aux.gaia_source_sdssdr9_xm where source_id=' + str(TGASlensid[i])\n",
    "    \n",
    "#    querystringTGAS = 'select source_id from gaia_dr1_aux.gaia_source_sdssdr9_xm where source_id=' + str(TGASlensid[i])\n",
    "    \n",
    "#    l = sqlutil.get(querystringTGAS,db='wsdb',host='cappc127.ast.cam.ac.uk', user='peter_mcgill', password='Ln3g.wsk')\n",
    "   \n",
    "#    print(l)\n",
    "\n",
    "\n"
   ]
  },
  {
   "cell_type": "code",
   "execution_count": 26,
   "metadata": {},
   "outputs": [
    {
     "ename": "IndexError",
     "evalue": "index 2 is out of bounds for axis 0 with size 0",
     "output_type": "error",
     "traceback": [
      "\u001b[0;31m---------------------------------------------------------------------------\u001b[0m",
      "\u001b[0;31mIndexError\u001b[0m                                Traceback (most recent call last)",
      "\u001b[0;32m<ipython-input-26-a92ec6ec968d>\u001b[0m in \u001b[0;36m<module>\u001b[0;34m()\u001b[0m\n\u001b[0;32m----> 1\u001b[0;31m \u001b[0mprint\u001b[0m\u001b[0;34m(\u001b[0m\u001b[0mlens_b\u001b[0m\u001b[0;34m[\u001b[0m\u001b[0;36m2\u001b[0m\u001b[0;34m]\u001b[0m\u001b[0;34m)\u001b[0m\u001b[0;34m\u001b[0m\u001b[0m\n\u001b[0m",
      "\u001b[0;31mIndexError\u001b[0m: index 2 is out of bounds for axis 0 with size 0"
     ]
    }
   ],
   "source": [
    "print(lens_b[2])"
   ]
  },
  {
   "cell_type": "code",
   "execution_count": null,
   "metadata": {},
   "outputs": [],
   "source": []
  }
 ],
 "metadata": {
  "kernelspec": {
   "display_name": "Python 3",
   "language": "python",
   "name": "python3"
  },
  "language_info": {
   "codemirror_mode": {
    "name": "ipython",
    "version": 3
   },
   "file_extension": ".py",
   "mimetype": "text/x-python",
   "name": "python",
   "nbconvert_exporter": "python",
   "pygments_lexer": "ipython3",
   "version": "3.6.3"
  }
 },
 "nbformat": 4,
 "nbformat_minor": 2
}
