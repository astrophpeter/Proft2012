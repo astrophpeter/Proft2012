{
 "cells": [
  {
   "cell_type": "code",
   "execution_count": 2,
   "metadata": {},
   "outputs": [],
   "source": [
    "from astropy.table import Table\n",
    "from lens import Lens\n",
    "from astropy.io import fits\n",
    "import sqlutil as sqlutil \n",
    "import matplotlib.pyplot as plt\n",
    "import numpy as np\n",
    "from astropy.io import ascii\n",
    "import matplotlib.pyplot as plt\n",
    "\n",
    "candidates = Table.read('candidatesDistTime.txt',format='ascii')\n",
    "TGASlensid = candidates['TGAS_id']"
   ]
  },
  {
   "cell_type": "code",
   "execution_count": null,
   "metadata": {},
   "outputs": [],
   "source": [
    "\n",
    "lens_b = np.array([])\n",
    "\n",
    "for i in range(0,len(TGASlensid)):\n",
    "\n",
    "    #querystringTGAS = 'select parallax, parallax_error, pmra, pmra_error, pmdec, pmdec_error, phot_g_mean_flux, phot_g_mean_flux_error, phot_g_mean_mag phot_variable_flag, l, b, psfmag_u, psfmag_g,psfmag_r, psfmag_i, psfmag_z, psfmagerr_u, psfmagerr_g, psfmagerr_r, psfmagerr_i, psfmagerr_z from gaia_dr1_aux.gaia_source_sdssdr9_xm where source_id=' + str(TGASlensid[i])\n",
    "    \n",
    "    querystringTGAS = 'select b from gaia_dr1.tgas_source where source_id=' + str(TGASlensid[i])\n",
    "    \n",
    "    l = sqlutil.get(querystringTGAS,db='wsdb',host='cappc127.ast.cam.ac.uk', user='peter_mcgill', password='Ln3g.wsk')\n",
    "    \n",
    "    lens_b = np.append(lens_b,l[0])\n",
    "\n",
    "\n",
    "\n",
    "plt.hist(lens_b)\n",
    "plt.savefig(lensDist_b.png,dpi=199)\n",
    "    "
   ]
  },
  {
   "cell_type": "code",
   "execution_count": 20,
   "metadata": {},
   "outputs": [
    {
     "name": "stdout",
     "output_type": "stream",
     "text": [
      "[-34.65442833]\n"
     ]
    }
   ],
   "source": [
    "print(lens_b[2])"
   ]
  },
  {
   "cell_type": "code",
   "execution_count": null,
   "metadata": {},
   "outputs": [],
   "source": []
  }
 ],
 "metadata": {
  "kernelspec": {
   "display_name": "Python 3",
   "language": "python",
   "name": "python3"
  },
  "language_info": {
   "codemirror_mode": {
    "name": "ipython",
    "version": 3
   },
   "file_extension": ".py",
   "mimetype": "text/x-python",
   "name": "python",
   "nbconvert_exporter": "python",
   "pygments_lexer": "ipython3",
   "version": "3.6.3"
  }
 },
 "nbformat": 4,
 "nbformat_minor": 2
}
