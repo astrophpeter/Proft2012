{
 "cells": [
  {
   "cell_type": "code",
   "execution_count": 1,
   "metadata": {},
   "outputs": [],
   "source": [
    "from astropy.table import Table\n",
    "from lens import Lens\n",
    "from astropy.io import fits\n",
    "import sqlutil as sqlutil \n",
    "import matplotlib.pyplot as plt\n",
    "import numpy as np\n",
    "from astropy.io import ascii\n",
    "import matplotlib.pyplot as plt\n",
    "\n",
    "candidates = Table.read('data/candidatesDistTime.txt',format='ascii')\n"
   ]
  },
  {
   "cell_type": "code",
   "execution_count": 2,
   "metadata": {},
   "outputs": [
    {
     "name": "stdout",
     "output_type": "stream",
     "text": [
      "      TGAS_id             ppmxl_id      ... Closest_approah_time[JYr]\n",
      "------------------- ------------------- ... -------------------------\n",
      "5200909283232946560 6234917897003511370 ...             2014.16173341\n",
      "6252489110346974848 4660556120477153865 ...             2013.39726938\n",
      "6350731848675233536 6446221259875254008 ...             2013.57018477\n",
      "6354346905470767232 6447852313104339922 ...             2016.06247198\n",
      "6356546684637452544 6444023965783237449 ...             2013.90408146\n",
      "6373865779481580672 6428850117912699396 ...             2014.26522764\n",
      "6393559269685640832 6483612698080913622 ...             2019.57615988\n",
      "5941478330735352192 5923422529929225013 ...             2014.27823189\n",
      "4617518584016224640 6632402461734556595 ...             2022.73626824\n",
      "4636623560620691712 6642124778024154547 ...             2021.67757596\n",
      "                ...                 ... ...                       ...\n",
      "1942454313155583360  100536380482174489 ...             2013.14599437\n",
      "1943025921762019968  100661132575375911 ...             2014.70925809\n",
      "2137521351100968192  172376475477382692 ...             2013.04185714\n",
      " 869743693622485760 3237863121680160210 ...             2016.94136539\n",
      "1990678068516601728  100383859513833018 ...             2013.33353161\n",
      "2214309903153925120  249177705368967073 ...             2019.34510622\n",
      "2214506131620182400  249129694805130417 ...             2013.53056982\n",
      "2003215696527393792  128498862161600989 ...             2015.21059813\n",
      "2006899094840162048  135272125181888214 ...             2017.45925809\n",
      " 422054582068454016  327603856034493418 ...             2018.60969414\n",
      "1653112468186847616  662961631370428037 ...             2014.62363901\n",
      "Length = 44 rows\n"
     ]
    }
   ],
   "source": [
    "#print(candidates['Closest_approah_time[JYr]'])\n",
    "\n",
    "mask = (candidates['Closest_approah_time[JYr]'] > 2018) & (candidates['Closest_approach_Dist[mas]'] < 260)\n",
    "\n",
    "\n",
    "#candidates = candidates[mask]\n",
    "\n",
    "#candidates = candidates[distmask]\n",
    "\n",
    "TGASlensid = candidates['TGAS_id']\n",
    "Cand_parallax = np.array([])\n",
    "Cand_phot_g_mean_mag = np.array([])\n",
    "    \n",
    "    \n",
    "print(candidates)\n",
    "\n",
    "#lens_b = np.array([])\n",
    "\n",
    "for i in range(0,len(TGASlensid)):\n",
    "\n",
    "    querystringTGAS = 'select parallax, parallax_error, pmra, pmra_error, pmdec, pmdec_error, phot_g_mean_flux, phot_g_mean_flux_error, phot_g_mean_mag, phot_variable_flag, l, b from gaia_dr1.tgas_source where source_id=' + str(TGASlensid[i])       \n",
    "    \n",
    "    \n",
    "    \n",
    "   \n",
    "    #querystringTGAS = 'select source_id from gaia_dr1_aux.tgas_source where source_id=' + str(TGASlensid[i])\n",
    "    \n",
    "    parallax, parallax_error, pmra, pmra_error, pmdec, pmdec_error, phot_g_mean_flux, phot_g_mean_flux_error, phot_g_mean_mag, phot_variable_flag, l, b = sqlutil.get(querystringTGAS,db='wsdb',host='cappc127.ast.cam.ac.uk', user='peter_mcgill', password='Ln3g.wsk')\n",
    "   \n",
    "    Cand_phot_g_mean_mag = np.append(Cand_phot_g_mean_mag,parallax)\n",
    "\n",
    "\n"
   ]
  },
  {
   "cell_type": "code",
   "execution_count": 3,
   "metadata": {},
   "outputs": [],
   "source": [
    "plt.hist(Cand_phot_g_mean_mag)\n",
    "plt.savefig('parralax-all.png',dpi=200)"
   ]
  },
  {
   "cell_type": "code",
   "execution_count": 12,
   "metadata": {},
   "outputs": [
    {
     "name": "stdout",
     "output_type": "stream",
     "text": [
      "[-154.66151359]\n"
     ]
    }
   ],
   "source": [
    "print(pmra)"
   ]
  },
  {
   "cell_type": "code",
   "execution_count": null,
   "metadata": {},
   "outputs": [],
   "source": []
  }
 ],
 "metadata": {
  "kernelspec": {
   "display_name": "Python 3",
   "language": "python",
   "name": "python3"
  },
  "language_info": {
   "codemirror_mode": {
    "name": "ipython",
    "version": 3
   },
   "file_extension": ".py",
   "mimetype": "text/x-python",
   "name": "python",
   "nbconvert_exporter": "python",
   "pygments_lexer": "ipython3",
   "version": "3.6.3"
  }
 },
 "nbformat": 4,
 "nbformat_minor": 2
}
