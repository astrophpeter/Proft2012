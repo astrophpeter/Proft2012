{
 "cells": [
  {
   "cell_type": "code",
   "execution_count": 2,
   "metadata": {},
   "outputs": [],
   "source": [
    "from astropy.table import Table\n",
    "from src.lens import Lens\n",
    "from astropy.io import fits\n",
    "import src.sqlutil as sqlutil \n",
    "import matplotlib.pyplot as plt\n",
    "import numpy as np\n",
    "from astropy.io import ascii\n",
    "import matplotlib.pyplot as plt\n",
    "\n",
    "candidates = Table.read('data/candidatesDistTime.txt',format='ascii')\n"
   ]
  },
  {
   "cell_type": "code",
   "execution_count": 3,
   "metadata": {},
   "outputs": [
    {
     "name": "stdout",
     "output_type": "stream",
     "text": [
      "      TGAS_id             ppmxl_id      ... Closest_approah_time[JYr]\n",
      "------------------- ------------------- ... -------------------------\n",
      "3445879611933203072 3123260875214523652 ...             2024.84020333\n",
      "6575581564239343872 6519851596723311770 ...             2023.23110337\n",
      "4990101396306002816 6819260242801784139 ...             2024.96544059\n",
      "5003620888202517504 1457577990943043168 ...             2024.37957495\n",
      "5386728122714476160 6061066550570148427 ...              2019.9010625\n"
     ]
    }
   ],
   "source": [
    "#print(candidates['Closest_approah_time[JYr]'])\n",
    "\n",
    "mask = (candidates['Closest_approah_time[JYr]'] > 2018) & (candidates['Closest_approach_Dist[mas]'] < 260)\n",
    "\n",
    "\n",
    "candidates = candidates[mask]\n",
    "\n",
    "#candidates = candidates[distmask]\n",
    "\n",
    "TGASlensid = candidates['TGAS_id']\n",
    "ppmxlid = candidates['ppmxl_id']\n",
    "Cand_parallax = np.array([])\n",
    "lens_phot_g_mean_mag = np.array([])\n",
    "source_j_mag = np.array([])\n",
    "    \n",
    "print(candidates)\n",
    "\n",
    "#lens_b = np.array([])\n",
    "\n",
    "for i in range(0,len(TGASlensid)):\n",
    "\n",
    "    querystringTGAS = 'select parallax, parallax_error, pmra, pmra_error, pmdec, pmdec_error, phot_g_mean_flux, phot_g_mean_flux_error, phot_g_mean_mag, phot_variable_flag, l, b from gaia_dr1.tgas_source where source_id=' + str(TGASlensid[i])       \n",
    "    querystringppmxl = 'select pmdec from ppmxl.main where id=' + str(ppmxlid[i])\n",
    "    \n",
    "    \n",
    "    \n",
    "    #querystringTGAS = 'select source_id from gaia_dr1_aux.tgas_source where source_id=' + str(TGASlensid[i])\n",
    "    jmag = sqlutil.get(querystringppmxl,db='wsdb',host='cappc127.ast.cam.ac.uk', user='peter_mcgill', password='Ln3g.wsk')\n",
    "    parallax, parallax_error, pmra, pmra_error, pmdec, pmdec_error, phot_g_mean_flux, phot_g_mean_flux_error, phot_g_mean_mag, phot_variable_flag, l, b = sqlutil.get(querystringTGAS,db='wsdb',host='cappc127.ast.cam.ac.uk', user='peter_mcgill', password='Ln3g.wsk')\n",
    "   \n",
    "    lens_phot_g_mean_mag = np.append(lens_phot_g_mean_mag,pmdec)\n",
    "    source_j_mag = np.append(source_j_mag,jmag)\n",
    "\n",
    "\n"
   ]
  },
  {
   "cell_type": "code",
   "execution_count": 3,
   "metadata": {},
   "outputs": [
    {
     "ename": "NameError",
     "evalue": "name 'Cand_phot_g_mean_mag' is not defined",
     "output_type": "error",
     "traceback": [
      "\u001b[0;31m---------------------------------------------------------------------------\u001b[0m",
      "\u001b[0;31mNameError\u001b[0m                                 Traceback (most recent call last)",
      "\u001b[0;32m<ipython-input-3-d588ffb24bd9>\u001b[0m in \u001b[0;36m<module>\u001b[0;34m()\u001b[0m\n\u001b[0;32m----> 1\u001b[0;31m \u001b[0mplt\u001b[0m\u001b[0;34m.\u001b[0m\u001b[0mhist\u001b[0m\u001b[0;34m(\u001b[0m\u001b[0mCand_phot_g_mean_mag\u001b[0m\u001b[0;34m)\u001b[0m\u001b[0;34m\u001b[0m\u001b[0m\n\u001b[0m\u001b[1;32m      2\u001b[0m \u001b[0mplt\u001b[0m\u001b[0;34m.\u001b[0m\u001b[0msavefig\u001b[0m\u001b[0;34m(\u001b[0m\u001b[0;34m'parralax-all.png'\u001b[0m\u001b[0;34m,\u001b[0m\u001b[0mdpi\u001b[0m\u001b[0;34m=\u001b[0m\u001b[0;36m200\u001b[0m\u001b[0;34m)\u001b[0m\u001b[0;34m\u001b[0m\u001b[0m\n",
      "\u001b[0;31mNameError\u001b[0m: name 'Cand_phot_g_mean_mag' is not defined"
     ]
    }
   ],
   "source": [
    "plt.hist(Cand_phot_g_mean_mag)\n",
    "plt.savefig('parralax-all.png',dpi=200)"
   ]
  },
  {
   "cell_type": "code",
   "execution_count": 4,
   "metadata": {},
   "outputs": [
    {
     "name": "stdout",
     "output_type": "stream",
     "text": [
      "[-178.48897254  -54.32854626   35.5108757  -257.66702663    0.89687367]\n"
     ]
    }
   ],
   "source": [
    "print(lens_phot_g_mean_mag)"
   ]
  },
  {
   "cell_type": "code",
   "execution_count": 19,
   "metadata": {},
   "outputs": [
    {
     "name": "stdout",
     "output_type": "stream",
     "text": [
      "[   1.20000005  103.69999695   28.10000038  349.29998779  -11.69999981]\n"
     ]
    }
   ],
   "source": [
    "print(source_j_mag)"
   ]
  },
  {
   "cell_type": "code",
   "execution_count": null,
   "metadata": {},
   "outputs": [],
   "source": []
  }
 ],
 "metadata": {
  "kernelspec": {
   "display_name": "Python 3",
   "language": "python",
   "name": "python3"
  },
  "language_info": {
   "codemirror_mode": {
    "name": "ipython",
    "version": 3
   },
   "file_extension": ".py",
   "mimetype": "text/x-python",
   "name": "python",
   "nbconvert_exporter": "python",
   "pygments_lexer": "ipython3",
   "version": "3.6.3"
  }
 },
 "nbformat": 4,
 "nbformat_minor": 2
}
