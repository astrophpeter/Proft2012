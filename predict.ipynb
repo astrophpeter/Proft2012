{
 "cells": [
  {
   "cell_type": "code",
   "execution_count": 33,
   "metadata": {},
   "outputs": [],
   "source": [
    "import sqlutil as sqlutil \n",
    "import matplotlib.pyplot as plt\n",
    "import numpy as np\n",
    "\n",
    "#plotting the motion of one lens.\n",
    "lensRa, lensDec, id,pmra,pmdec = sqlutil.get('select ra, dec, source_id,pmra,pmdec from gaia_dr1.tgas_source where pmra > 1500',\n",
    "                       db='wsdb',host='cappc127.ast.cam.ac.uk', user='peter_mcgill', password='Ln3g.wsk')\n",
    "\n",
    "#backgroud catalogue\n",
    "sourceRa, sourceDec = sqlutil.get('select ra, dec from ppmxl.main limit 1000000',\n",
    "                       db='wsdb',host='cappc127.ast.cam.ac.uk', user='peter_mcgill', password='Ln3g.wsk')"
   ]
  },
  {
   "cell_type": "code",
   "execution_count": 42,
   "metadata": {},
   "outputs": [
    {
     "name": "stdout",
     "output_type": "stream",
     "text": [
      "0.0\n",
      "0.0483628302182\n",
      "0.0967256604364\n",
      "0.145088490655\n",
      "0.193451320873\n",
      "0.241814151091\n",
      "0.290176981309\n",
      "0.338539811528\n",
      "0.386902641746\n",
      "0.435265471964\n"
     ]
    }
   ],
   "source": [
    "xvalues = []\n",
    "yvalues = []\n",
    "\n",
    "ra = lensRa[0]\n",
    "dec = lensDec[0]\n",
    "\n",
    "for i in np.linspace(0,1000000.0,num=10):\n",
    "    ra_new = ra + i*pmra[0]*0.000277778*10**(-6)\n",
    "    print(i*pmra[0]*0.000277778*10**(-6))\n",
    "    dec_new = dec + i*pmdec[0]*0.00027778*10**(-6) \n",
    "    xvalues.append(dec_new * np.cos(np.deg2rad(ra_new)))\n",
    "    yvalues.append(ra_new)\n",
    "    \n"
   ]
  },
  {
   "cell_type": "code",
   "execution_count": 39,
   "metadata": {},
   "outputs": [
    {
     "data": {
      "text/plain": [
       "array([  12.88674411,   16.79883142,   15.65746829,    4.61210931,\n",
       "        176.4549073 ,   32.62201119])"
      ]
     },
     "execution_count": 39,
     "metadata": {},
     "output_type": "execute_result"
    }
   ],
   "source": [
    "lensRa"
   ]
  },
  {
   "cell_type": "code",
   "execution_count": 43,
   "metadata": {
    "scrolled": true
   },
   "outputs": [
    {
     "data": {
      "image/png": "[encoded data removed]",
      "text/plain": [
       "<matplotlib.figure.Figure at 0x106597828>"
      ]
     },
     "metadata": {},
     "output_type": "display_data"
    }
   ],
   "source": [
    "plt.scatter(xvalues,yvalues)\n",
    "#plt.scatter(sourceDec*np.cos(sourceRa),sourceRa)\n",
    "plt.show()\n"
   ]
  },
  {
   "cell_type": "code",
   "execution_count": null,
   "metadata": {},
   "outputs": [],
   "source": [
    "np.linspace(0,1.0,num=1)"
   ]
  },
  {
   "cell_type": "code",
   "execution_count": 25,
   "metadata": {},
   "outputs": [
    {
     "data": {
      "text/plain": [
       "0.25"
      ]
     },
     "execution_count": 25,
     "metadata": {},
     "output_type": "execute_result"
    }
   ],
   "source": [
    "2**(-2)"
   ]
  },
  {
   "cell_type": "code",
   "execution_count": null,
   "metadata": {},
   "outputs": [],
   "source": []
  }
 ],
 "metadata": {
  "kernelspec": {
   "display_name": "Python 3",
   "language": "python",
   "name": "python3"
  },
  "language_info": {
   "codemirror_mode": {
    "name": "ipython",
    "version": 3
   },
   "file_extension": ".py",
   "mimetype": "text/x-python",
   "name": "python",
   "nbconvert_exporter": "python",
   "pygments_lexer": "ipython3",
   "version": "3.6.3"
  }
 },
 "nbformat": 4,
 "nbformat_minor": 2
}
