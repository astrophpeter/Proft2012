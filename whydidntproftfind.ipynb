{
 "cells": [
  {
   "cell_type": "code",
   "execution_count": 1,
   "metadata": {},
   "outputs": [],
   "source": [
    "import aplpy\n",
    "import matplotlib.pyplot as plt\n",
    "from astropy.coordinates import SkyCoord\n",
    "import numpy as np\n",
    "import aplpy\n",
    "from astropy.wcs import WCS\n",
    "from astropy.io import fits, ascii\n",
    "from astroquery.skyview import SkyView\n",
    "import sqlutil as sqlutil\n",
    "import doctest\n",
    "import math\n",
    "from astropy.table import Table\n",
    "from lens import Lens\n",
    "\n",
    "TGASLensId = 5332606518269523072\n",
    "data = Table.read('data/TGASppmxlpmcone.fits')"
   ]
  },
  {
   "cell_type": "code",
   "execution_count": 44,
   "metadata": {},
   "outputs": [
    {
     "name": "stdout",
     "output_type": "stream",
     "text": [
      "True\n",
      "     pmra    \n",
      "   mas / yr  \n",
      "-------------\n",
      "2662.03572627\n",
      "      ra     \n",
      "     deg     \n",
      "-------------\n",
      "176.454907296\n",
      "     dec      \n",
      "     deg      \n",
      "--------------\n",
      "-64.8429571355\n",
      "ref_epoch\n",
      "    yr   \n",
      "---------\n",
      "   2015.0\n"
     ]
    }
   ],
   "source": [
    "mask = (data['source_id'] == TGASLensId) & (data['pmRA_cone'] > 1000)\n",
    "#print(data[mask]['pmRA_cone'])\n",
    "#print(data[mask]['pmDE'])\n",
    "#print(data[mask]['PPMXL'][0] == 6197233462303993089)\n",
    "#print(data[mask]['PPMXL'])\n",
    "#print(data[mask]['RAJ2000'])\n",
    "#print(data[mask]['DEJ2000'])\n",
    "#print(data[mask]['e_pmRA'])\n",
    "\n",
    "#print(data[mask]['e_pmDE'])\n",
    "#print(data[mask]['r2mag'])\n",
    "print(int(data[mask]['PPMXL'])==6197233462303993089)\n",
    "\n",
    "print(data[mask]['pmra'])\n",
    "print(data[mask]['ra'])\n",
    "print(data[mask]['dec'])\n",
    "print(data[mask]['ref_epoch'])"
   ]
  },
  {
   "cell_type": "code",
   "execution_count": 45,
   "metadata": {},
   "outputs": [
    {
     "name": "stdout",
     "output_type": "stream",
     "text": [
      "67\n"
     ]
    }
   ],
   "source": [
    "6197233462303993089\n",
    "lensmask = data['source_id'] == TGASLensId\n",
    "lensdata = data[lensmask]\n",
    "\n",
    "pos = 0\n",
    "for i in range(0,len(lensdata['source_id'])):\n",
    "    \n",
    "    if (lensdata['PPMXL'][i] == '6197608744359075309'):\n",
    "        pos = i\n",
    "        \n",
    "print(pos)\n",
    "\n",
    "ppmxlLens = Lens(6197233462303993089,176.454907296,-64.8429571355,2662.03572627,-345.182555011,2015.0)"
   ]
  },
  {
   "cell_type": "code",
   "execution_count": 47,
   "metadata": {},
   "outputs": [
    {
     "name": "stdout",
     "output_type": "stream",
     "text": [
      "176.463694\n",
      "-64.843343\n",
      "2018.60370475\n"
     ]
    }
   ],
   "source": [
    "count = 0\n",
    "sourceRa = lensdata['RAJ2000'][pos]\n",
    "sourceDec = lensdata['DEJ2000'][pos]\n",
    "print(sourceRa)\n",
    "print(sourceDec)\n",
    "find = ppmxlLens.is_coord_in_box(sourceRa,sourceDec)\n",
    "        \n",
    "time = ppmxlLens.get_time_of_closest_app(sourceRa,sourceDec)     \n",
    "dist = ppmxlLens.get_angular_separation_at_epoch(time,sourceRa,sourceDec)   \n",
    "pos2000 = ppmxlLens.get_eq_coords_at_epoch(2000.0) \n",
    "\n",
    "print(time)\n",
    "        \n",
    "    "
   ]
  },
  {
   "cell_type": "code",
   "execution_count": 15,
   "metadata": {},
   "outputs": [
    {
     "name": "stdout",
     "output_type": "stream",
     "text": [
      "       PPMXL       \n",
      "-------------------\n",
      "4960880648547168891\n",
      "4983369299062312087\n",
      "5008981806092803141\n",
      "5009088286446913223\n",
      "5008819360114198793\n",
      "5009653708483338547\n",
      "5009653721917123673\n",
      "5009653719841790445\n",
      "5009653731597797679\n",
      "5009653355417317992\n",
      "                ...\n",
      "1030852646516076854\n",
      "1030342834540790867\n",
      "1029098128758543923\n",
      "1027700669421457067\n",
      "1027522241694212711\n",
      "1026886595494855161\n",
      "1015316642771889273\n",
      "1015316643555091514\n",
      "1015032616349807767\n",
      "1014774364655407630\n",
      "930812951056084288 \n",
      "Length = 16851 rows\n"
     ]
    }
   ],
   "source": [
    "print(data['PPMXL'])"
   ]
  },
  {
   "cell_type": "code",
   "execution_count": 4,
   "metadata": {},
   "outputs": [
    {
     "name": "stdout",
     "output_type": "stream",
     "text": [
      "     source_id            ra           dec             l             b           ecl_lon       ecl_lat        parallax        pmra         pmdec      phot_g_mean_mag ref_epoch    ra_error      dec_error    parallax_error   pmra_error     pmdec_error   astrometric_delta_q astrometric_excess_noise astrometric_excess_noise_sig astrometric_n_bad_obs_ac astrometric_n_bad_obs_al astrometric_n_good_obs_ac astrometric_n_good_obs_al astrometric_n_obs_ac astrometric_n_obs_al astrometric_primary_flag astrometric_priors_used astrometric_relegation_factor astrometric_weight_ac astrometric_weight_al dec_parallax_corr dec_pmdec_corr dec_pmra_corr duplicated_source  hip  matched_observations parallax_pmdec_corr parallax_pmra_corr phot_g_mean_flux phot_g_mean_flux_error phot_g_n_obs phot_variable_flag pmra_pmdec_corr ra_dec_corr random_index ra_parallax_corr ra_pmdec_corr ra_pmra_corr scan_direction_mean_k1 scan_direction_mean_k2 scan_direction_mean_k3 scan_direction_mean_k4 scan_direction_strength_k1 scan_direction_strength_k2 scan_direction_strength_k3 scan_direction_strength_k4     solution_id      tycho2_id      _r          PPMXL         RAJ2000    DEJ2000   pmRA_cone   pmDE     epRA    epDE  e_RAJ2000 e_DEJ2000  e_pmRA   e_pmDE   Jmag e_Jmag Hmag e_Hmag  Kmag e_Kmag b1mag b2mag r1mag r2mag imag Smags  No  fl  2M NOMAD     Separation   \n",
      "                         deg           deg            deg           deg            deg           deg            mas         mas / yr      mas / yr          mag           yr         mas            mas            mas          mas / yr        mas / yr                                  mas                                                                                                                                                                                                                                                                               1 / mas2              1 / mas2                                                                                                                                                e-/s                e-/s                                                                                                                                        deg                    deg                    deg                    deg                                                                                                                                                          deg                          deg        deg      mas / yr mas / yr    yr      yr      mas       mas    mas / yr mas / yr  mag   mag   mag   mag    mag   mag    mag   mag   mag   mag  mag                                 deg       \n",
      "------------------- ------------- -------------- ------------- -------------- ------------- -------------- ------------- ------------- -------------- --------------- --------- -------------- -------------- -------------- -------------- --------------- ------------------- ------------------------ ---------------------------- ------------------------ ------------------------ ------------------------- ------------------------- -------------------- -------------------- ------------------------ ----------------------- ----------------------------- --------------------- --------------------- ----------------- -------------- ------------- ----------------- ----- -------------------- ------------------- ------------------ ---------------- ---------------------- ------------ ------------------ --------------- ----------- ------------ ---------------- ------------- ------------ ---------------------- ---------------------- ---------------------- ---------------------- -------------------------- -------------------------- -------------------------- -------------------------- ------------------- ------------ ------- ------------------- ---------- ---------- --------- -------- ------- ------- --------- --------- -------- -------- ----- ------ ---- ------ ----- ------ ----- ----- ----- ----- ---- ----- --- --- --- ----- -----------------\n",
      "6745797509091648512 291.148588292 -31.9255542055 6.64524398237 -20.4892387883 288.104665177 -9.80590604846 13.2086064116 46.8667502814 -162.778420829   9.34922739469    2015.0 0.203723010736 0.485893566859 0.687601527413 0.108035709195 0.0673319358191             1.89251           0.527728718076                 132.80479654                        2                        0                        56                        58                   58                   58                        1                       3                       5.21162            1.9988e-05               3.28131         -0.938102       0.158716      0.183111                 0 95420                    8           -0.166578          -0.176558    2952684.65918          2273.75138688           58      NOT_AVAILABLE        -0.12802   -0.286745      1477613         0.457887    -0.0262533    -0.113145                -73.316               -41.5791               -45.8072                37.2137                   0.691284                   0.486923                   0.891053                   0.823328 1635378410781933568              0.00071 4960880648547168891 291.148357 -31.924872      46.7   -161.3 1991.06 1991.33         2         1      1.5      1.2 8.301  0.019 7.98  0.027 7.994   0.04  9.59 10.32  9.36   nan 9.66 -----  --   2  2M NOMAD 0.000709887814761\n"
     ]
    }
   ],
   "source": [
    "print(data)"
   ]
  },
  {
   "cell_type": "code",
   "execution_count": null,
   "metadata": {},
   "outputs": [],
   "source": []
  }
 ],
 "metadata": {
  "kernelspec": {
   "display_name": "Python 3",
   "language": "python",
   "name": "python3"
  },
  "language_info": {
   "codemirror_mode": {
    "name": "ipython",
    "version": 3
   },
   "file_extension": ".py",
   "mimetype": "text/x-python",
   "name": "python",
   "nbconvert_exporter": "python",
   "pygments_lexer": "ipython3",
   "version": "3.6.3"
  }
 },
 "nbformat": 4,
 "nbformat_minor": 2
}
