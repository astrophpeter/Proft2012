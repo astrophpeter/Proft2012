{
 "cells": [
  {
   "cell_type": "code",
   "execution_count": 6,
   "metadata": {},
   "outputs": [],
   "source": [
    "from astropy.table import Table\n",
    "from lens import Lens\n",
    "from astropy.io import fits\n",
    "import sqlutil as sqlutil \n",
    "import matplotlib.pyplot as plt\n",
    "import numpy as np\n",
    "from astropy.io import ascii\n",
    "import lensutils as util\n",
    "import numpy as np"
   ]
  },
  {
   "cell_type": "code",
   "execution_count": 5,
   "metadata": {},
   "outputs": [],
   "source": [
    "#TGASLensId = 5332606518269523072\n",
    "#querystringTGAS2massLens = 'select j_m,k_m,parallax,phot_g_mean_mag from gaia_dr1_aux.gaia_source_2mass_xm where source_id=' + str(TGASLensId)\n",
    "\n",
    "##JmagLens,kMagLens,parallaxLens,gMagLens = sqlutil.get(querystringTGAS2massLens,\n",
    " #                      db='wsdb',host='cappc127.ast.cam.ac.uk', user='peter_mcgill', password='Ln3g.wsk')"
   ]
  },
  {
   "cell_type": "code",
   "execution_count": 7,
   "metadata": {},
   "outputs": [
    {
     "name": "stdout",
     "output_type": "stream",
     "text": [
      "[-0.66645826  2.10158746  3.99037509 ...,  2.92345309  4.9552835\n",
      "  1.43015322]\n"
     ]
    },
    {
     "name": "stderr",
     "output_type": "stream",
     "text": [
      "/Library/Frameworks/Python.framework/Versions/3.6/lib/python3.6/site-packages/ipykernel_launcher.py:13: RuntimeWarning: invalid value encountered in log10\n",
      "  del sys.path[0]\n"
     ]
    }
   ],
   "source": [
    "querystringTGAS2mass= 'select j_m,k_m,parallax,phot_g_mean_mag from gaia_dr1_aux.gaia_source_2mass_xm limit 1000000'\n",
    "\n",
    "Jmag,kMag,parallax,gMag = sqlutil.get(querystringTGAS2mass,\n",
    "                       db='wsdb',host='cappc127.ast.cam.ac.uk', user='peter_mcgill', password='Ln3g.wsk')\n",
    "\n",
    "color = Jmag-kMag\n",
    "nanmask = np.isnan(parallax)\n",
    "\n",
    "colorf = color[~nanmask]\n",
    "parallaxf = parallax[~nanmask]\n",
    "gMagf = gMag[~nanmask]\n",
    "\n",
    "absmag = gMagf + 5 * (np.log10(parallaxf / 1000.0) + 1)\n",
    "\n",
    "print(absmag)"
   ]
  },
  {
   "cell_type": "code",
   "execution_count": 8,
   "metadata": {},
   "outputs": [
    {
     "data": {
      "image/png": "[encoded data removed]",
      "text/plain": [
       "<matplotlib.figure.Figure at 0x105a7d828>"
      ]
     },
     "metadata": {},
     "output_type": "display_data"
    }
   ],
   "source": [
    "plt.scatter(colorf,absmag)\n",
    "plt.ylim(15, -15)  # decreasing time\n",
    "plt.show()\n"
   ]
  },
  {
   "cell_type": "code",
   "execution_count": null,
   "metadata": {},
   "outputs": [],
   "source": []
  }
 ],
 "metadata": {
  "kernelspec": {
   "display_name": "Python 3",
   "language": "python",
   "name": "python3"
  },
  "language_info": {
   "codemirror_mode": {
    "name": "ipython",
    "version": 3
   },
   "file_extension": ".py",
   "mimetype": "text/x-python",
   "name": "python",
   "nbconvert_exporter": "python",
   "pygments_lexer": "ipython3",
   "version": "3.6.3"
  }
 },
 "nbformat": 4,
 "nbformat_minor": 2
}
